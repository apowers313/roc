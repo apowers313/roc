{
 "cells": [
  {
   "cell_type": "markdown",
   "metadata": {},
   "source": [
    "__[[FTName]](https://github.com/apowers313/roc/blob/master/experiments/[DATE_NOW('yyyy.MM.dd-HH.mm.ss')]-EXP-[FTName%paramcase]/[DATE_NOW('yyyy.MM.dd-HH.mm.ss')]-EXP-[FTName%paramcase].ipynb)__\n",
    "\n",
    "_Experiment Template v0.3.2_"
   ]
  },
  {
   "cell_type": "markdown",
   "metadata": {},
   "source": [
    "# System Information"
   ]
  },
  {
   "cell_type": "markdown",
   "metadata": {},
   "source": [
    "## Basic Info"
   ]
  },
  {
   "cell_type": "code",
   "execution_count": null,
   "metadata": {},
   "outputs": [],
   "source": [
    "# save notebook path before we get started\n",
    "import os\n",
    "\n",
    "notebook_path = os.path.abspath(\"\")  # not sure if this or os.getcwd() is more reliable"
   ]
  },
  {
   "cell_type": "code",
   "execution_count": null,
   "metadata": {},
   "outputs": [],
   "source": [
    "%cd /home/apowers/Projects/roc\n",
    "!date"
   ]
  },
  {
   "cell_type": "markdown",
   "metadata": {},
   "source": [
    "## GIT"
   ]
  },
  {
   "cell_type": "code",
   "execution_count": null,
   "metadata": {},
   "outputs": [],
   "source": [
    "!echo \"git hash:\" `git rev-parse HEAD`\n",
    "!echo \"git status:\"\n",
    "!git status -s | cat\n",
    "!echo"
   ]
  },
  {
   "cell_type": "markdown",
   "metadata": {},
   "source": [
    "## Python"
   ]
  },
  {
   "cell_type": "code",
   "execution_count": null,
   "metadata": {},
   "outputs": [],
   "source": [
    "!python --version\n",
    "!pip --version\n",
    "!echo \"installed packages:\"\n",
    "!pip list"
   ]
  },
  {
   "cell_type": "markdown",
   "metadata": {},
   "source": [
    "## System"
   ]
  },
  {
   "cell_type": "code",
   "execution_count": null,
   "metadata": {},
   "outputs": [],
   "source": [
    "!uname -a\n",
    "!echo\n",
    "!echo \"system cpus:\"\n",
    "!lscpu\n",
    "!echo\n",
    "!echo \"system memory:\"\n",
    "!lsmem\n",
    "!free"
   ]
  },
  {
   "cell_type": "markdown",
   "metadata": {},
   "source": []
  },
  {
   "cell_type": "markdown",
   "metadata": {},
   "source": [
    "# ROC Setup"
   ]
  },
  {
   "cell_type": "markdown",
   "metadata": {},
   "source": [
    "## ROC Config & Init"
   ]
  },
  {
   "cell_type": "code",
   "execution_count": null,
   "metadata": {},
   "outputs": [],
   "source": [
    "import roc\n",
    "\n",
    "!echo \".env file:\"\n",
    "!cat .env\n",
    "!echo\n",
    "\n",
    "# or:\n",
    "roc.init(\n",
    "    {\n",
    "        # \"log_modules\": \"graphdb:INFO;event:INFO;component:INFO\",\n",
    "        # \"status_update\": 50,\n",
    "        # \"enable_gym_dump_env\": True,\n",
    "        # \"max_dump_frames\": 10,\n",
    "        \"experiment_dir\": \"/home/apowers/Projects/roc/experiments/[DATE_NOW('yyyy.MM.dd-HH.mm.ss')]-EXP-[FTName%paramcase]/\",\n",
    "        \"dump_file\": f\"./experiments/[DATE_NOW('yyyy.MM.dd-HH.mm.ss')]-EXP-[FTName%paramcase]/env_dump-{datetime.now().strftime('%Y.%m.%d-%H.%M.%S')}.py\",\n",
    "    }\n",
    ")\n",
    "\n",
    "Config.print()"
   ]
  },
  {
   "cell_type": "markdown",
   "metadata": {},
   "source": [
    "## Import Paths"
   ]
  },
  {
   "cell_type": "code",
   "execution_count": null,
   "metadata": {},
   "outputs": [],
   "source": [
    "import sys\n",
    "\n",
    "sys.path.append(\"./tests\")"
   ]
  },
  {
   "cell_type": "markdown",
   "metadata": {},
   "source": [
    "# Experiment"
   ]
  },
  {
   "cell_type": "code",
   "execution_count": null,
   "metadata": {},
   "outputs": [],
   "source": [
    "%roc 0"
   ]
  }
 ],
 "metadata": {
  "kernelspec": {
   "display_name": ".venv",
   "language": "python",
   "name": "python3"
  },
  "language_info": {
   "codemirror_mode": {
    "name": "ipython",
    "version": 3
   },
   "file_extension": ".py",
   "mimetype": "text/x-python",
   "name": "python",
   "nbconvert_exporter": "python",
   "pygments_lexer": "ipython3",
   "version": "3.11.9"
  }
 },
 "nbformat": 4,
 "nbformat_minor": 2
}
