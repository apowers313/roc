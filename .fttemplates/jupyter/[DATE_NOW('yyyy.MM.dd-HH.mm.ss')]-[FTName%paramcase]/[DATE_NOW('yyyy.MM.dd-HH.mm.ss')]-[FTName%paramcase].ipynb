{
 "cells": [
  {
   "cell_type": "markdown",
   "metadata": {},
   "source": [
    "__[[FTName]](https://github.com/apowers313/roc/blob/master/experiments/[DATE_NOW('yyyy.MM.dd-HH.mm.ss')]-[FTName%paramcase]/[DATE_NOW('yyyy.MM.dd-HH.mm.ss')]-[FTName%paramcase].ipynb)__"
   ]
  },
  {
   "cell_type": "code",
   "execution_count": null,
   "metadata": {},
   "outputs": [],
   "source": [
    "!date"
   ]
  }
 ],
 "metadata": {
  "kernelspec": {
   "display_name": ".venv",
   "language": "python",
   "name": "python3"
  },
  "language_info": {
   "codemirror_mode": {
    "name": "ipython",
    "version": 3
   },
   "file_extension": ".py",
   "mimetype": "text/x-python",
   "name": "python",
   "nbconvert_exporter": "python",
   "pygments_lexer": "ipython3",
   "version": "3.11.9"
  }
 },
 "nbformat": 4,
 "nbformat_minor": 2
}
