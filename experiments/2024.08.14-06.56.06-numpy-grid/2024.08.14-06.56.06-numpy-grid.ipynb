{
 "cells": [
  {
   "cell_type": "markdown",
   "metadata": {},
   "source": [
    "__[numpy grid](https://github.com/apowers313/roc/blob/master/experiments/2024.08.14-06.56.06-numpy-grid/2024.08.14-06.56.06-numpy-grid.ipynb)__"
   ]
  },
  {
   "cell_type": "code",
   "execution_count": 1,
   "metadata": {},
   "outputs": [
    {
     "name": "stdout",
     "output_type": "stream",
     "text": [
      "Wed Aug 14 06:56:23 PDT 2024\n"
     ]
    }
   ],
   "source": [
    "!date"
   ]
  },
  {
   "cell_type": "code",
   "execution_count": 15,
   "metadata": {},
   "outputs": [
    {
     "name": "stdout",
     "output_type": "stream",
     "text": [
      "[[ 0  1  2  3  4]\n",
      " [ 5  6  7  8  9]\n",
      " [10 11 12 13 14]\n",
      " [15 16 17 18 19]]\n"
     ]
    }
   ],
   "source": [
    "import numpy as np\n",
    "\n",
    "a = np.arange(20).reshape((4, 5))\n",
    "print(a)"
   ]
  },
  {
   "cell_type": "code",
   "execution_count": 6,
   "metadata": {},
   "outputs": [
    {
     "name": "stdout",
     "output_type": "stream",
     "text": [
      "(0, 0) 0\n",
      "(0, 1) 5\n",
      "(0, 2) 10\n",
      "(0, 3) 15\n",
      "(1, 0) 1\n",
      "(1, 1) 6\n",
      "(1, 2) 11\n",
      "(1, 3) 16\n",
      "(2, 0) 2\n",
      "(2, 1) 7\n",
      "(2, 2) 12\n",
      "(2, 3) 17\n",
      "(3, 0) 3\n",
      "(3, 1) 8\n",
      "(3, 2) 13\n",
      "(3, 3) 18\n",
      "(4, 0) 4\n",
      "(4, 1) 9\n",
      "(4, 2) 14\n",
      "(4, 3) 19\n"
     ]
    }
   ],
   "source": [
    "for idx, v in np.ndenumerate(a.T):\n",
    "    print(idx, v)"
   ]
  },
  {
   "cell_type": "code",
   "execution_count": 7,
   "metadata": {},
   "outputs": [
    {
     "data": {
      "text/plain": [
       "'[[ 0  1  2  3  4]\\n [ 5  6  7  8  9]\\n [10 11 12 13 14]\\n [15 16 17 18 19]]'"
      ]
     },
     "execution_count": 7,
     "metadata": {},
     "output_type": "execute_result"
    }
   ],
   "source": [
    "str(a)"
   ]
  },
  {
   "cell_type": "markdown",
   "metadata": {},
   "source": [
    "# Metadata"
   ]
  },
  {
   "cell_type": "code",
   "execution_count": 8,
   "metadata": {},
   "outputs": [
    {
     "name": "stdout",
     "output_type": "stream",
     "text": [
      "dt.metadata[key] value\n",
      "arr.dtype.metadata {'key': 'value'}\n"
     ]
    }
   ],
   "source": [
    "# data type metadata\n",
    "# https://numpy.org/doc/stable/reference/generated/numpy.dtype.metadata.html\n",
    "\n",
    "dt = np.dtype(float, metadata={\"key\": \"value\"})\n",
    "print(\"dt.metadata[key]\", dt.metadata[\"key\"])\n",
    "\n",
    "arr = np.array([1, 2, 3], dtype=dt)\n",
    "arr.dtype.metadata\n",
    "print(\"arr.dtype.metadata\", arr.dtype.metadata)"
   ]
  },
  {
   "cell_type": "markdown",
   "metadata": {},
   "source": [
    "# Subclassing\n",
    "https://numpy.org/doc/stable/user/basics.subclassing.html\n",
    "\n",
    "Interoperability instead of Subclassing:\n",
    "https://numpy.org/doc/stable/user/basics.interoperability.html\n",
    "\n",
    "Pandas: https://stackoverflow.com/questions/14688306/adding-meta-information-metadata-to-pandas-dataframe"
   ]
  },
  {
   "cell_type": "code",
   "execution_count": 16,
   "metadata": {},
   "outputs": [],
   "source": [
    "class TestArray(np.ndarray):\n",
    "    @property\n",
    "    def groot(self):\n",
    "        print(\"I am groot\")"
   ]
  },
  {
   "cell_type": "code",
   "execution_count": 22,
   "metadata": {},
   "outputs": [
    {
     "name": "stdout",
     "output_type": "stream",
     "text": [
      "b [[ 0  1  2  3  4]\n",
      " [ 5  6  7  8  9]\n",
      " [10 11 12 13 14]\n",
      " [15 16 17 18 19]]\n",
      "I am groot\n",
      "a has no groot\n"
     ]
    }
   ],
   "source": [
    "b = a.view(TestArray)\n",
    "print(\"b\", b)\n",
    "b.groot\n",
    "\n",
    "try:\n",
    "    a.groot\n",
    "except Exception:\n",
    "    print(\"a has no groot\")"
   ]
  },
  {
   "cell_type": "code",
   "execution_count": 24,
   "metadata": {},
   "outputs": [
    {
     "name": "stdout",
     "output_type": "stream",
     "text": [
      "I am groot\n"
     ]
    }
   ],
   "source": [
    "c = b.copy()\n",
    "c.groot"
   ]
  },
  {
   "cell_type": "code",
   "execution_count": 28,
   "metadata": {},
   "outputs": [
    {
     "name": "stdout",
     "output_type": "stream",
     "text": [
      "[[ 5 10 15]\n",
      " [ 6 11 16]\n",
      " [ 7 12 17]\n",
      " [ 8 13 18]\n",
      " [ 9 14 19]]\n",
      "I am groot\n"
     ]
    }
   ],
   "source": [
    "d = b[1:].T\n",
    "print(d)\n",
    "d.groot"
   ]
  },
  {
   "cell_type": "code",
   "execution_count": 30,
   "metadata": {},
   "outputs": [
    {
     "data": {
      "text/plain": [
       "True"
      ]
     },
     "execution_count": 30,
     "metadata": {},
     "output_type": "execute_result"
    }
   ],
   "source": [
    "isinstance(d, TestArray)"
   ]
  },
  {
   "cell_type": "code",
   "execution_count": 35,
   "metadata": {},
   "outputs": [],
   "source": [
    "import numpy as np\n",
    "\n",
    "\n",
    "class InfoArray(np.ndarray):\n",
    "\n",
    "    def __new__(\n",
    "        subtype, shape, dtype=float, buffer=None, offset=0, strides=None, order=None, info=None\n",
    "    ):\n",
    "        print(\"InfoArray.__new__\")\n",
    "        # Create the ndarray instance of our type, given the usual\n",
    "        # ndarray input arguments.  This will call the standard\n",
    "        # ndarray constructor, but return an object of our type.\n",
    "        # It also triggers a call to InfoArray.__array_finalize__\n",
    "        obj = super().__new__(subtype, shape, dtype, buffer, offset, strides, order)\n",
    "        # set the new 'info' attribute to the value passed\n",
    "        obj.info = info\n",
    "        # Finally, we must return the newly created object:\n",
    "        return obj\n",
    "\n",
    "    def __array_finalize__(self, obj):\n",
    "        print(\"InfoArray.__array_finalize__\")\n",
    "        # ``self`` is a new object resulting from\n",
    "        # ndarray.__new__(InfoArray, ...), therefore it only has\n",
    "        # attributes that the ndarray.__new__ constructor gave it -\n",
    "        # i.e. those of a standard ndarray.\n",
    "        #\n",
    "        # We could have got to the ndarray.__new__ call in 3 ways:\n",
    "        # From an explicit constructor - e.g. InfoArray():\n",
    "        #    obj is None\n",
    "        #    (we're in the middle of the InfoArray.__new__\n",
    "        #    constructor, and self.info will be set when we return to\n",
    "        #    InfoArray.__new__)\n",
    "        if obj is None:\n",
    "            return\n",
    "        # From view casting - e.g arr.view(InfoArray):\n",
    "        #    obj is arr\n",
    "        #    (type(obj) can be InfoArray)\n",
    "        # From new-from-template - e.g infoarr[:3]\n",
    "        #    type(obj) is InfoArray\n",
    "        #\n",
    "        # Note that it is here, rather than in the __new__ method,\n",
    "        # that we set the default value for 'info', because this\n",
    "        # method sees all creation of default objects - with the\n",
    "        # InfoArray.__new__ constructor, but also with\n",
    "        # arr.view(InfoArray).\n",
    "        self.info = getattr(obj, \"info\", None)\n",
    "        # We do not need to return anything"
   ]
  },
  {
   "cell_type": "code",
   "execution_count": 40,
   "metadata": {},
   "outputs": [
    {
     "name": "stdout",
     "output_type": "stream",
     "text": [
      "--- explicit constructor ---\n",
      "InfoArray.__new__\n",
      "InfoArray.__array_finalize__\n",
      "obj: <class '__main__.InfoArray'> [1. 2. 3.]\n",
      "InfoArray.__new__\n",
      "InfoArray.__array_finalize__\n",
      "obj: <class '__main__.InfoArray'> [1. 2. 3.]\n",
      "obj info information\n",
      "\n",
      "--- new from template ---\n",
      "InfoArray.__array_finalize__\n",
      "v: <class '__main__.InfoArray'> [2. 3.]\n",
      "v info information\n",
      "\n",
      "--- view casting ---\n",
      "InfoArray.__array_finalize__\n",
      "cast_arr: <class '__main__.InfoArray'> [0 1 2 3 4 5 6 7 8 9]\n",
      "cast_arr info None\n"
     ]
    }
   ],
   "source": [
    "# explicit constructor\n",
    "print(\"--- explicit constructor ---\")\n",
    "obj = InfoArray(shape=(3,))\n",
    "print(\"obj:\", type(obj), obj)\n",
    "\n",
    "obj = InfoArray(shape=(3,), info=\"information\")\n",
    "print(\"obj:\", type(obj), obj)\n",
    "print(\"obj info\", obj.info)\n",
    "\n",
    "# new-from-template\n",
    "print(\"\\n--- new from template ---\")\n",
    "v = obj[1:]\n",
    "print(\"v:\", type(v), v)\n",
    "print(\"v info\", v.info)\n",
    "\n",
    "# view casting\n",
    "print(\"\\n--- view casting ---\")\n",
    "arr = np.arange(10)\n",
    "cast_arr = arr.view(InfoArray)\n",
    "print(\"cast_arr:\", type(cast_arr), cast_arr)\n",
    "print(\"cast_arr info\", cast_arr.info)"
   ]
  },
  {
   "cell_type": "code",
   "execution_count": 42,
   "metadata": {},
   "outputs": [],
   "source": [
    "import numpy as np\n",
    "\n",
    "\n",
    "class RealisticInfoArray(np.ndarray):\n",
    "\n",
    "    def __new__(cls, input_array, info=None):\n",
    "        print(\"RealisticInfoArray.__new__\")\n",
    "        # Input array is an already formed ndarray instance\n",
    "        # We first cast to be our class type\n",
    "        obj = np.asarray(input_array).view(cls)\n",
    "        # add the new attribute to the created instance\n",
    "        obj.info = info\n",
    "        # Finally, we must return the newly created object:\n",
    "        return obj\n",
    "\n",
    "    def __array_finalize__(self, obj):\n",
    "        print(\"RealisticInfoArray.__array_finalize__\")\n",
    "        # see InfoArray.__array_finalize__ for comments\n",
    "        if obj is None:\n",
    "            return\n",
    "        self.info = getattr(obj, \"info\", None)"
   ]
  },
  {
   "cell_type": "code",
   "execution_count": 44,
   "metadata": {},
   "outputs": [
    {
     "name": "stdout",
     "output_type": "stream",
     "text": [
      "RealisticInfoArray.__new__\n",
      "RealisticInfoArray.__array_finalize__\n",
      "obj: <class '__main__.RealisticInfoArray'> [0 1 2 3 4]\n",
      "obj info information\n",
      "\n",
      "--- new from template ---\n",
      "RealisticInfoArray.__array_finalize__\n",
      "v: <class '__main__.RealisticInfoArray'> [1 2 3 4]\n",
      "v info information\n",
      "\n",
      "--- view casting ---\n",
      "RealisticInfoArray.__array_finalize__\n",
      "cast_arr: <class '__main__.RealisticInfoArray'> [0 1 2 3 4 5 6 7 8 9]\n",
      "cast_arr info None\n"
     ]
    }
   ],
   "source": [
    "arr = np.arange(5)\n",
    "# creates ndarray from existing ndarray\n",
    "obj = RealisticInfoArray(arr, info=\"information\")\n",
    "print(\"obj:\", type(obj), obj)\n",
    "print(\"obj info\", obj.info)\n",
    "\n",
    "# new-from-template\n",
    "print(\"\\n--- new from template ---\")\n",
    "v = obj[1:]\n",
    "print(\"v:\", type(v), v)\n",
    "print(\"v info\", v.info)\n",
    "\n",
    "# view casting\n",
    "print(\"\\n--- view casting ---\")\n",
    "arr = np.arange(10)\n",
    "cast_arr = arr.view(RealisticInfoArray)\n",
    "print(\"cast_arr:\", type(cast_arr), cast_arr)\n",
    "print(\"cast_arr info\", cast_arr.info)"
   ]
  },
  {
   "cell_type": "markdown",
   "metadata": {},
   "source": [
    "# Typing\n",
    "- numpy.ndarray[Shape, DataType]\n",
    "- numpy.typing.NDArray[DataType] - any shape, specified type\n",
    "    - `NDArrayInt = npt.NDArray[np.int_]`\n",
    "- numpy.typing.ArrayLike - for converting lists, tuples, etc into ndarrays\n",
    "\n",
    "``` python\n",
    "def as_array(a: npt.ArrayLike) -> np.ndarray:\n",
    "    return np.array(a)\n",
    "```\n",
    "\n",
    "- numpy.typing.DTypeLike - for converting dtype-ish things into dtypes\n",
    "\n",
    "``` python\n",
    "def as_dtype(d: npt.DTypeLike) -> np.dtype:\n",
    "    return np.dtype(d)\n",
    "```"
   ]
  },
  {
   "cell_type": "code",
   "execution_count": 45,
   "metadata": {},
   "outputs": [],
   "source": []
  },
  {
   "cell_type": "markdown",
   "metadata": {},
   "source": [
    "# Iteration"
   ]
  },
  {
   "cell_type": "code",
   "execution_count": 6,
   "metadata": {},
   "outputs": [
    {
     "name": "stdout",
     "output_type": "stream",
     "text": [
      "<numpy.nditer object at 0x7f6d140ad390>\n",
      "v: 0\n",
      "v: 1\n",
      "v: 2\n",
      "v: 3\n",
      "v: 4\n",
      "v: 5\n",
      "v: 6\n",
      "v: 7\n",
      "v: 8\n",
      "v: 9\n",
      "v: 10\n",
      "v: 11\n",
      "v: 12\n",
      "v: 13\n",
      "v: 14\n",
      "v: 15\n",
      "v: 16\n",
      "v: 17\n",
      "v: 18\n",
      "v: 19\n"
     ]
    }
   ],
   "source": [
    "import numpy as np\n",
    "\n",
    "a = np.arange(20).reshape((4, 5))\n",
    "print(np.nditer(a))\n",
    "for v in np.nditer(a):\n",
    "    print(\"v:\", v)\n",
    "    # print(\"type v\", type(v))"
   ]
  },
  {
   "cell_type": "code",
   "execution_count": 17,
   "metadata": {},
   "outputs": [
    {
     "name": "stdout",
     "output_type": "stream",
     "text": [
      "it.multi_index (0, 0)\n",
      "x 0\n",
      "it.multi_index (0, 1)\n",
      "x 1\n",
      "it.multi_index (0, 2)\n",
      "x 2\n",
      "it.multi_index (0, 3)\n",
      "x 3\n",
      "it.multi_index (0, 4)\n",
      "x 4\n",
      "it.multi_index (1, 0)\n",
      "x 5\n",
      "it.multi_index (1, 1)\n",
      "x 6\n",
      "it.multi_index (1, 2)\n",
      "x 7\n",
      "it.multi_index (1, 3)\n",
      "x 8\n",
      "it.multi_index (1, 4)\n",
      "x 9\n",
      "it.multi_index (2, 0)\n",
      "x 10\n",
      "it.multi_index (2, 1)\n",
      "x 11\n",
      "it.multi_index (2, 2)\n",
      "x 12\n",
      "it.multi_index (2, 3)\n",
      "x 13\n",
      "it.multi_index (2, 4)\n",
      "x 14\n",
      "it.multi_index (3, 0)\n",
      "x 15\n",
      "it.multi_index (3, 1)\n",
      "x 16\n",
      "it.multi_index (3, 2)\n",
      "x 17\n",
      "it.multi_index (3, 3)\n",
      "x 18\n",
      "it.multi_index (3, 4)\n",
      "x 19\n"
     ]
    }
   ],
   "source": [
    "it = np.nditer(a, flags=[\"multi_index\"])\n",
    "for v in it:\n",
    "    print(\"it.multi_index\", it.multi_index)\n",
    "    x, y = it.multi_index\n",
    "    print(\"x\", a[x, y])"
   ]
  },
  {
   "cell_type": "code",
   "execution_count": 4,
   "metadata": {},
   "outputs": [
    {
     "name": "stdout",
     "output_type": "stream",
     "text": [
      "9\n",
      "[[ 0  1  2  3  4  5  6  7  8  9]\n",
      " [10 11 12 13 14 15 16 17 18 19]]\n"
     ]
    }
   ],
   "source": [
    "import numpy as np\n",
    "\n",
    "a = np.arange(20).reshape((2, 10))\n",
    "print(a[0, 9])\n",
    "print(a)"
   ]
  }
 ],
 "metadata": {
  "kernelspec": {
   "display_name": ".venv",
   "language": "python",
   "name": "python3"
  },
  "language_info": {
   "codemirror_mode": {
    "name": "ipython",
    "version": 3
   },
   "file_extension": ".py",
   "mimetype": "text/x-python",
   "name": "python",
   "nbconvert_exporter": "python",
   "pygments_lexer": "ipython3",
   "version": "3.11.9"
  }
 },
 "nbformat": 4,
 "nbformat_minor": 2
}
