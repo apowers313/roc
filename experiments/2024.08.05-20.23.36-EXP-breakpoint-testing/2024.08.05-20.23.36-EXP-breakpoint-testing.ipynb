{
 "cells": [
  {
   "cell_type": "markdown",
   "metadata": {},
   "source": [
    "__[breakpoint testing](https://github.com/apowers313/roc/blob/master/experiments/2024.08.05-20.23.36-EXP-breakpoint-testing/2024.08.05-20.23.36-EXP-breakpoint-testing.ipynb)__\n",
    "\n",
    "_Experiment Template v0.2.1_"
   ]
  },
  {
   "cell_type": "markdown",
   "metadata": {},
   "source": [
    "# System Information"
   ]
  },
  {
   "cell_type": "markdown",
   "metadata": {},
   "source": [
    "## Basic Info"
   ]
  },
  {
   "cell_type": "code",
   "execution_count": 1,
   "metadata": {},
   "outputs": [
    {
     "name": "stdout",
     "output_type": "stream",
     "text": [
      "/home/apowers/Projects/roc\n",
      "Mon Aug  5 22:35:47 PDT 2024\n"
     ]
    }
   ],
   "source": [
    "%cd /home/apowers/Projects/roc\n",
    "!date"
   ]
  },
  {
   "cell_type": "markdown",
   "metadata": {},
   "source": [
    "## GIT"
   ]
  },
  {
   "cell_type": "code",
   "execution_count": 2,
   "metadata": {},
   "outputs": [
    {
     "name": "stdout",
     "output_type": "stream",
     "text": [
      "git hash: 810686023bffefa90bc3e38c55b41f8e208399bc\n",
      "git status:\n",
      " M .fttemplates/roc_experiment/[DATE_NOW('yyyy.MM.dd-HH.mm.ss')]-EXP-[FTName%paramcase]/[DATE_NOW('yyyy.MM.dd-HH.mm.ss')]-EXP-[FTName%paramcase].ipynb\n",
      " M roc/__init__.py\n",
      " M roc/attention.py\n",
      " M roc/feature_extractors/__init__.py\n",
      " M tests/attention_test.py\n",
      "?? ARCHITECTURE.md\n",
      "?? experiments/2024.08.05-20.23.36-EXP-breakpoint-testing/\n",
      "?? roc/feature_extractors/contains.py\n",
      "?? roc/feature_extractors/ratio.py\n",
      "?? roc/feature_extractors/shape.py\n",
      "?? roc/jupyter/\n",
      "\n"
     ]
    }
   ],
   "source": [
    "!echo \"git hash:\" `git rev-parse HEAD`\n",
    "!echo \"git status:\"\n",
    "!git status -s | cat\n",
    "!echo"
   ]
  },
  {
   "cell_type": "markdown",
   "metadata": {},
   "source": [
    "## Python"
   ]
  },
  {
   "cell_type": "code",
   "execution_count": 3,
   "metadata": {},
   "outputs": [
    {
     "name": "stdout",
     "output_type": "stream",
     "text": [
      "Python 3.11.9\n",
      "pip 23.1.2 from /home/apowers/Projects/roc/.venv/lib/python3.11/site-packages/pip (python 3.11)\n",
      "installed packages:\n",
      "Package                       Version           Editable project location\n",
      "----------------------------- ----------------- --------------------------\n",
      "alabaster                     0.7.16\n",
      "annotated-types               0.7.0\n",
      "astroid                       3.2.4\n",
      "asttokens                     2.4.1\n",
      "attrs                         24.1.0\n",
      "Babel                         2.15.0\n",
      "bandit                        1.7.9\n",
      "black                         24.8.0\n",
      "cachetools                    5.4.0\n",
      "caerus                        0.1.10\n",
      "certifi                       2024.7.4\n",
      "cfgv                          3.4.0\n",
      "chardet                       5.2.0\n",
      "charset-normalizer            3.3.2\n",
      "click                         8.1.7\n",
      "cloudpickle                   3.0.0\n",
      "colorama                      0.4.6\n",
      "colored                       2.2.4\n",
      "comm                          0.2.2\n",
      "contourpy                     1.2.1\n",
      "coverage                      7.6.0\n",
      "coverage-badge                1.1.2\n",
      "cuda-python                   12.6.0\n",
      "cupy-cuda12x                  13.2.0\n",
      "cycler                        0.12.1\n",
      "darglint                      1.8.1\n",
      "debugpy                       1.8.3\n",
      "decorator                     5.1.1\n",
      "deptry                        0.12.0\n",
      "dill                          0.3.8\n",
      "distlib                       0.3.8\n",
      "docutils                      0.21.2\n",
      "dparse                        0.6.3\n",
      "executing                     2.0.1\n",
      "fastjsonschema                2.20.0\n",
      "fastrlock                     0.8.2\n",
      "filelock                      3.15.4\n",
      "findpeaks                     2.6.4\n",
      "fonttools                     4.53.1\n",
      "ghp-import                    2.1.0\n",
      "gprof2dot                     2024.6.6\n",
      "GPUtil                        1.4.0\n",
      "griffe                        0.48.0\n",
      "gym                           0.23.0\n",
      "gym-notices                   0.0.8\n",
      "icecream                      2.1.3\n",
      "identify                      2.6.0\n",
      "idna                          3.7\n",
      "imageio                       2.34.2\n",
      "imagesize                     1.4.1\n",
      "iniconfig                     2.0.0\n",
      "interrogate                   1.7.0\n",
      "ipykernel                     6.29.5\n",
      "ipympl                        0.9.4\n",
      "ipython                       8.26.0\n",
      "ipython-genutils              0.2.0\n",
      "ipywidgets                    8.1.3\n",
      "isort                         5.13.2\n",
      "jedi                          0.19.1\n",
      "Jinja2                        3.1.4\n",
      "joblib                        1.4.2\n",
      "json-fix                      0.5.2\n",
      "jsonschema                    4.23.0\n",
      "jsonschema-specifications     2023.12.1\n",
      "jupyter_client                8.6.2\n",
      "jupyter_core                  5.7.2\n",
      "jupyterlab_widgets            3.0.11\n",
      "kiwisolver                    1.4.5\n",
      "lazy_loader                   0.4\n",
      "livereload                    2.7.0\n",
      "llvmlite                      0.43.0\n",
      "loguru                        0.7.2\n",
      "Markdown                      3.6\n",
      "markdown-it-py                3.0.0\n",
      "MarkupSafe                    2.1.5\n",
      "marshmallow                   3.21.3\n",
      "matplotlib                    3.9.1\n",
      "matplotlib-inline             0.1.7\n",
      "mccabe                        0.7.0\n",
      "mdurl                         0.1.2\n",
      "mergedeep                     1.3.4\n",
      "mkdocs                        1.6.0\n",
      "mkdocs-autorefs               1.0.1\n",
      "mkdocs-gen-files              0.5.0\n",
      "mkdocs-get-deps               0.2.0\n",
      "mkdocs-literate-nav           0.6.1\n",
      "mkdocs-material               9.5.31\n",
      "mkdocs-material-extensions    1.3.1\n",
      "mkdocstrings                  0.22.0\n",
      "mkdocstrings-python           1.8.0\n",
      "mypy                          1.11.1\n",
      "mypy-extensions               1.0.0\n",
      "nbformat                      5.10.4\n",
      "nest-asyncio                  1.6.0\n",
      "networkx                      3.3\n",
      "networkx-gdf                  1.3.3\n",
      "nle                           0.9.0+7228844\n",
      "nodeenv                       1.9.1\n",
      "numba                         0.60.0\n",
      "numpy                         1.26.4\n",
      "nx-cugraph-cu12               24.6.1\n",
      "nx-parallel                   0.2\n",
      "opencv-python                 4.10.0.84\n",
      "packaging                     24.1\n",
      "paginate                      0.5.6\n",
      "pandas                        2.2.2\n",
      "parso                         0.8.4\n",
      "pathspec                      0.12.1\n",
      "pbr                           6.0.0\n",
      "pexpect                       4.9.0\n",
      "pickleshare                   0.7.5\n",
      "pillow                        10.4.0\n",
      "pip                           23.1.2\n",
      "platformdirs                  4.2.2\n",
      "plotly                        5.23.0\n",
      "pluggy                        1.5.0\n",
      "pre-commit                    3.8.0\n",
      "prompt_toolkit                3.0.47\n",
      "psutil                        6.0.0\n",
      "ptyprocess                    0.7.0\n",
      "pure_eval                     0.2.3\n",
      "py                            1.11.0\n",
      "pybind11                      2.13.1\n",
      "pydantic                      2.8.2\n",
      "pydantic_core                 2.20.1\n",
      "pydantic-settings             2.4.0\n",
      "pydocstyle                    6.3.0\n",
      "Pygments                      2.18.0\n",
      "pylibcugraph-cu12             24.6.1\n",
      "pylibraft-cu12                24.6.0\n",
      "pylint                        3.2.6\n",
      "pymdown-extensions            10.9\n",
      "pymgclient                    1.3.1\n",
      "pyparsing                     3.1.2\n",
      "pytest                        8.3.2\n",
      "pytest-cov                    4.1.0\n",
      "pytest-emoji                  0.2.0\n",
      "pytest-html                   3.2.0\n",
      "pytest-metadata               3.1.1\n",
      "pytest-mock                   3.14.0\n",
      "pytest-profiling              1.7.0\n",
      "python-dateutil               2.9.0.post0\n",
      "python-dotenv                 1.0.1\n",
      "pytz                          2024.1\n",
      "pyupgrade                     3.17.0\n",
      "PyYAML                        6.0.1\n",
      "pyyaml_env_tag                0.1\n",
      "pyzmq                         26.1.0\n",
      "reactivex                     4.0.4\n",
      "referencing                   0.35.1\n",
      "regex                         2024.7.24\n",
      "requests                      2.32.3\n",
      "rich                          13.7.1\n",
      "rmm-cu12                      24.6.0\n",
      "roc                           0.1.0             /home/apowers/Projects/roc\n",
      "rpds-py                       0.19.1\n",
      "ruamel.yaml                   0.18.6\n",
      "ruamel.yaml.clib              0.2.8\n",
      "ruff                          0.4.10\n",
      "safety                        2.4.0b2\n",
      "scikit-image                  0.24.0\n",
      "scipy                         1.14.0\n",
      "setuptools                    72.1.0\n",
      "six                           1.16.0\n",
      "snowballstemmer               2.2.0\n",
      "Sphinx                        7.4.7\n",
      "sphinx-autobuild              2021.3.14\n",
      "sphinxcontrib-applehelp       2.0.0\n",
      "sphinxcontrib-devhelp         2.0.0\n",
      "sphinxcontrib-htmlhelp        2.1.0\n",
      "sphinxcontrib-jsmath          1.0.1\n",
      "sphinxcontrib-qthelp          2.0.0\n",
      "sphinxcontrib-serializinghtml 2.0.0\n",
      "stack-data                    0.6.3\n",
      "stevedore                     5.2.0\n",
      "tabulate                      0.9.0\n",
      "tenacity                      9.0.0\n",
      "tifffile                      2024.7.24\n",
      "tokenize-rt                   5.2.0\n",
      "tomlkit                       0.13.0\n",
      "tornado                       6.4.1\n",
      "tqdm                          4.66.5\n",
      "traitlets                     5.14.3\n",
      "types-cachetools              5.4.0.20240717\n",
      "types-decorator               5.1.8.20240310\n",
      "types-Markdown                3.6.0.20240316\n",
      "types-pytz                    2024.1.0.20240417\n",
      "types-PyYAML                  6.0.12.20240724\n",
      "types-six                     1.16.21.20240513\n",
      "types-tabulate                0.9.0.20240106\n",
      "typing_extensions             4.12.2\n",
      "tzdata                        2024.1\n",
      "urllib3                       2.2.2\n",
      "virtualenv                    20.26.3\n",
      "watchdog                      4.0.1\n",
      "wcwidth                       0.2.13\n",
      "wget                          3.2\n",
      "wheel                         0.40.0\n",
      "widgetsnbextension            4.0.11\n",
      "xarray                        2024.7.0\n",
      "\u001b[33mWARNING: There was an error checking the latest version of pip.\u001b[0m\u001b[33m\n",
      "\u001b[0m"
     ]
    }
   ],
   "source": [
    "!python --version\n",
    "!pip --version\n",
    "!echo \"installed packages:\"\n",
    "!pip list"
   ]
  },
  {
   "cell_type": "markdown",
   "metadata": {},
   "source": [
    "## System"
   ]
  },
  {
   "cell_type": "code",
   "execution_count": 4,
   "metadata": {},
   "outputs": [
    {
     "name": "stdout",
     "output_type": "stream",
     "text": [
      "Linux 02e84e9639d5 5.15.0-116-generic #126-Ubuntu SMP Mon Jul 1 10:14:24 UTC 2024 x86_64 x86_64 x86_64 GNU/Linux\n",
      "\n",
      "system cpus:\n",
      "Architecture:             x86_64\n",
      "  CPU op-mode(s):         32-bit, 64-bit\n",
      "  Address sizes:          46 bits physical, 48 bits virtual\n",
      "  Byte Order:             Little Endian\n",
      "CPU(s):                   32\n",
      "  On-line CPU(s) list:    0-31\n",
      "Vendor ID:                GenuineIntel\n",
      "  Model name:             Intel(R) Xeon(R) Gold 6134 CPU @ 3.20GHz\n",
      "    CPU family:           6\n",
      "    Model:                85\n",
      "    Thread(s) per core:   2\n",
      "    Core(s) per socket:   8\n",
      "    Socket(s):            2\n",
      "    Stepping:             4\n",
      "    CPU max MHz:          3700.0000\n",
      "    CPU min MHz:          1200.0000\n",
      "    BogoMIPS:             6400.00\n",
      "    Flags:                fpu vme de pse tsc msr pae mce cx8 apic sep mtrr pge m\n",
      "                          ca cmov pat pse36 clflush dts acpi mmx fxsr sse sse2 s\n",
      "                          s ht tm pbe syscall nx pdpe1gb rdtscp lm constant_tsc \n",
      "                          art arch_perfmon pebs bts rep_good nopl xtopology nons\n",
      "                          top_tsc cpuid aperfmperf pni pclmulqdq dtes64 monitor \n",
      "                          ds_cpl vmx smx est tm2 ssse3 sdbg fma cx16 xtpr pdcm p\n",
      "                          cid dca sse4_1 sse4_2 x2apic movbe popcnt tsc_deadline\n",
      "                          _timer aes xsave avx f16c rdrand lahf_lm abm 3dnowpref\n",
      "                          etch cpuid_fault epb cat_l3 cdp_l3 invpcid_single pti \n",
      "                          intel_ppin ssbd mba ibrs ibpb stibp tpr_shadow vnmi fl\n",
      "                          expriority ept vpid ept_ad fsgsbase tsc_adjust bmi1 hl\n",
      "                          e avx2 smep bmi2 erms invpcid rtm cqm mpx rdt_a avx512\n",
      "                          f avx512dq rdseed adx smap clflushopt clwb intel_pt av\n",
      "                          x512cd avx512bw avx512vl xsaveopt xsavec xgetbv1 xsave\n",
      "                          s cqm_llc cqm_occup_llc cqm_mbm_total cqm_mbm_local dt\n",
      "                          herm ida arat pln pts pku ospke md_clear flush_l1d arc\n",
      "                          h_capabilities\n",
      "Virtualization features:  \n",
      "  Virtualization:         VT-x\n",
      "Caches (sum of all):      \n",
      "  L1d:                    512 KiB (16 instances)\n",
      "  L1i:                    512 KiB (16 instances)\n",
      "  L2:                     16 MiB (16 instances)\n",
      "  L3:                     49.5 MiB (2 instances)\n",
      "NUMA:                     \n",
      "  NUMA node(s):           2\n",
      "  NUMA node0 CPU(s):      0,2,4,6,8,10,12,14,16,18,20,22,24,26,28,30\n",
      "  NUMA node1 CPU(s):      1,3,5,7,9,11,13,15,17,19,21,23,25,27,29,31\n",
      "Vulnerabilities:          \n",
      "  Gather data sampling:   Mitigation; Microcode\n",
      "  Itlb multihit:          KVM: Mitigation: VMX disabled\n",
      "  L1tf:                   Mitigation; PTE Inversion; VMX conditional cache flush\n",
      "                          es, SMT vulnerable\n",
      "  Mds:                    Mitigation; Clear CPU buffers; SMT vulnerable\n",
      "  Meltdown:               Mitigation; PTI\n",
      "  Mmio stale data:        Mitigation; Clear CPU buffers; SMT vulnerable\n",
      "  Reg file data sampling: Not affected\n",
      "  Retbleed:               Mitigation; IBRS\n",
      "  Spec rstack overflow:   Not affected\n",
      "  Spec store bypass:      Mitigation; Speculative Store Bypass disabled via prct\n",
      "                          l and seccomp\n",
      "  Spectre v1:             Mitigation; usercopy/swapgs barriers and __user pointe\n",
      "                          r sanitization\n",
      "  Spectre v2:             Mitigation; IBRS; IBPB conditional; STIBP conditional;\n",
      "                           RSB filling; PBRSB-eIBRS Not affected; BHI Not affect\n",
      "                          ed\n",
      "  Srbds:                  Not affected\n",
      "  Tsx async abort:        Mitigation; Clear CPU buffers; SMT vulnerable\n",
      "\n",
      "system memory:\n",
      "RANGE                                  SIZE  STATE REMOVABLE BLOCK\n",
      "0x0000000000000000-0x000000007fffffff    2G online       yes     0\n",
      "0x0000000100000000-0x000000207fffffff  126G online       yes  2-64\n",
      "\n",
      "Memory block size:         2G\n",
      "Total online memory:     128G\n",
      "Total offline memory:      0B\n",
      "               total        used        free      shared  buff/cache   available\n",
      "Mem:       131608992     2086284   116563168        5724    12959540   128446480\n",
      "Swap:        8388604           0     8388604\n"
     ]
    }
   ],
   "source": [
    "!uname -a\n",
    "!echo\n",
    "!echo \"system cpus:\"\n",
    "!lscpu\n",
    "!echo\n",
    "!echo \"system memory:\"\n",
    "!lsmem\n",
    "!free"
   ]
  },
  {
   "cell_type": "markdown",
   "metadata": {},
   "source": []
  },
  {
   "cell_type": "markdown",
   "metadata": {},
   "source": [
    "# ROC Setup"
   ]
  },
  {
   "cell_type": "markdown",
   "metadata": {},
   "source": [
    "## ROC Config & Init"
   ]
  },
  {
   "cell_type": "code",
   "execution_count": 5,
   "metadata": {},
   "outputs": [
    {
     "name": "stdout",
     "output_type": "stream",
     "text": [
      ".env file:\n",
      "log_modules=\"graphdb:INFO;event:INFO\"\n",
      "jupyter environment found\n",
      "jupyter magics loaded\n",
      "config:\n",
      "db_host='127.0.0.1' db_port=7687 db_conn_encrypted=False db_username='' db_password='' db_lazy=False node_cache_size=65536 edge_cache_size=65536 log_enable=True log_level='INFO' log_modules='graphdb:INFO;event:INFO' default_action='pass' perception_components=['delta:perception'] enable_gym_dump_env=False max_dump_frames=10 nethack_spectrum='chars'\n"
     ]
    }
   ],
   "source": [
    "import roc\n",
    "\n",
    "!echo \".env file:\"\n",
    "!cat .env\n",
    "!echo\n",
    "\n",
    "roc.init()\n",
    "# or:\n",
    "# roc.init({\"setting\": val})\n",
    "\n",
    "print(f\"config:\\n{roc.Config.get()}\")  # noqa: T201"
   ]
  },
  {
   "cell_type": "markdown",
   "metadata": {},
   "source": [
    "## Import Paths"
   ]
  },
  {
   "cell_type": "code",
   "execution_count": 6,
   "metadata": {},
   "outputs": [],
   "source": [
    "import sys\n",
    "\n",
    "sys.path.append(\"./tests\")"
   ]
  },
  {
   "cell_type": "markdown",
   "metadata": {},
   "source": [
    "# Experiment"
   ]
  },
  {
   "cell_type": "code",
   "execution_count": 7,
   "metadata": {},
   "outputs": [
    {
     "name": "stdout",
     "output_type": "stream",
     "text": [
      "Full access to the main IPython object: <ipykernel.zmqshell.ZMQInteractiveShell object at 0x7f6df8392e90>\n",
      "Variables in the user namespace: ['__name__', '__doc__', '__package__', '__loader__', '__spec__', '__builtin__', '__builtins__', '_ih', '_oh', '_dh', 'In', 'Out', 'get_ipython', 'exit', 'quit', 'open', '_', '__', '___', '__vsc_ipynb_file__', '_i', '_ii', '_iii', '_i1', '_exit_code', '_i2', '_i3', '_i4', '_i5', 'roc', '_i6', 'sys', '_i7']\n"
     ]
    },
    {
     "data": {
      "text/plain": [
       "''"
      ]
     },
     "execution_count": 7,
     "metadata": {},
     "output_type": "execute_result"
    }
   ],
   "source": [
    "# %load_ext roc.jupyter\n",
    "%lmagic"
   ]
  }
 ],
 "metadata": {
  "kernelspec": {
   "display_name": ".venv",
   "language": "python",
   "name": "python3"
  },
  "language_info": {
   "codemirror_mode": {
    "name": "ipython",
    "version": 3
   },
   "file_extension": ".py",
   "mimetype": "text/x-python",
   "name": "python",
   "nbconvert_exporter": "python",
   "pygments_lexer": "ipython3",
   "version": "3.11.9"
  }
 },
 "nbformat": 4,
 "nbformat_minor": 2
}
