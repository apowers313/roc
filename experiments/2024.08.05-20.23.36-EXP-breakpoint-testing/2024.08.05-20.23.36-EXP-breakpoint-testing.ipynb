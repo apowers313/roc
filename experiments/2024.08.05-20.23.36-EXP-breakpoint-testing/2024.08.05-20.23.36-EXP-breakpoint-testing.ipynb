{
 "cells": [
  {
   "cell_type": "markdown",
   "metadata": {},
   "source": [
    "__[breakpoint testing](https://github.com/apowers313/roc/blob/master/experiments/2024.08.05-20.23.36-EXP-breakpoint-testing/2024.08.05-20.23.36-EXP-breakpoint-testing.ipynb)__\n",
    "\n",
    "_Experiment Template v0.2.1_"
   ]
  },
  {
   "cell_type": "markdown",
   "metadata": {},
   "source": [
    "# System Information"
   ]
  },
  {
   "cell_type": "markdown",
   "metadata": {},
   "source": [
    "## Basic Info"
   ]
  },
  {
   "cell_type": "code",
   "execution_count": 1,
   "metadata": {},
   "outputs": [
    {
     "name": "stdout",
     "output_type": "stream",
     "text": [
      "/home/apowers/Projects/roc\n",
      "Wed Aug  7 21:35:45 PDT 2024\n"
     ]
    }
   ],
   "source": [
    "%cd /home/apowers/Projects/roc\n",
    "!date"
   ]
  },
  {
   "cell_type": "markdown",
   "metadata": {},
   "source": [
    "## GIT"
   ]
  },
  {
   "cell_type": "code",
   "execution_count": 2,
   "metadata": {},
   "outputs": [
    {
     "name": "stdout",
     "output_type": "stream",
     "text": [
      "git hash: b35fc8bb7c48ee030bea4d24a5e45b73b3bdd118\n",
      "git status:\n",
      " M experiments/2024.08.05-20.23.36-EXP-breakpoint-testing/2024.08.05-20.23.36-EXP-breakpoint-testing.ipynb\n",
      " M roc/__init__.py\n",
      " M roc/attention.py\n",
      " M roc/breakpoint.py\n",
      " M roc/gymnasium.py\n",
      " M roc/jupyter/__init__.py\n",
      " M roc/script.py\n",
      " M tests/attention_test.py\n",
      " M tests/breakpoint_test.py\n",
      "?? ARCHITECTURE.md\n",
      "?? roc/feature_extractors/contains.py\n",
      "?? roc/feature_extractors/ratio.py\n",
      "?? roc/feature_extractors/shape.py\n",
      "?? roc/jupyter/brk.py\n",
      "?? roc/jupyter/cont.py\n",
      "?? roc/jupyter/roc.py\n",
      "?? roc/jupyter/save.py\n",
      "?? roc/jupyter/status.py\n",
      "?? roc/jupyter/step.py\n",
      "?? roc/jupyter/utils.py\n",
      "\n"
     ]
    }
   ],
   "source": [
    "!echo \"git hash:\" `git rev-parse HEAD`\n",
    "!echo \"git status:\"\n",
    "!git status -s | cat\n",
    "!echo"
   ]
  },
  {
   "cell_type": "markdown",
   "metadata": {},
   "source": [
    "## Python"
   ]
  },
  {
   "cell_type": "code",
   "execution_count": 3,
   "metadata": {},
   "outputs": [
    {
     "name": "stdout",
     "output_type": "stream",
     "text": [
      "Python 3.11.9\n",
      "pip 23.1.2 from /home/apowers/Projects/roc/.venv/lib/python3.11/site-packages/pip (python 3.11)\n",
      "installed packages:\n",
      "Package                       Version           Editable project location\n",
      "----------------------------- ----------------- --------------------------\n",
      "alabaster                     0.7.16\n",
      "annotated-types               0.7.0\n",
      "astroid                       3.2.4\n",
      "asttokens                     2.4.1\n",
      "attrs                         24.1.0\n",
      "Babel                         2.15.0\n",
      "bandit                        1.7.9\n",
      "black                         24.8.0\n",
      "cachetools                    5.4.0\n",
      "caerus                        0.1.10\n",
      "certifi                       2024.7.4\n",
      "cfgv                          3.4.0\n",
      "chardet                       5.2.0\n",
      "charset-normalizer            3.3.2\n",
      "click                         8.1.7\n",
      "cloudpickle                   3.0.0\n",
      "colorama                      0.4.6\n",
      "colored                       2.2.4\n",
      "comm                          0.2.2\n",
      "contourpy                     1.2.1\n",
      "coverage                      7.6.0\n",
      "coverage-badge                1.1.2\n",
      "cuda-python                   12.6.0\n",
      "cupy-cuda12x                  13.2.0\n",
      "cycler                        0.12.1\n",
      "darglint                      1.8.1\n",
      "debugpy                       1.8.3\n",
      "decorator                     5.1.1\n",
      "deptry                        0.12.0\n",
      "dill                          0.3.8\n",
      "distlib                       0.3.8\n",
      "docutils                      0.21.2\n",
      "dparse                        0.6.3\n",
      "executing                     2.0.1\n",
      "fastjsonschema                2.20.0\n",
      "fastrlock                     0.8.2\n",
      "filelock                      3.15.4\n",
      "findpeaks                     2.6.4\n",
      "fonttools                     4.53.1\n",
      "ghp-import                    2.1.0\n",
      "gprof2dot                     2024.6.6\n",
      "GPUtil                        1.4.0\n",
      "griffe                        0.48.0\n",
      "gym                           0.23.0\n",
      "gym-notices                   0.0.8\n",
      "icecream                      2.1.3\n",
      "identify                      2.6.0\n",
      "idna                          3.7\n",
      "imageio                       2.34.2\n",
      "imagesize                     1.4.1\n",
      "iniconfig                     2.0.0\n",
      "interrogate                   1.7.0\n",
      "ipykernel                     6.29.5\n",
      "ipympl                        0.9.4\n",
      "ipython                       8.26.0\n",
      "ipython-genutils              0.2.0\n",
      "ipywidgets                    8.1.3\n",
      "isort                         5.13.2\n",
      "jedi                          0.19.1\n",
      "Jinja2                        3.1.4\n",
      "joblib                        1.4.2\n",
      "json-fix                      0.5.2\n",
      "jsonschema                    4.23.0\n",
      "jsonschema-specifications     2023.12.1\n",
      "jupyter_client                8.6.2\n",
      "jupyter_core                  5.7.2\n",
      "jupyterlab_widgets            3.0.11\n",
      "kiwisolver                    1.4.5\n",
      "lazy_loader                   0.4\n",
      "livereload                    2.7.0\n",
      "llvmlite                      0.43.0\n",
      "loguru                        0.7.2\n",
      "Markdown                      3.6\n",
      "markdown-it-py                3.0.0\n",
      "MarkupSafe                    2.1.5\n",
      "marshmallow                   3.21.3\n",
      "matplotlib                    3.9.1\n",
      "matplotlib-inline             0.1.7\n",
      "mccabe                        0.7.0\n",
      "mdurl                         0.1.2\n",
      "mergedeep                     1.3.4\n",
      "mkdocs                        1.6.0\n",
      "mkdocs-autorefs               1.0.1\n",
      "mkdocs-gen-files              0.5.0\n",
      "mkdocs-get-deps               0.2.0\n",
      "mkdocs-literate-nav           0.6.1\n",
      "mkdocs-material               9.5.31\n",
      "mkdocs-material-extensions    1.3.1\n",
      "mkdocstrings                  0.22.0\n",
      "mkdocstrings-python           1.8.0\n",
      "mypy                          1.11.1\n",
      "mypy-extensions               1.0.0\n",
      "nbformat                      5.10.4\n",
      "nest-asyncio                  1.6.0\n",
      "networkx                      3.3\n",
      "networkx-gdf                  1.3.3\n",
      "nle                           0.9.0+7228844\n",
      "nodeenv                       1.9.1\n",
      "numba                         0.60.0\n",
      "numpy                         1.26.4\n",
      "nx-cugraph-cu12               24.6.1\n",
      "nx-parallel                   0.2\n",
      "opencv-python                 4.10.0.84\n",
      "packaging                     24.1\n",
      "paginate                      0.5.6\n",
      "pandas                        2.2.2\n",
      "parso                         0.8.4\n",
      "pathspec                      0.12.1\n",
      "pbr                           6.0.0\n",
      "pexpect                       4.9.0\n",
      "pickleshare                   0.7.5\n",
      "pillow                        10.4.0\n",
      "pip                           23.1.2\n",
      "platformdirs                  4.2.2\n",
      "plotly                        5.23.0\n",
      "pluggy                        1.5.0\n",
      "pre-commit                    3.8.0\n",
      "prompt_toolkit                3.0.47\n",
      "psutil                        6.0.0\n",
      "ptyprocess                    0.7.0\n",
      "pure_eval                     0.2.3\n",
      "py                            1.11.0\n",
      "pybind11                      2.13.1\n",
      "pydantic                      2.8.2\n",
      "pydantic_core                 2.20.1\n",
      "pydantic-settings             2.4.0\n",
      "pydocstyle                    6.3.0\n",
      "Pygments                      2.18.0\n",
      "pylibcugraph-cu12             24.6.1\n",
      "pylibraft-cu12                24.6.0\n",
      "pylint                        3.2.6\n",
      "pymdown-extensions            10.9\n",
      "pymgclient                    1.3.1\n",
      "pyparsing                     3.1.2\n",
      "pytest                        8.3.2\n",
      "pytest-cov                    4.1.0\n",
      "pytest-emoji                  0.2.0\n",
      "pytest-html                   3.2.0\n",
      "pytest-metadata               3.1.1\n",
      "pytest-mock                   3.14.0\n",
      "pytest-profiling              1.7.0\n",
      "python-dateutil               2.9.0.post0\n",
      "python-dotenv                 1.0.1\n",
      "pytz                          2024.1\n",
      "pyupgrade                     3.17.0\n",
      "PyYAML                        6.0.1\n",
      "pyyaml_env_tag                0.1\n",
      "pyzmq                         26.1.0\n",
      "reactivex                     4.0.4\n",
      "referencing                   0.35.1\n",
      "regex                         2024.7.24\n",
      "requests                      2.32.3\n",
      "rich                          13.7.1\n",
      "rmm-cu12                      24.6.0\n",
      "roc                           0.1.0             /home/apowers/Projects/roc\n",
      "rpds-py                       0.19.1\n",
      "ruamel.yaml                   0.18.6\n",
      "ruamel.yaml.clib              0.2.8\n",
      "ruff                          0.4.10\n",
      "safety                        2.4.0b2\n",
      "scikit-image                  0.24.0\n",
      "scipy                         1.14.0\n",
      "setuptools                    72.1.0\n",
      "six                           1.16.0\n",
      "snowballstemmer               2.2.0\n",
      "Sphinx                        7.4.7\n",
      "sphinx-autobuild              2021.3.14\n",
      "sphinxcontrib-applehelp       2.0.0\n",
      "sphinxcontrib-devhelp         2.0.0\n",
      "sphinxcontrib-htmlhelp        2.1.0\n",
      "sphinxcontrib-jsmath          1.0.1\n",
      "sphinxcontrib-qthelp          2.0.0\n",
      "sphinxcontrib-serializinghtml 2.0.0\n",
      "stack-data                    0.6.3\n",
      "stevedore                     5.2.0\n",
      "tabulate                      0.9.0\n",
      "tenacity                      9.0.0\n",
      "tifffile                      2024.7.24\n",
      "tokenize-rt                   5.2.0\n",
      "tomlkit                       0.13.0\n",
      "tornado                       6.4.1\n",
      "tqdm                          4.66.5\n",
      "traitlets                     5.14.3\n",
      "types-cachetools              5.4.0.20240717\n",
      "types-decorator               5.1.8.20240310\n",
      "types-Markdown                3.6.0.20240316\n",
      "types-pytz                    2024.1.0.20240417\n",
      "types-PyYAML                  6.0.12.20240724\n",
      "types-six                     1.16.21.20240513\n",
      "types-tabulate                0.9.0.20240106\n",
      "typing_extensions             4.12.2\n",
      "tzdata                        2024.1\n",
      "urllib3                       2.2.2\n",
      "virtualenv                    20.26.3\n",
      "watchdog                      4.0.1\n",
      "wcwidth                       0.2.13\n",
      "wget                          3.2\n",
      "wheel                         0.40.0\n",
      "widgetsnbextension            4.0.11\n",
      "xarray                        2024.7.0\n",
      "\u001b[33mWARNING: There was an error checking the latest version of pip.\u001b[0m\u001b[33m\n",
      "\u001b[0m"
     ]
    }
   ],
   "source": [
    "!python --version\n",
    "!pip --version\n",
    "!echo \"installed packages:\"\n",
    "!pip list"
   ]
  },
  {
   "cell_type": "markdown",
   "metadata": {},
   "source": [
    "## System"
   ]
  },
  {
   "cell_type": "code",
   "execution_count": 4,
   "metadata": {},
   "outputs": [
    {
     "name": "stdout",
     "output_type": "stream",
     "text": [
      "Linux 1a85bb2fd22d 5.15.0-116-generic #126-Ubuntu SMP Mon Jul 1 10:14:24 UTC 2024 x86_64 x86_64 x86_64 GNU/Linux\n",
      "\n",
      "system cpus:\n",
      "Architecture:             x86_64\n",
      "  CPU op-mode(s):         32-bit, 64-bit\n",
      "  Address sizes:          46 bits physical, 48 bits virtual\n",
      "  Byte Order:             Little Endian\n",
      "CPU(s):                   32\n",
      "  On-line CPU(s) list:    0-31\n",
      "Vendor ID:                GenuineIntel\n",
      "  Model name:             Intel(R) Xeon(R) Gold 6134 CPU @ 3.20GHz\n",
      "    CPU family:           6\n",
      "    Model:                85\n",
      "    Thread(s) per core:   2\n",
      "    Core(s) per socket:   8\n",
      "    Socket(s):            2\n",
      "    Stepping:             4\n",
      "    CPU max MHz:          3700.0000\n",
      "    CPU min MHz:          1200.0000\n",
      "    BogoMIPS:             6400.00\n",
      "    Flags:                fpu vme de pse tsc msr pae mce cx8 apic sep mtrr pge m\n",
      "                          ca cmov pat pse36 clflush dts acpi mmx fxsr sse sse2 s\n",
      "                          s ht tm pbe syscall nx pdpe1gb rdtscp lm constant_tsc \n",
      "                          art arch_perfmon pebs bts rep_good nopl xtopology nons\n",
      "                          top_tsc cpuid aperfmperf pni pclmulqdq dtes64 monitor \n",
      "                          ds_cpl vmx smx est tm2 ssse3 sdbg fma cx16 xtpr pdcm p\n",
      "                          cid dca sse4_1 sse4_2 x2apic movbe popcnt tsc_deadline\n",
      "                          _timer aes xsave avx f16c rdrand lahf_lm abm 3dnowpref\n",
      "                          etch cpuid_fault epb cat_l3 cdp_l3 invpcid_single pti \n",
      "                          intel_ppin ssbd mba ibrs ibpb stibp tpr_shadow vnmi fl\n",
      "                          expriority ept vpid ept_ad fsgsbase tsc_adjust bmi1 hl\n",
      "                          e avx2 smep bmi2 erms invpcid rtm cqm mpx rdt_a avx512\n",
      "                          f avx512dq rdseed adx smap clflushopt clwb intel_pt av\n",
      "                          x512cd avx512bw avx512vl xsaveopt xsavec xgetbv1 xsave\n",
      "                          s cqm_llc cqm_occup_llc cqm_mbm_total cqm_mbm_local dt\n",
      "                          herm ida arat pln pts pku ospke md_clear flush_l1d arc\n",
      "                          h_capabilities\n",
      "Virtualization features:  \n",
      "  Virtualization:         VT-x\n",
      "Caches (sum of all):      \n",
      "  L1d:                    512 KiB (16 instances)\n",
      "  L1i:                    512 KiB (16 instances)\n",
      "  L2:                     16 MiB (16 instances)\n",
      "  L3:                     49.5 MiB (2 instances)\n",
      "NUMA:                     \n",
      "  NUMA node(s):           2\n",
      "  NUMA node0 CPU(s):      0,2,4,6,8,10,12,14,16,18,20,22,24,26,28,30\n",
      "  NUMA node1 CPU(s):      1,3,5,7,9,11,13,15,17,19,21,23,25,27,29,31\n",
      "Vulnerabilities:          \n",
      "  Gather data sampling:   Mitigation; Microcode\n",
      "  Itlb multihit:          KVM: Mitigation: VMX disabled\n",
      "  L1tf:                   Mitigation; PTE Inversion; VMX conditional cache flush\n",
      "                          es, SMT vulnerable\n",
      "  Mds:                    Mitigation; Clear CPU buffers; SMT vulnerable\n",
      "  Meltdown:               Mitigation; PTI\n",
      "  Mmio stale data:        Mitigation; Clear CPU buffers; SMT vulnerable\n",
      "  Reg file data sampling: Not affected\n",
      "  Retbleed:               Mitigation; IBRS\n",
      "  Spec rstack overflow:   Not affected\n",
      "  Spec store bypass:      Mitigation; Speculative Store Bypass disabled via prct\n",
      "                          l and seccomp\n",
      "  Spectre v1:             Mitigation; usercopy/swapgs barriers and __user pointe\n",
      "                          r sanitization\n",
      "  Spectre v2:             Mitigation; IBRS; IBPB conditional; STIBP conditional;\n",
      "                           RSB filling; PBRSB-eIBRS Not affected; BHI Not affect\n",
      "                          ed\n",
      "  Srbds:                  Not affected\n",
      "  Tsx async abort:        Mitigation; Clear CPU buffers; SMT vulnerable\n",
      "\n",
      "system memory:\n",
      "RANGE                                  SIZE  STATE REMOVABLE BLOCK\n",
      "0x0000000000000000-0x000000007fffffff    2G online       yes     0\n",
      "0x0000000100000000-0x000000207fffffff  126G online       yes  2-64\n",
      "\n",
      "Memory block size:         2G\n",
      "Total online memory:     128G\n",
      "Total offline memory:      0B\n",
      "               total        used        free      shared  buff/cache   available\n",
      "Mem:       131608992     2020468   108260628        5712    21327896   128512312\n",
      "Swap:        8388604           0     8388604\n"
     ]
    }
   ],
   "source": [
    "!uname -a\n",
    "!echo\n",
    "!echo \"system cpus:\"\n",
    "!lscpu\n",
    "!echo\n",
    "!echo \"system memory:\"\n",
    "!lsmem\n",
    "!free"
   ]
  },
  {
   "cell_type": "markdown",
   "metadata": {},
   "source": []
  },
  {
   "cell_type": "markdown",
   "metadata": {},
   "source": [
    "# ROC Setup"
   ]
  },
  {
   "cell_type": "markdown",
   "metadata": {},
   "source": [
    "## ROC Config & Init"
   ]
  },
  {
   "cell_type": "code",
   "execution_count": 5,
   "metadata": {},
   "outputs": [
    {
     "name": "stdout",
     "output_type": "stream",
     "text": [
      ".env file:\n",
      "log_modules=\"graphdb:INFO;event:INFO\"\n",
      "config:\n",
      "db_host='127.0.0.1' db_port=7687 db_conn_encrypted=False db_username='' db_password='' db_lazy=False node_cache_size=65536 edge_cache_size=65536 log_enable=True log_level='INFO' log_modules='graphdb:INFO;event:INFO' default_action='pass' perception_components=['delta:perception'] enable_gym_dump_env=False max_dump_frames=10 nethack_spectrum='chars'\n"
     ]
    }
   ],
   "source": [
    "import roc\n",
    "\n",
    "!echo \".env file:\"\n",
    "!cat .env\n",
    "!echo\n",
    "\n",
    "roc.init()\n",
    "# or:\n",
    "# roc.init({\"setting\": val})\n",
    "\n",
    "print(f\"config:\\n{roc.Config.get()}\")  # noqa: T201"
   ]
  },
  {
   "cell_type": "markdown",
   "metadata": {},
   "source": [
    "## Import Paths"
   ]
  },
  {
   "cell_type": "code",
   "execution_count": 6,
   "metadata": {},
   "outputs": [],
   "source": [
    "import sys\n",
    "\n",
    "sys.path.append(\"./tests\")"
   ]
  },
  {
   "cell_type": "markdown",
   "metadata": {},
   "source": [
    "# Experiment"
   ]
  },
  {
   "cell_type": "markdown",
   "metadata": {},
   "source": [
    "## Magics"
   ]
  },
  {
   "cell_type": "code",
   "execution_count": null,
   "metadata": {},
   "outputs": [],
   "source": [
    "# %load_ext roc.jupyter\n",
    "%brk"
   ]
  },
  {
   "cell_type": "code",
   "execution_count": null,
   "metadata": {},
   "outputs": [],
   "source": [
    "%brk list"
   ]
  },
  {
   "cell_type": "code",
   "execution_count": null,
   "metadata": {},
   "outputs": [],
   "source": [
    "def my_brk():\n",
    "    return True\n",
    "\n",
    "%brk add my_brk\n",
    "%brk list"
   ]
  },
  {
   "cell_type": "code",
   "execution_count": null,
   "metadata": {},
   "outputs": [],
   "source": [
    "%brk remove my_brk\n",
    "%brk list"
   ]
  },
  {
   "cell_type": "code",
   "execution_count": null,
   "metadata": {},
   "outputs": [],
   "source": [
    "%brk list\n",
    "%brk clear\n",
    "%brk list\n"
   ]
  },
  {
   "cell_type": "markdown",
   "metadata": {},
   "source": [
    "## ROC Controlled Breaking"
   ]
  },
  {
   "cell_type": "code",
   "execution_count": 7,
   "metadata": {},
   "outputs": [
    {
     "name": "stderr",
     "output_type": "stream",
     "text": [
      "/home/apowers/Projects/roc/roc/config.py:72: ConfigInitWarning: Config already initialized, returning existing configuration.\n",
      "  warnings.warn(\n",
      "\u001b[32m2024-08-07 21:36:06.156\u001b[0m | \u001b[1mINFO    \u001b[0m | \u001b[36m__main__\u001b[0m:\u001b[36mthrd\u001b[0m:\u001b[36m14\u001b[0m - \u001b[1mdoing something: 0...\u001b[0m\n"
     ]
    },
    {
     "name": "stderr",
     "output_type": "stream",
     "text": [
      "\u001b[32m2024-08-07 21:36:07.159\u001b[0m | \u001b[1mINFO    \u001b[0m | \u001b[36m__main__\u001b[0m:\u001b[36mthrd\u001b[0m:\u001b[36m14\u001b[0m - \u001b[1mdoing something: 1...\u001b[0m\n",
      "\u001b[32m2024-08-07 21:36:08.160\u001b[0m | \u001b[1mINFO    \u001b[0m | \u001b[36m__main__\u001b[0m:\u001b[36mthrd\u001b[0m:\u001b[36m14\u001b[0m - \u001b[1mdoing something: 2...\u001b[0m\n",
      "\u001b[32m2024-08-07 21:36:09.161\u001b[0m | \u001b[1mINFO    \u001b[0m | \u001b[36m__main__\u001b[0m:\u001b[36mthrd\u001b[0m:\u001b[36m14\u001b[0m - \u001b[1mdoing something: 3...\u001b[0m\n",
      "\u001b[32m2024-08-07 21:36:10.163\u001b[0m | \u001b[1mINFO    \u001b[0m | \u001b[36m__main__\u001b[0m:\u001b[36mthrd\u001b[0m:\u001b[36m14\u001b[0m - \u001b[1mdoing something: 4...\u001b[0m\n",
      "\u001b[32m2024-08-07 21:36:11.164\u001b[0m | \u001b[1mINFO    \u001b[0m | \u001b[36m__main__\u001b[0m:\u001b[36mthrd\u001b[0m:\u001b[36m14\u001b[0m - \u001b[1mdoing something: 5...\u001b[0m\n",
      "\u001b[32m2024-08-07 21:36:14.007\u001b[0m | \u001b[1mINFO    \u001b[0m | \u001b[36mroc.breakpoint\u001b[0m:\u001b[36mcheck\u001b[0m:\u001b[36m143\u001b[0m - \u001b[1mbreak done, continuing operations...\u001b[0m\n",
      "\u001b[32m2024-08-07 21:36:14.008\u001b[0m | \u001b[1mINFO    \u001b[0m | \u001b[36m__main__\u001b[0m:\u001b[36mthrd\u001b[0m:\u001b[36m14\u001b[0m - \u001b[1mdoing something: 6...\u001b[0m\n",
      "\u001b[32m2024-08-07 21:36:15.010\u001b[0m | \u001b[1mINFO    \u001b[0m | \u001b[36mroc.breakpoint\u001b[0m:\u001b[36mdo_break\u001b[0m:\u001b[36m120\u001b[0m - \u001b[1mbreaking due to: step\u001b[0m\n",
      "\u001b[32m2024-08-07 21:36:16.388\u001b[0m | \u001b[1mINFO    \u001b[0m | \u001b[36mroc.breakpoint\u001b[0m:\u001b[36mcheck\u001b[0m:\u001b[36m143\u001b[0m - \u001b[1mbreak done, continuing operations...\u001b[0m\n",
      "\u001b[32m2024-08-07 21:36:16.391\u001b[0m | \u001b[1mINFO    \u001b[0m | \u001b[36m__main__\u001b[0m:\u001b[36mthrd\u001b[0m:\u001b[36m14\u001b[0m - \u001b[1mdoing something: 7...\u001b[0m\n",
      "\u001b[32m2024-08-07 21:36:17.393\u001b[0m | \u001b[1mINFO    \u001b[0m | \u001b[36m__main__\u001b[0m:\u001b[36mthrd\u001b[0m:\u001b[36m14\u001b[0m - \u001b[1mdoing something: 8...\u001b[0m\n",
      "\u001b[32m2024-08-07 21:36:18.395\u001b[0m | \u001b[1mINFO    \u001b[0m | \u001b[36m__main__\u001b[0m:\u001b[36mthrd\u001b[0m:\u001b[36m14\u001b[0m - \u001b[1mdoing something: 9...\u001b[0m\n",
      "\u001b[32m2024-08-07 21:36:19.397\u001b[0m | \u001b[1mINFO    \u001b[0m | \u001b[36m__main__\u001b[0m:\u001b[36mthrd\u001b[0m:\u001b[36m14\u001b[0m - \u001b[1mdoing something: 10...\u001b[0m\n",
      "\u001b[32m2024-08-07 21:36:20.399\u001b[0m | \u001b[1mINFO    \u001b[0m | \u001b[36m__main__\u001b[0m:\u001b[36mthrd\u001b[0m:\u001b[36m14\u001b[0m - \u001b[1mdoing something: 11...\u001b[0m\n",
      "\u001b[32m2024-08-07 21:36:21.401\u001b[0m | \u001b[1mINFO    \u001b[0m | \u001b[36m__main__\u001b[0m:\u001b[36mthrd\u001b[0m:\u001b[36m14\u001b[0m - \u001b[1mdoing something: 12...\u001b[0m\n",
      "\u001b[32m2024-08-07 21:36:22.402\u001b[0m | \u001b[1mINFO    \u001b[0m | \u001b[36m__main__\u001b[0m:\u001b[36mthrd\u001b[0m:\u001b[36m14\u001b[0m - \u001b[1mdoing something: 13...\u001b[0m\n",
      "\u001b[32m2024-08-07 21:36:23.404\u001b[0m | \u001b[1mINFO    \u001b[0m | \u001b[36m__main__\u001b[0m:\u001b[36mthrd\u001b[0m:\u001b[36m14\u001b[0m - \u001b[1mdoing something: 14...\u001b[0m\n",
      "\u001b[32m2024-08-07 21:36:24.406\u001b[0m | \u001b[1mINFO    \u001b[0m | \u001b[36m__main__\u001b[0m:\u001b[36mthrd\u001b[0m:\u001b[36m14\u001b[0m - \u001b[1mdoing something: 15...\u001b[0m\n",
      "\u001b[32m2024-08-07 21:36:25.407\u001b[0m | \u001b[1mINFO    \u001b[0m | \u001b[36m__main__\u001b[0m:\u001b[36mthrd\u001b[0m:\u001b[36m14\u001b[0m - \u001b[1mdoing something: 16...\u001b[0m\n",
      "\u001b[32m2024-08-07 21:36:26.409\u001b[0m | \u001b[1mINFO    \u001b[0m | \u001b[36mroc.breakpoint\u001b[0m:\u001b[36mdo_break\u001b[0m:\u001b[36m120\u001b[0m - \u001b[1mbreaking due to: step\u001b[0m\n",
      "\u001b[32m2024-08-07 21:36:36.968\u001b[0m | \u001b[1mINFO    \u001b[0m | \u001b[36mroc.breakpoint\u001b[0m:\u001b[36mcheck\u001b[0m:\u001b[36m143\u001b[0m - \u001b[1mbreak done, continuing operations...\u001b[0m\n",
      "\u001b[32m2024-08-07 21:36:36.971\u001b[0m | \u001b[1mINFO    \u001b[0m | \u001b[36m__main__\u001b[0m:\u001b[36mthrd\u001b[0m:\u001b[36m14\u001b[0m - \u001b[1mdoing something: 17...\u001b[0m\n",
      "\u001b[32m2024-08-07 21:36:40.372\u001b[0m | \u001b[1mINFO    \u001b[0m | \u001b[36mroc.breakpoint\u001b[0m:\u001b[36mcheck\u001b[0m:\u001b[36m143\u001b[0m - \u001b[1mbreak done, continuing operations...\u001b[0m\n",
      "\u001b[32m2024-08-07 21:36:40.378\u001b[0m | \u001b[1mINFO    \u001b[0m | \u001b[36m__main__\u001b[0m:\u001b[36mthrd\u001b[0m:\u001b[36m14\u001b[0m - \u001b[1mdoing something: 18...\u001b[0m\n",
      "\u001b[32m2024-08-07 21:36:44.358\u001b[0m | \u001b[1mINFO    \u001b[0m | \u001b[36mroc.breakpoint\u001b[0m:\u001b[36mcheck\u001b[0m:\u001b[36m143\u001b[0m - \u001b[1mbreak done, continuing operations...\u001b[0m\n",
      "\u001b[32m2024-08-07 21:36:44.390\u001b[0m | \u001b[1mINFO    \u001b[0m | \u001b[36m__main__\u001b[0m:\u001b[36mthrd\u001b[0m:\u001b[36m14\u001b[0m - \u001b[1mdoing something: 19...\u001b[0m\n",
      "\u001b[32m2024-08-07 21:36:45.419\u001b[0m | \u001b[1mINFO    \u001b[0m | \u001b[36m__main__\u001b[0m:\u001b[36mthrd\u001b[0m:\u001b[36m14\u001b[0m - \u001b[1mdoing something: 20...\u001b[0m\n",
      "\u001b[32m2024-08-07 21:36:46.449\u001b[0m | \u001b[1mINFO    \u001b[0m | \u001b[36m__main__\u001b[0m:\u001b[36mthrd\u001b[0m:\u001b[36m14\u001b[0m - \u001b[1mdoing something: 21...\u001b[0m\n",
      "\u001b[32m2024-08-07 21:36:47.480\u001b[0m | \u001b[1mINFO    \u001b[0m | \u001b[36m__main__\u001b[0m:\u001b[36mthrd\u001b[0m:\u001b[36m14\u001b[0m - \u001b[1mdoing something: 22...\u001b[0m\n",
      "\u001b[32m2024-08-07 21:36:48.539\u001b[0m | \u001b[1mINFO    \u001b[0m | \u001b[36m__main__\u001b[0m:\u001b[36mthrd\u001b[0m:\u001b[36m14\u001b[0m - \u001b[1mdoing something: 23...\u001b[0m\n",
      "\u001b[32m2024-08-07 21:36:49.554\u001b[0m | \u001b[1mINFO    \u001b[0m | \u001b[36m__main__\u001b[0m:\u001b[36mthrd\u001b[0m:\u001b[36m14\u001b[0m - \u001b[1mdoing something: 24...\u001b[0m\n",
      "\u001b[32m2024-08-07 21:36:50.590\u001b[0m | \u001b[1mINFO    \u001b[0m | \u001b[36m__main__\u001b[0m:\u001b[36mthrd\u001b[0m:\u001b[36m14\u001b[0m - \u001b[1mdoing something: 25...\u001b[0m\n",
      "\u001b[32m2024-08-07 21:36:51.610\u001b[0m | \u001b[1mINFO    \u001b[0m | \u001b[36m__main__\u001b[0m:\u001b[36mthrd\u001b[0m:\u001b[36m14\u001b[0m - \u001b[1mdoing something: 26...\u001b[0m\n",
      "\u001b[32m2024-08-07 21:36:52.652\u001b[0m | \u001b[1mINFO    \u001b[0m | \u001b[36m__main__\u001b[0m:\u001b[36mthrd\u001b[0m:\u001b[36m14\u001b[0m - \u001b[1mdoing something: 27...\u001b[0m\n",
      "\u001b[32m2024-08-07 21:36:53.662\u001b[0m | \u001b[1mINFO    \u001b[0m | \u001b[36m__main__\u001b[0m:\u001b[36mthrd\u001b[0m:\u001b[36m14\u001b[0m - \u001b[1mdoing something: 28...\u001b[0m\n",
      "\u001b[32m2024-08-07 21:36:54.685\u001b[0m | \u001b[1mINFO    \u001b[0m | \u001b[36m__main__\u001b[0m:\u001b[36mthrd\u001b[0m:\u001b[36m14\u001b[0m - \u001b[1mdoing something: 29...\u001b[0m\n",
      "\u001b[32m2024-08-07 21:36:55.753\u001b[0m | \u001b[1mINFO    \u001b[0m | \u001b[36m__main__\u001b[0m:\u001b[36mthrd\u001b[0m:\u001b[36m14\u001b[0m - \u001b[1mdoing something: 30...\u001b[0m\n",
      "\u001b[32m2024-08-07 21:36:56.782\u001b[0m | \u001b[1mINFO    \u001b[0m | \u001b[36m__main__\u001b[0m:\u001b[36mthrd\u001b[0m:\u001b[36m14\u001b[0m - \u001b[1mdoing something: 31...\u001b[0m\n",
      "\u001b[32m2024-08-07 21:36:57.819\u001b[0m | \u001b[1mINFO    \u001b[0m | \u001b[36m__main__\u001b[0m:\u001b[36mthrd\u001b[0m:\u001b[36m14\u001b[0m - \u001b[1mdoing something: 32...\u001b[0m\n",
      "\u001b[32m2024-08-07 21:36:58.878\u001b[0m | \u001b[1mINFO    \u001b[0m | \u001b[36m__main__\u001b[0m:\u001b[36mthrd\u001b[0m:\u001b[36m14\u001b[0m - \u001b[1mdoing something: 33...\u001b[0m\n",
      "\u001b[32m2024-08-07 21:36:59.909\u001b[0m | \u001b[1mINFO    \u001b[0m | \u001b[36m__main__\u001b[0m:\u001b[36mthrd\u001b[0m:\u001b[36m14\u001b[0m - \u001b[1mdoing something: 34...\u001b[0m\n",
      "\u001b[32m2024-08-07 21:37:00.945\u001b[0m | \u001b[1mINFO    \u001b[0m | \u001b[36m__main__\u001b[0m:\u001b[36mthrd\u001b[0m:\u001b[36m14\u001b[0m - \u001b[1mdoing something: 35...\u001b[0m\n",
      "\u001b[32m2024-08-07 21:37:02.000\u001b[0m | \u001b[1mINFO    \u001b[0m | \u001b[36m__main__\u001b[0m:\u001b[36mthrd\u001b[0m:\u001b[36m14\u001b[0m - \u001b[1mdoing something: 36...\u001b[0m\n",
      "\u001b[32m2024-08-07 21:37:03.020\u001b[0m | \u001b[1mINFO    \u001b[0m | \u001b[36m__main__\u001b[0m:\u001b[36mthrd\u001b[0m:\u001b[36m14\u001b[0m - \u001b[1mdoing something: 37...\u001b[0m\n",
      "\u001b[32m2024-08-07 21:37:04.046\u001b[0m | \u001b[1mINFO    \u001b[0m | \u001b[36m__main__\u001b[0m:\u001b[36mthrd\u001b[0m:\u001b[36m14\u001b[0m - \u001b[1mdoing something: 38...\u001b[0m\n",
      "\u001b[32m2024-08-07 21:37:05.058\u001b[0m | \u001b[1mINFO    \u001b[0m | \u001b[36m__main__\u001b[0m:\u001b[36mthrd\u001b[0m:\u001b[36m14\u001b[0m - \u001b[1mdoing something: 39...\u001b[0m\n",
      "\u001b[32m2024-08-07 21:37:06.060\u001b[0m | \u001b[1mINFO    \u001b[0m | \u001b[36m__main__\u001b[0m:\u001b[36mthrd\u001b[0m:\u001b[36m14\u001b[0m - \u001b[1mdoing something: 40...\u001b[0m\n",
      "\u001b[32m2024-08-07 21:37:07.061\u001b[0m | \u001b[1mINFO    \u001b[0m | \u001b[36m__main__\u001b[0m:\u001b[36mthrd\u001b[0m:\u001b[36m14\u001b[0m - \u001b[1mdoing something: 41...\u001b[0m\n",
      "\u001b[32m2024-08-07 21:37:08.063\u001b[0m | \u001b[1mINFO    \u001b[0m | \u001b[36m__main__\u001b[0m:\u001b[36mthrd\u001b[0m:\u001b[36m14\u001b[0m - \u001b[1mdoing something: 42...\u001b[0m\n",
      "\u001b[32m2024-08-07 21:37:09.065\u001b[0m | \u001b[1mINFO    \u001b[0m | \u001b[36m__main__\u001b[0m:\u001b[36mthrd\u001b[0m:\u001b[36m14\u001b[0m - \u001b[1mdoing something: 43...\u001b[0m\n",
      "\u001b[32m2024-08-07 21:37:10.067\u001b[0m | \u001b[1mINFO    \u001b[0m | \u001b[36m__main__\u001b[0m:\u001b[36mthrd\u001b[0m:\u001b[36m14\u001b[0m - \u001b[1mdoing something: 44...\u001b[0m\n",
      "\u001b[32m2024-08-07 21:37:11.068\u001b[0m | \u001b[1mINFO    \u001b[0m | \u001b[36m__main__\u001b[0m:\u001b[36mthrd\u001b[0m:\u001b[36m14\u001b[0m - \u001b[1mdoing something: 45...\u001b[0m\n",
      "\u001b[32m2024-08-07 21:37:12.069\u001b[0m | \u001b[1mINFO    \u001b[0m | \u001b[36m__main__\u001b[0m:\u001b[36mthrd\u001b[0m:\u001b[36m14\u001b[0m - \u001b[1mdoing something: 46...\u001b[0m\n",
      "\u001b[32m2024-08-07 21:37:13.071\u001b[0m | \u001b[1mINFO    \u001b[0m | \u001b[36m__main__\u001b[0m:\u001b[36mthrd\u001b[0m:\u001b[36m14\u001b[0m - \u001b[1mdoing something: 47...\u001b[0m\n",
      "\u001b[32m2024-08-07 21:37:14.073\u001b[0m | \u001b[1mINFO    \u001b[0m | \u001b[36m__main__\u001b[0m:\u001b[36mthrd\u001b[0m:\u001b[36m14\u001b[0m - \u001b[1mdoing something: 48...\u001b[0m\n",
      "\u001b[32m2024-08-07 21:37:15.074\u001b[0m | \u001b[1mINFO    \u001b[0m | \u001b[36m__main__\u001b[0m:\u001b[36mthrd\u001b[0m:\u001b[36m14\u001b[0m - \u001b[1mdoing something: 49...\u001b[0m\n",
      "\u001b[32m2024-08-07 21:37:16.076\u001b[0m | \u001b[1mINFO    \u001b[0m | \u001b[36m__main__\u001b[0m:\u001b[36mthrd\u001b[0m:\u001b[36m14\u001b[0m - \u001b[1mdoing something: 50...\u001b[0m\n"
     ]
    }
   ],
   "source": [
    "import roc\n",
    "from roc.breakpoint import breakpoints\n",
    "from threading import Thread\n",
    "# import multiprocessing\n",
    "import time\n",
    "from roc.logger import logger\n",
    "\n",
    "roc.init()\n",
    "\n",
    "def thrd():\n",
    "    i = 0\n",
    "    while True:\n",
    "        breakpoints.check()\n",
    "        logger.info(f\"doing something: {i}...\")\n",
    "        i += 1\n",
    "        time.sleep(1)\n",
    "\n",
    "t = Thread(target = thrd)\n",
    "t.start()\n",
    "# multiprocessing.Process(target=thrd).start()"
   ]
  },
  {
   "cell_type": "code",
   "execution_count": null,
   "metadata": {},
   "outputs": [],
   "source": [
    "breakpoints.do_break()"
   ]
  },
  {
   "cell_type": "code",
   "execution_count": null,
   "metadata": {},
   "outputs": [],
   "source": [
    "breakpoints.resume()"
   ]
  },
  {
   "cell_type": "code",
   "execution_count": 8,
   "metadata": {},
   "outputs": [
    {
     "name": "stderr",
     "output_type": "stream",
     "text": [
      "\u001b[32m2024-08-07 21:36:11.359\u001b[0m | \u001b[1mINFO    \u001b[0m | \u001b[36mroc.breakpoint\u001b[0m:\u001b[36mdo_break\u001b[0m:\u001b[36m120\u001b[0m - \u001b[1mbreaking due to: <user request>\u001b[0m\n"
     ]
    }
   ],
   "source": [
    "%brk"
   ]
  },
  {
   "cell_type": "code",
   "execution_count": 9,
   "metadata": {},
   "outputs": [
    {
     "name": "stderr",
     "output_type": "stream",
     "text": [
      "\u001b[32m2024-08-07 21:36:14.003\u001b[0m | \u001b[1mINFO    \u001b[0m | \u001b[36mroc.jupyter.step\u001b[0m:\u001b[36madd_step\u001b[0m:\u001b[36m17\u001b[0m - \u001b[1mstepping 1 times...\u001b[0m\n"
     ]
    }
   ],
   "source": [
    "%step"
   ]
  },
  {
   "cell_type": "code",
   "execution_count": 10,
   "metadata": {},
   "outputs": [
    {
     "name": "stderr",
     "output_type": "stream",
     "text": [
      "\u001b[32m2024-08-07 21:36:16.384\u001b[0m | \u001b[1mINFO    \u001b[0m | \u001b[36mroc.jupyter.step\u001b[0m:\u001b[36madd_step\u001b[0m:\u001b[36m17\u001b[0m - \u001b[1mstepping 10 times...\u001b[0m\n"
     ]
    }
   ],
   "source": [
    "%step 10"
   ]
  },
  {
   "cell_type": "code",
   "execution_count": 11,
   "metadata": {},
   "outputs": [
    {
     "name": "stdout",
     "output_type": "stream",
     "text": [
      "0 breakpoint(s). State: stopped.\n"
     ]
    }
   ],
   "source": [
    "%brk list"
   ]
  },
  {
   "cell_type": "markdown",
   "metadata": {},
   "source": [
    "## Live Testing"
   ]
  },
  {
   "cell_type": "code",
   "execution_count": 12,
   "metadata": {},
   "outputs": [
    {
     "name": "stderr",
     "output_type": "stream",
     "text": [
      "\u001b[32m2024-08-07 21:36:36.966\u001b[0m | \u001b[1mINFO    \u001b[0m | \u001b[36mroc.jupyter.step\u001b[0m:\u001b[36madd_step\u001b[0m:\u001b[36m17\u001b[0m - \u001b[1mstepping 1 times...\u001b[0m\n",
      "\u001b[32m2024-08-07 21:36:36.970\u001b[0m | \u001b[1mINFO    \u001b[0m | \u001b[36mroc.gymnasium\u001b[0m:\u001b[36mstart\u001b[0m:\u001b[36m69\u001b[0m - \u001b[1mStarting NLE loop...\u001b[0m\n",
      "\u001b[32m2024-08-07 21:36:36.972\u001b[0m | \u001b[1mINFO    \u001b[0m | \u001b[36mroc.breakpoint\u001b[0m:\u001b[36mdo_break\u001b[0m:\u001b[36m120\u001b[0m - \u001b[1mbreaking due to: step\u001b[0m\n"
     ]
    }
   ],
   "source": [
    "import roc\n",
    "\n",
    "roc.init()\n",
    "\n",
    "%roc 1"
   ]
  },
  {
   "cell_type": "code",
   "execution_count": 13,
   "metadata": {},
   "outputs": [
    {
     "name": "stderr",
     "output_type": "stream",
     "text": [
      "\u001b[32m2024-08-07 21:36:40.368\u001b[0m | \u001b[1mINFO    \u001b[0m | \u001b[36mroc.jupyter.step\u001b[0m:\u001b[36madd_step\u001b[0m:\u001b[36m17\u001b[0m - \u001b[1mstepping 1 times...\u001b[0m\n"
     ]
    },
    {
     "name": "stderr",
     "output_type": "stream",
     "text": [
      "\u001b[32m2024-08-07 21:36:40.372\u001b[0m | \u001b[1mINFO    \u001b[0m | \u001b[36mroc.breakpoint\u001b[0m:\u001b[36mcheck\u001b[0m:\u001b[36m143\u001b[0m - \u001b[1mbreak done, continuing operations...\u001b[0m\n",
      "\u001b[32m2024-08-07 21:36:40.377\u001b[0m | \u001b[1mINFO    \u001b[0m | \u001b[36mroc.breakpoint\u001b[0m:\u001b[36mdo_break\u001b[0m:\u001b[36m120\u001b[0m - \u001b[1mbreaking due to: step\u001b[0m\n",
      "\u001b[32m2024-08-07 21:36:44.358\u001b[0m | \u001b[1mINFO    \u001b[0m | \u001b[36mroc.breakpoint\u001b[0m:\u001b[36mcheck\u001b[0m:\u001b[36m143\u001b[0m - \u001b[1mbreak done, continuing operations...\u001b[0m\n",
      "\u001b[32m2024-08-07 21:37:01.867\u001b[0m | \u001b[33m\u001b[1mWARNING \u001b[0m | \u001b[36mroc.gymnasium\u001b[0m:\u001b[36msend_intrinsics\u001b[0m:\u001b[36m254\u001b[0m - \u001b[33m\u001b[1m!!! FOUND CONDITIONS\u001b[0m\n",
      "\u001b[32m2024-08-07 21:37:02.145\u001b[0m | \u001b[33m\u001b[1mWARNING \u001b[0m | \u001b[36mroc.gymnasium\u001b[0m:\u001b[36msend_intrinsics\u001b[0m:\u001b[36m254\u001b[0m - \u001b[33m\u001b[1m!!! FOUND CONDITIONS\u001b[0m\n",
      "\u001b[32m2024-08-07 21:37:02.646\u001b[0m | \u001b[33m\u001b[1mWARNING \u001b[0m | \u001b[36mroc.gymnasium\u001b[0m:\u001b[36msend_intrinsics\u001b[0m:\u001b[36m254\u001b[0m - \u001b[33m\u001b[1m!!! FOUND CONDITIONS\u001b[0m\n",
      "\u001b[32m2024-08-07 21:37:02.661\u001b[0m | \u001b[33m\u001b[1mWARNING \u001b[0m | \u001b[36mroc.gymnasium\u001b[0m:\u001b[36msend_intrinsics\u001b[0m:\u001b[36m254\u001b[0m - \u001b[33m\u001b[1m!!! FOUND CONDITIONS\u001b[0m\n",
      "\u001b[32m2024-08-07 21:37:02.722\u001b[0m | \u001b[33m\u001b[1mWARNING \u001b[0m | \u001b[36mroc.gymnasium\u001b[0m:\u001b[36msend_intrinsics\u001b[0m:\u001b[36m254\u001b[0m - \u001b[33m\u001b[1m!!! FOUND CONDITIONS\u001b[0m\n",
      "\u001b[32m2024-08-07 21:37:02.737\u001b[0m | \u001b[33m\u001b[1mWARNING \u001b[0m | \u001b[36mroc.gymnasium\u001b[0m:\u001b[36msend_intrinsics\u001b[0m:\u001b[36m254\u001b[0m - \u001b[33m\u001b[1m!!! FOUND CONDITIONS\u001b[0m\n",
      "\u001b[32m2024-08-07 21:37:03.087\u001b[0m | \u001b[33m\u001b[1mWARNING \u001b[0m | \u001b[36mroc.gymnasium\u001b[0m:\u001b[36msend_intrinsics\u001b[0m:\u001b[36m254\u001b[0m - \u001b[33m\u001b[1m!!! FOUND CONDITIONS\u001b[0m\n",
      "\u001b[32m2024-08-07 21:37:03.133\u001b[0m | \u001b[33m\u001b[1mWARNING \u001b[0m | \u001b[36mroc.gymnasium\u001b[0m:\u001b[36msend_intrinsics\u001b[0m:\u001b[36m254\u001b[0m - \u001b[33m\u001b[1m!!! FOUND CONDITIONS\u001b[0m\n",
      "\u001b[32m2024-08-07 21:37:03.164\u001b[0m | \u001b[33m\u001b[1mWARNING \u001b[0m | \u001b[36mroc.gymnasium\u001b[0m:\u001b[36msend_intrinsics\u001b[0m:\u001b[36m254\u001b[0m - \u001b[33m\u001b[1m!!! FOUND CONDITIONS\u001b[0m\n",
      "\u001b[32m2024-08-07 21:37:03.355\u001b[0m | \u001b[33m\u001b[1mWARNING \u001b[0m | \u001b[36mroc.gymnasium\u001b[0m:\u001b[36msend_intrinsics\u001b[0m:\u001b[36m254\u001b[0m - \u001b[33m\u001b[1m!!! FOUND CONDITIONS\u001b[0m\n",
      "\u001b[32m2024-08-07 21:37:03.370\u001b[0m | \u001b[33m\u001b[1mWARNING \u001b[0m | \u001b[36mroc.gymnasium\u001b[0m:\u001b[36msend_intrinsics\u001b[0m:\u001b[36m254\u001b[0m - \u001b[33m\u001b[1m!!! FOUND CONDITIONS\u001b[0m\n",
      "\u001b[32m2024-08-07 21:37:03.418\u001b[0m | \u001b[33m\u001b[1mWARNING \u001b[0m | \u001b[36mroc.gymnasium\u001b[0m:\u001b[36msend_intrinsics\u001b[0m:\u001b[36m254\u001b[0m - \u001b[33m\u001b[1m!!! FOUND CONDITIONS\u001b[0m\n",
      "\u001b[32m2024-08-07 21:37:03.433\u001b[0m | \u001b[33m\u001b[1mWARNING \u001b[0m | \u001b[36mroc.gymnasium\u001b[0m:\u001b[36msend_intrinsics\u001b[0m:\u001b[36m254\u001b[0m - \u001b[33m\u001b[1m!!! FOUND CONDITIONS\u001b[0m\n",
      "\u001b[32m2024-08-07 21:37:03.450\u001b[0m | \u001b[33m\u001b[1mWARNING \u001b[0m | \u001b[36mroc.gymnasium\u001b[0m:\u001b[36msend_intrinsics\u001b[0m:\u001b[36m254\u001b[0m - \u001b[33m\u001b[1m!!! FOUND CONDITIONS\u001b[0m\n",
      "\u001b[32m2024-08-07 21:37:03.466\u001b[0m | \u001b[33m\u001b[1mWARNING \u001b[0m | \u001b[36mroc.gymnasium\u001b[0m:\u001b[36msend_intrinsics\u001b[0m:\u001b[36m254\u001b[0m - \u001b[33m\u001b[1m!!! FOUND CONDITIONS\u001b[0m\n",
      "\u001b[32m2024-08-07 21:37:03.556\u001b[0m | \u001b[33m\u001b[1mWARNING \u001b[0m | \u001b[36mroc.gymnasium\u001b[0m:\u001b[36msend_intrinsics\u001b[0m:\u001b[36m254\u001b[0m - \u001b[33m\u001b[1m!!! FOUND CONDITIONS\u001b[0m\n",
      "\u001b[32m2024-08-07 21:37:03.572\u001b[0m | \u001b[33m\u001b[1mWARNING \u001b[0m | \u001b[36mroc.gymnasium\u001b[0m:\u001b[36msend_intrinsics\u001b[0m:\u001b[36m254\u001b[0m - \u001b[33m\u001b[1m!!! FOUND CONDITIONS\u001b[0m\n",
      "\u001b[32m2024-08-07 21:37:03.662\u001b[0m | \u001b[33m\u001b[1mWARNING \u001b[0m | \u001b[36mroc.gymnasium\u001b[0m:\u001b[36msend_intrinsics\u001b[0m:\u001b[36m254\u001b[0m - \u001b[33m\u001b[1m!!! FOUND CONDITIONS\u001b[0m\n",
      "\u001b[32m2024-08-07 21:37:03.712\u001b[0m | \u001b[33m\u001b[1mWARNING \u001b[0m | \u001b[36mroc.gymnasium\u001b[0m:\u001b[36msend_intrinsics\u001b[0m:\u001b[36m254\u001b[0m - \u001b[33m\u001b[1m!!! FOUND CONDITIONS\u001b[0m\n",
      "\u001b[32m2024-08-07 21:37:03.788\u001b[0m | \u001b[33m\u001b[1mWARNING \u001b[0m | \u001b[36mroc.gymnasium\u001b[0m:\u001b[36msend_intrinsics\u001b[0m:\u001b[36m254\u001b[0m - \u001b[33m\u001b[1m!!! FOUND CONDITIONS\u001b[0m\n",
      "\u001b[32m2024-08-07 21:37:03.897\u001b[0m | \u001b[33m\u001b[1mWARNING \u001b[0m | \u001b[36mroc.gymnasium\u001b[0m:\u001b[36msend_intrinsics\u001b[0m:\u001b[36m254\u001b[0m - \u001b[33m\u001b[1m!!! FOUND CONDITIONS\u001b[0m\n",
      "\u001b[32m2024-08-07 21:37:04.015\u001b[0m | \u001b[33m\u001b[1mWARNING \u001b[0m | \u001b[36mroc.gymnasium\u001b[0m:\u001b[36msend_intrinsics\u001b[0m:\u001b[36m254\u001b[0m - \u001b[33m\u001b[1m!!! FOUND CONDITIONS\u001b[0m\n",
      "\u001b[32m2024-08-07 21:37:04.257\u001b[0m | \u001b[33m\u001b[1mWARNING \u001b[0m | \u001b[36mroc.gymnasium\u001b[0m:\u001b[36msend_intrinsics\u001b[0m:\u001b[36m254\u001b[0m - \u001b[33m\u001b[1m!!! FOUND CONDITIONS\u001b[0m\n",
      "\u001b[32m2024-08-07 21:37:04.275\u001b[0m | \u001b[33m\u001b[1mWARNING \u001b[0m | \u001b[36mroc.gymnasium\u001b[0m:\u001b[36msend_intrinsics\u001b[0m:\u001b[36m254\u001b[0m - \u001b[33m\u001b[1m!!! FOUND CONDITIONS\u001b[0m\n",
      "\u001b[32m2024-08-07 21:37:04.290\u001b[0m | \u001b[33m\u001b[1mWARNING \u001b[0m | \u001b[36mroc.gymnasium\u001b[0m:\u001b[36msend_intrinsics\u001b[0m:\u001b[36m254\u001b[0m - \u001b[33m\u001b[1m!!! FOUND CONDITIONS\u001b[0m\n",
      "\u001b[32m2024-08-07 21:37:04.339\u001b[0m | \u001b[33m\u001b[1mWARNING \u001b[0m | \u001b[36mroc.gymnasium\u001b[0m:\u001b[36msend_intrinsics\u001b[0m:\u001b[36m254\u001b[0m - \u001b[33m\u001b[1m!!! FOUND CONDITIONS\u001b[0m\n",
      "\u001b[32m2024-08-07 21:37:04.357\u001b[0m | \u001b[33m\u001b[1mWARNING \u001b[0m | \u001b[36mroc.gymnasium\u001b[0m:\u001b[36msend_intrinsics\u001b[0m:\u001b[36m254\u001b[0m - \u001b[33m\u001b[1m!!! FOUND CONDITIONS\u001b[0m\n",
      "\u001b[32m2024-08-07 21:37:04.372\u001b[0m | \u001b[33m\u001b[1mWARNING \u001b[0m | \u001b[36mroc.gymnasium\u001b[0m:\u001b[36msend_intrinsics\u001b[0m:\u001b[36m254\u001b[0m - \u001b[33m\u001b[1m!!! FOUND CONDITIONS\u001b[0m\n",
      "\u001b[32m2024-08-07 21:37:04.391\u001b[0m | \u001b[33m\u001b[1mWARNING \u001b[0m | \u001b[36mroc.gymnasium\u001b[0m:\u001b[36msend_intrinsics\u001b[0m:\u001b[36m254\u001b[0m - \u001b[33m\u001b[1m!!! FOUND CONDITIONS\u001b[0m\n",
      "\u001b[32m2024-08-07 21:37:04.408\u001b[0m | \u001b[33m\u001b[1mWARNING \u001b[0m | \u001b[36mroc.gymnasium\u001b[0m:\u001b[36msend_intrinsics\u001b[0m:\u001b[36m254\u001b[0m - \u001b[33m\u001b[1m!!! FOUND CONDITIONS\u001b[0m\n",
      "\u001b[32m2024-08-07 21:37:04.517\u001b[0m | \u001b[33m\u001b[1mWARNING \u001b[0m | \u001b[36mroc.gymnasium\u001b[0m:\u001b[36msend_intrinsics\u001b[0m:\u001b[36m254\u001b[0m - \u001b[33m\u001b[1m!!! FOUND CONDITIONS\u001b[0m\n",
      "\u001b[32m2024-08-07 21:37:04.598\u001b[0m | \u001b[33m\u001b[1mWARNING \u001b[0m | \u001b[36mroc.gymnasium\u001b[0m:\u001b[36msend_intrinsics\u001b[0m:\u001b[36m254\u001b[0m - \u001b[33m\u001b[1m!!! FOUND CONDITIONS\u001b[0m\n",
      "\u001b[32m2024-08-07 21:37:04.631\u001b[0m | \u001b[1mINFO    \u001b[0m | \u001b[36mroc.gymnasium\u001b[0m:\u001b[36mstart\u001b[0m:\u001b[36m92\u001b[0m - \u001b[1mNLE loop done.\u001b[0m\n"
     ]
    }
   ],
   "source": [
    "%step"
   ]
  },
  {
   "cell_type": "code",
   "execution_count": 14,
   "metadata": {},
   "outputs": [
    {
     "name": "stderr",
     "output_type": "stream",
     "text": [
      "\u001b[32m2024-08-07 21:36:44.357\u001b[0m | \u001b[1mINFO    \u001b[0m | \u001b[36mroc.breakpoint\u001b[0m:\u001b[36mresume\u001b[0m:\u001b[36m110\u001b[0m - \u001b[1mresuming\u001b[0m\n"
     ]
    }
   ],
   "source": [
    "%cont"
   ]
  }
 ],
 "metadata": {
  "kernelspec": {
   "display_name": ".venv",
   "language": "python",
   "name": "python3"
  },
  "language_info": {
   "codemirror_mode": {
    "name": "ipython",
    "version": 3
   },
   "file_extension": ".py",
   "mimetype": "text/x-python",
   "name": "python",
   "nbconvert_exporter": "python",
   "pygments_lexer": "ipython3",
   "version": "3.11.9"
  }
 },
 "nbformat": 4,
 "nbformat_minor": 2
}
