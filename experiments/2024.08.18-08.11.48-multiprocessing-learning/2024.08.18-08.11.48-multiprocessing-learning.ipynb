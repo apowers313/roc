{
 "cells": [
  {
   "cell_type": "markdown",
   "metadata": {},
   "source": [
    "__[multiprocessing learning](https://github.com/apowers313/roc/blob/master/experiments/2024.08.18-08.11.48-multiprocessing-learning/2024.08.18-08.11.48-multiprocessing-learning.ipynb)__"
   ]
  },
  {
   "cell_type": "code",
   "execution_count": 1,
   "metadata": {},
   "outputs": [
    {
     "name": "stdout",
     "output_type": "stream",
     "text": [
      "Sun Aug 18 08:41:52 PDT 2024\n"
     ]
    }
   ],
   "source": [
    "!date"
   ]
  },
  {
   "cell_type": "markdown",
   "metadata": {},
   "source": [
    "# Process"
   ]
  },
  {
   "cell_type": "code",
   "execution_count": 2,
   "metadata": {},
   "outputs": [
    {
     "name": "stdout",
     "output_type": "stream",
     "text": [
      "Python CPU Benchmark by Alex Dedyura (Windows, macOS(Darwin), Linux)\n",
      "OS: Linux 5.15.0-118-generic\n",
      "Python: 3.11.9\n",
      "\n",
      "Benchmarking: \n",
      "\n",
      "MainProcess (259129): starting\n",
      "MainProcess (259129) time: 10.866s\n",
      "MainProcess (259129) average (from 1 repeats): 10.866s\n"
     ]
    }
   ],
   "source": [
    "# Python CPU Benchmark by Alex Dedyura (Windows, macOS, Linux)\n",
    "# https://github.com/alexdedyura/cpu-benchmark/blob/main/cpu-benchmark.py\n",
    "\n",
    "import time\n",
    "import platform\n",
    "import multiprocessing\n",
    "import os\n",
    "\n",
    "print(\"Python CPU Benchmark by Alex Dedyura (Windows, macOS(Darwin), Linux)\")\n",
    "# print('CPU: ' + cpuinfo.get_cpu_info().get('brand_raw', \"Unknown\"))\n",
    "# print('Arch: ' + cpuinfo.get_cpu_info().get('arch_string_raw', \"Unknown\"))\n",
    "print(\"OS: \" + platform.system(), platform.release())\n",
    "print(\"Python: \" + platform.python_version())\n",
    "\n",
    "print(\"\\nBenchmarking: \\n\")\n",
    "\n",
    "\n",
    "def cpu_load(start_benchmark=10000, repeat_benchmark=10):\n",
    "    # Initializing a variable to accumulate execution time\n",
    "    total_duration = 0\n",
    "    my_name = f\"{multiprocessing.current_process().name} ({os.getpid()})\"\n",
    "    print(f\"{my_name}: starting\")\n",
    "\n",
    "    # Starting the test cycle\n",
    "    for attempt in range(repeat_benchmark):\n",
    "        start = time.perf_counter()  # Recording the initial time\n",
    "\n",
    "        # Nested loops for performing calculations\n",
    "        for i in range(start_benchmark):\n",
    "            for x in range(1, 1000):\n",
    "                3.141592 * 2**x  # Multiplying the number Pi by 2 to the power of xx\n",
    "            for x in range(1, 10000):\n",
    "                float(x) / 3.141592  # Dividing x by Pi\n",
    "            for x in range(1, 10000):\n",
    "                float(3.141592) / x  # Dividing the number Pi by x\n",
    "\n",
    "        end = time.perf_counter()  # Recording the end time\n",
    "        duration = round(end - start, 3)  # Calculate and round up the execution time\n",
    "        total_duration += duration  # Adding the execution time to the total amount\n",
    "        print(f\"{my_name} time: {duration}s\")  # We output the execution time for each iteration\n",
    "\n",
    "    # Calculate and output the average execution time\n",
    "    average_duration = round(total_duration / repeat_benchmark, 3)\n",
    "    print(f\"{my_name} average (from {repeat_benchmark} repeats): {average_duration}s\")\n",
    "\n",
    "\n",
    "cpu_load(repeat_benchmark=1)"
   ]
  },
  {
   "cell_type": "code",
   "execution_count": 5,
   "metadata": {},
   "outputs": [
    {
     "name": "stdout",
     "output_type": "stream",
     "text": [
      "Number of CPUs: 32\n",
      "Process-35 (260241): starting\n",
      "Process-36 (260244): starting\n",
      "Process-37 (260249): starting\n",
      "Process-38 (260254): starting\n",
      "Process-39 (260259): starting\n",
      "Process-40 (260264): starting\n",
      "Process-41 (260269): starting\n",
      "Process-42 (260276): starting\n",
      "Process-43 (260281): starting\n",
      "Process-44 (260284): startingProcess-45 (260288): starting\n",
      "\n",
      "Process-46 (260291): starting\n",
      "Process-47 (260299): starting\n",
      "Process-48 (260306): starting\n",
      "Process-49 (260309): starting\n"
     ]
    },
    {
     "name": "stdout",
     "output_type": "stream",
     "text": [
      "Process-36 (260244) time: 10.64s\n",
      "Process-35 (260241) time: 10.648s\n",
      "Process-37 (260249) time: 10.682s\n",
      "Process-40 (260264) time: 10.707s\n",
      "Process-38 (260254) time: 10.751s\n",
      "Process-41 (260269) time: 11.049s\n",
      "Process-45 (260288) time: 11.111s\n",
      "Process-39 (260259) time: 11.391s\n",
      "Process-42 (260276) time: 11.6s\n",
      "Process-46 (260291) time: 13.148s\n",
      "Process-44 (260284) time: 13.505s\n",
      "Process-48 (260306) time: 13.503sProcess-43 (260281) time: 13.512s\n",
      "\n",
      "Process-49 (260309) time: 13.514s\n",
      "Process-47 (260299) time: 13.54s\n",
      "Process-36 (260244) time: 10.495s\n",
      "Process-35 (260241) time: 10.499s\n",
      "Process-37 (260249) time: 10.525s\n",
      "Process-40 (260264) time: 10.615s\n",
      "Process-38 (260254) time: 10.596s\n",
      "Process-41 (260269) time: 10.727s\n",
      "Process-45 (260288) time: 10.748s\n",
      "Process-39 (260259) time: 11.547s\n",
      "Process-42 (260276) time: 13.536s\n",
      "Process-44 (260284) time: 11.978s\n",
      "Process-46 (260291) time: 13.536s\n",
      "Process-43 (260281) time: 13.554s\n",
      "Process-48 (260306) time: 13.567s\n",
      "Process-49 (260309) time: 13.61s\n",
      "Process-47 (260299) time: 13.611s\n",
      "Process-36 (260244) time: 10.988s\n",
      "Process-36 (260244) average (from 3 repeats): 10.708s\n",
      "Process-35 (260241) time: 10.993s\n",
      "Process-35 (260241) average (from 3 repeats): 10.713s\n",
      "Process-37 (260249) time: 11.017s\n",
      "Process-37 (260249) average (from 3 repeats): 10.741s\n",
      "Process-40 (260264) time: 11.108s\n",
      "Process-40 (260264) average (from 3 repeats): 10.81s\n",
      "Process-38 (260254) time: 11.091s\n",
      "Process-38 (260254) average (from 3 repeats): 10.813s\n",
      "Process-45 (260288) time: 11.003s\n",
      "Process-45 (260288) average (from 3 repeats): 10.954s\n",
      "Process-41 (260269) time: 11.099s\n",
      "Process-41 (260269) average (from 3 repeats): 10.958s\n",
      "Process-39 (260259) time: 12.847s\n",
      "Process-39 (260259) average (from 3 repeats): 11.928s\n",
      "Process-44 (260284) time: 10.887s\n",
      "Process-44 (260284) average (from 3 repeats): 12.123s\n",
      "Process-42 (260276) time: 12.171s\n",
      "Process-42 (260276) average (from 3 repeats): 12.436s\n",
      "Process-46 (260291) time: 11.803s\n",
      "Process-46 (260291) average (from 3 repeats): 12.829s\n",
      "Process-48 (260306) time: 11.706s\n",
      "Process-48 (260306) average (from 3 repeats): 12.925s\n",
      "Process-47 (260299) time: 11.79s\n",
      "Process-47 (260299) average (from 3 repeats): 12.98s\n",
      "Process-43 (260281) time: 11.885s\n",
      "Process-43 (260281) average (from 3 repeats): 12.984s\n",
      "Process-49 (260309) time: 11.876s\n",
      "Process-49 (260309) average (from 3 repeats): 13.0s\n"
     ]
    }
   ],
   "source": [
    "import multiprocessing\n",
    "from multiprocessing import Process\n",
    "\n",
    "cpu_count = multiprocessing.cpu_count()\n",
    "print(\"Number of CPUs:\", cpu_count)\n",
    "\n",
    "cpu_count = 15\n",
    "for _ in range(cpu_count):\n",
    "    Process(target=cpu_load, kwargs={\"repeat_benchmark\": 3}).start()"
   ]
  },
  {
   "cell_type": "markdown",
   "metadata": {},
   "source": [
    "# Pool\n",
    "\n",
    "https://docs.python.org/3/library/multiprocessing.html#using-a-pool-of-workers"
   ]
  },
  {
   "cell_type": "code",
   "execution_count": null,
   "metadata": {},
   "outputs": [],
   "source": [
    "from multiprocessing import Pool, TimeoutError\n",
    "import time\n",
    "import os\n",
    "\n",
    "\n",
    "def f(x):\n",
    "    return x * x\n",
    "\n",
    "\n",
    "if __name__ == \"__main__\":\n",
    "    # start 4 worker processes\n",
    "    with Pool(processes=4) as pool:\n",
    "\n",
    "        # print \"[0, 1, 4,..., 81]\"\n",
    "        print(pool.map(f, range(10)))\n",
    "\n",
    "        # print same numbers in arbitrary order\n",
    "        for i in pool.imap_unordered(f, range(10)):\n",
    "            print(i)\n",
    "\n",
    "        # evaluate \"f(20)\" asynchronously\n",
    "        res = pool.apply_async(f, (20,))  # runs in *only* one process\n",
    "        print(res.get(timeout=1))  # prints \"400\"\n",
    "\n",
    "        # evaluate \"os.getpid()\" asynchronously\n",
    "        res = pool.apply_async(os.getpid, ())  # runs in *only* one process\n",
    "        print(res.get(timeout=1))  # prints the PID of that process\n",
    "\n",
    "        # launching multiple evaluations asynchronously *may* use more processes\n",
    "        multiple_results = [pool.apply_async(os.getpid, ()) for i in range(4)]\n",
    "        print([res.get(timeout=1) for res in multiple_results])\n",
    "\n",
    "        # make a single worker sleep for 10 seconds\n",
    "        res = pool.apply_async(time.sleep, (10,))\n",
    "        try:\n",
    "            print(res.get(timeout=1))\n",
    "        except TimeoutError:\n",
    "            print(\"We lacked patience and got a multiprocessing.TimeoutError\")\n",
    "\n",
    "        print(\"For the moment, the pool remains available for more work\")\n",
    "\n",
    "    # exiting the 'with'-block has stopped the pool\n",
    "    print(\"Now the pool is closed and no longer available\")"
   ]
  },
  {
   "cell_type": "markdown",
   "metadata": {},
   "source": [
    "# Manager\n",
    "\n",
    "A manager object returned by Manager() controls a server process which holds Python objects and allows other processes to manipulate them using proxies.\n",
    "\n",
    "A manager returned by Manager() will support types list, dict, Namespace, Lock, RLock, Semaphore, BoundedSemaphore, Condition, Event, Barrier, Queue, Value and Array. For example,"
   ]
  },
  {
   "cell_type": "code",
   "execution_count": 6,
   "metadata": {},
   "outputs": [
    {
     "name": "stdout",
     "output_type": "stream",
     "text": [
      "{1: '1', '2': 2, 0.25: None}\n",
      "[9, 8, 7, 6, 5, 4, 3, 2, 1, 0]\n"
     ]
    }
   ],
   "source": [
    "from multiprocessing import Process, Manager\n",
    "\n",
    "\n",
    "def f(d, l):\n",
    "    d[1] = \"1\"\n",
    "    d[\"2\"] = 2\n",
    "    d[0.25] = None\n",
    "    l.reverse()\n",
    "\n",
    "\n",
    "if __name__ == \"__main__\":\n",
    "    with Manager() as manager:\n",
    "        d = manager.dict()\n",
    "        l = manager.list(range(10))\n",
    "\n",
    "        p = Process(target=f, args=(d, l))\n",
    "        p.start()\n",
    "        p.join()\n",
    "\n",
    "        print(d)\n",
    "        print(l)"
   ]
  },
  {
   "cell_type": "markdown",
   "metadata": {},
   "source": [
    "# ProcessPoolExecutor"
   ]
  },
  {
   "cell_type": "markdown",
   "metadata": {},
   "source": [
    "# Shared Memory for IPC\n",
    "\n",
    "https://docs.python.org/3/library/multiprocessing.html#sharing-state-between-processes"
   ]
  },
  {
   "cell_type": "code",
   "execution_count": 7,
   "metadata": {},
   "outputs": [
    {
     "data": {
      "text/plain": [
       "[]"
      ]
     },
     "execution_count": 7,
     "metadata": {},
     "output_type": "execute_result"
    }
   ],
   "source": [
    "multiprocessing.active_children()"
   ]
  }
 ],
 "metadata": {
  "kernelspec": {
   "display_name": ".venv",
   "language": "python",
   "name": "python3"
  },
  "language_info": {
   "codemirror_mode": {
    "name": "ipython",
    "version": 3
   },
   "file_extension": ".py",
   "mimetype": "text/x-python",
   "name": "python",
   "nbconvert_exporter": "python",
   "pygments_lexer": "ipython3",
   "version": "3.11.9"
  }
 },
 "nbformat": 4,
 "nbformat_minor": 2
}
