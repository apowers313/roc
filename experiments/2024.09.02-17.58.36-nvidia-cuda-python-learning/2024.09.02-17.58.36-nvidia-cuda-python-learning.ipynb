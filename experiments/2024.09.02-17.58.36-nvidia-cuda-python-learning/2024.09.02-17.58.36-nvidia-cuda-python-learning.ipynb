{
 "cells": [
  {
   "cell_type": "markdown",
   "metadata": {},
   "source": [
    "__[nvidia cuda python learning](https://github.com/apowers313/roc/blob/master/experiments/2024.09.02-17.58.36-nvidia-cuda-python-learning/2024.09.02-17.58.36-nvidia-cuda-python-learning.ipynb)__"
   ]
  },
  {
   "cell_type": "code",
   "execution_count": null,
   "metadata": {},
   "outputs": [],
   "source": [
    "!date"
   ]
  },
  {
   "cell_type": "code",
   "execution_count": null,
   "metadata": {},
   "outputs": [],
   "source": [
    "# save notebook path before we get started\n",
    "import os\n",
    "\n",
    "notebook_path = os.path.abspath(\"\") # not sure if this or os.getcwd() is more reliable"
   ]
  },
  {
   "cell_type": "code",
   "execution_count": null,
   "metadata": {},
   "outputs": [],
   "source": [
    "from baracuda import CudaDevice\n",
    "\n",
    "print(\"Device Count:\", CudaDevice.count())\n",
    "\n",
    "dev = CudaDevice(0)\n",
    "print(\"Device Name:\", dev.name)\n",
    "print(\"Compute Capability:\", dev.compute_capability)\n",
    "print(\"Driver Version:\", dev.driver_version)"
   ]
  },
  {
   "cell_type": "code",
   "execution_count": null,
   "metadata": {},
   "outputs": [],
   "source": [
    "from baracuda import CudaSourceFile\n",
    "\n",
    "mod = CudaSourceFile(\"test_kernel.cu\")\n",
    "mod.call(\"test_kernel\")"
   ]
  },
  {
   "cell_type": "code",
   "execution_count": 1,
   "metadata": {},
   "outputs": [
    {
     "name": "stdout",
     "output_type": "stream",
     "text": [
      "getting default context\n",
      "creating context\n",
      "CODE:\n",
      "-------\n",
      "extern \"C\" {\n",
      "__global__ void k1() {\n",
      "  printf(\"kernel 1 starting...\\n\");\n",
      "  // cudaEvent_t e;\n",
      "  // cudaEventCreateWithFlags(&e, cudaEventDisableTiming);\n",
      "  printf(\"kernel 1 done.\\n\");\n",
      "}\n",
      "\n",
      "__global__ void k2() {\n",
      "  printf(\"kernel 2 starting...\\n\");\n",
      "  printf(\"kernel 2 done.\\n\");\n",
      "}\n",
      "\n",
      "}\n",
      "\n",
      "-------\n",
      "\n",
      "Compilation results\u0000\n",
      "getting default context\n",
      "getting default context\n",
      "Num of nodes in the graph created manually = 0\n"
     ]
    },
    {
     "name": "stdout",
     "output_type": "stream",
     "text": [
      "kernel 2 starting...\n",
      "kernel 1 starting...\n",
      "kernel 2 done.\n",
      "kernel 1 done.\n"
     ]
    }
   ],
   "source": [
    "from baracuda import CudaSourceFile, CudaGraph\n",
    "\n",
    "mod = CudaSourceFile(\"daisy_chain.cu\")\n",
    "g = CudaGraph()\n",
    "k1 = mod.get_function(\"k1\")\n",
    "k2 = mod.get_function(\"k2\")\n",
    "g.add_kernel_node(k1)\n",
    "g.add_kernel_node(k2)\n",
    "nodes = g.nodes\n",
    "print(f\"Num of nodes in the graph created manually = {len(nodes)}\")\n",
    "g.run()"
   ]
  }
 ],
 "metadata": {
  "kernelspec": {
   "display_name": ".venv",
   "language": "python",
   "name": "python3"
  },
  "language_info": {
   "codemirror_mode": {
    "name": "ipython",
    "version": 3
   },
   "file_extension": ".py",
   "mimetype": "text/x-python",
   "name": "python",
   "nbconvert_exporter": "python",
   "pygments_lexer": "ipython3",
   "version": "3.11.9"
  }
 },
 "nbformat": 4,
 "nbformat_minor": 2
}
