{
 "cells": [
  {
   "cell_type": "markdown",
   "metadata": {},
   "source": [
    "__[jupyter magics](https://github.com/apowers313/roc/blob/master/experiments/2024.08.04-09.45.18-jupyter-magics/2024.08.04-09.45.18-jupyter-magics.ipynb)__"
   ]
  },
  {
   "cell_type": "code",
   "execution_count": 1,
   "metadata": {},
   "outputs": [
    {
     "name": "stdout",
     "output_type": "stream",
     "text": [
      "Mon Aug  5 19:57:32 PDT 2024\n"
     ]
    }
   ],
   "source": [
    "!date"
   ]
  },
  {
   "cell_type": "markdown",
   "metadata": {},
   "source": [
    "# Breakpoint"
   ]
  },
  {
   "cell_type": "code",
   "execution_count": 2,
   "metadata": {},
   "outputs": [
    {
     "name": "stdout",
     "output_type": "stream",
     "text": [
      "doing something\n",
      "doing something\n",
      "doing something\n",
      "doing something\n",
      "doing something\n",
      "Done!\n"
     ]
    }
   ],
   "source": [
    "# https://stackoverflow.com/questions/77580121/are-there-any-ways-to-actually-stop-awaited-long-running-asyncio-task\n",
    "\n",
    "import asyncio\n",
    "\n",
    "async def background_task(stop_event):\n",
    "    while not stop_event.is_set():\n",
    "        print('doing something')\n",
    "        await asyncio.sleep(1)\n",
    "\n",
    "async def main():\n",
    "    stop_event = asyncio.Event()\n",
    "    task = asyncio.create_task(background_task(stop_event))\n",
    "    # Simulate running the task for some time\n",
    "    await asyncio.sleep(5)\n",
    "    stop_event.set() # Set the event to stop the background_task\n",
    "    await task # Await the task to complete\n",
    "    print('Done!')\n",
    "\n",
    "# https://stackoverflow.com/questions/55409641/asyncio-run-cannot-be-called-from-a-running-event-loop-when-using-jupyter-no\n",
    "# asyncio.run(main())\n",
    "await main()"
   ]
  },
  {
   "cell_type": "code",
   "execution_count": 3,
   "metadata": {},
   "outputs": [
    {
     "ename": "SyntaxError",
     "evalue": "'await' outside async function (1130455963.py, line 17)",
     "output_type": "error",
     "traceback": [
      "\u001b[0;36m  Cell \u001b[0;32mIn[3], line 17\u001b[0;36m\u001b[0m\n\u001b[0;31m    await task # Await the task to complete\u001b[0m\n\u001b[0m    ^\u001b[0m\n\u001b[0;31mSyntaxError\u001b[0m\u001b[0;31m:\u001b[0m 'await' outside async function\n"
     ]
    }
   ],
   "source": [
    "import asyncio\n",
    "\n",
    "resume_event = asyncio.Event()\n",
    "\n",
    "async def stop():\n",
    "    while not resume_event.is_set():\n",
    "        print(\"loopyboi\")\n",
    "        await asyncio.sleep(3)\n",
    "\n",
    "def cont():\n",
    "    resume_event.set() # Set the event to stop the background_task\n",
    "\n",
    "\n",
    "def run_background():\n",
    "    task = asyncio.create_task(stop())\n",
    "    # Simulate running the task for some time\n",
    "    await task # Await the task to complete\n",
    "    print('Resuming!')\n",
    "\n",
    "run_background()"
   ]
  },
  {
   "cell_type": "code",
   "execution_count": null,
   "metadata": {},
   "outputs": [
    {
     "name": "stdout",
     "output_type": "stream",
     "text": [
      "Do some stuff\n"
     ]
    },
    {
     "name": "stdout",
     "output_type": "stream",
     "text": [
      "Do some stuff\n",
      "Do some stuff\n",
      "Do some stuff\n",
      "Do some stuff\n",
      "breaking.\n",
      "resuming...\n",
      "Do some stuff\n",
      "Do some stuff\n",
      "Do some stuff\n",
      "Do some stuff\n",
      "Do some stuff\n",
      "Do some stuff\n",
      "Do some stuff\n",
      "breaking.\n",
      "resuming...\n",
      "Do some stuff\n",
      "Do some stuff\n",
      "Do some stuff\n",
      "Do some stuff\n",
      "breaking.\n"
     ]
    }
   ],
   "source": [
    "from threading import Thread, Lock\n",
    "import time\n",
    "\n",
    "brk_lock = Lock()\n",
    "inbreak=False\n",
    "\n",
    "def brk():\n",
    "    global inbreak\n",
    "\n",
    "    if inbreak:\n",
    "        return\n",
    "    print(\"breaking\")\n",
    "    inbreak=True\n",
    "    brk_lock.acquire()\n",
    "\n",
    "def cont():\n",
    "    global inbreak\n",
    "\n",
    "    if not inbreak:\n",
    "        return\n",
    "    print(\"continuing\")\n",
    "    inbreak=False\n",
    "    brk_lock.release()\n",
    "\n",
    "def thrd():\n",
    "    waslocked=brk_lock.locked()\n",
    "    while True:\n",
    "        if brk_lock.locked():\n",
    "            waslocked=True\n",
    "            print(\"breaking.\")\n",
    "        with brk_lock:\n",
    "            if waslocked:\n",
    "                waslocked=False\n",
    "                print(\"resuming...\")\n",
    "            print('Do some stuff')\n",
    "        time.sleep(1)\n",
    "\n",
    "t = Thread(target = thrd)\n",
    "t.start()"
   ]
  },
  {
   "cell_type": "code",
   "execution_count": null,
   "metadata": {},
   "outputs": [
    {
     "name": "stdout",
     "output_type": "stream",
     "text": [
      "breaking\n"
     ]
    }
   ],
   "source": [
    "brk()"
   ]
  },
  {
   "cell_type": "code",
   "execution_count": null,
   "metadata": {},
   "outputs": [
    {
     "name": "stdout",
     "output_type": "stream",
     "text": [
      "continuing\n"
     ]
    }
   ],
   "source": [
    "cont()"
   ]
  },
  {
   "cell_type": "code",
   "execution_count": null,
   "metadata": {},
   "outputs": [],
   "source": [
    "brk()"
   ]
  },
  {
   "cell_type": "markdown",
   "metadata": {},
   "source": [
    "# Magic"
   ]
  },
  {
   "cell_type": "code",
   "execution_count": null,
   "metadata": {},
   "outputs": [],
   "source": [
    "# https://ipython.readthedocs.io/en/stable/config/custommagics.html\n",
    "from IPython.core.magic import (register_line_magic, register_cell_magic,\n",
    "                                register_line_cell_magic)\n",
    "\n",
    "@register_line_magic\n",
    "def lmagic(line):\n",
    "    \"my line magic\"\n",
    "    return line"
   ]
  },
  {
   "cell_type": "code",
   "execution_count": null,
   "metadata": {},
   "outputs": [
    {
     "data": {
      "text/plain": [
       "'foobar'"
      ]
     },
     "execution_count": 10,
     "metadata": {},
     "output_type": "execute_result"
    }
   ],
   "source": [
    "%lmagic foobar"
   ]
  },
  {
   "cell_type": "code",
   "execution_count": null,
   "metadata": {},
   "outputs": [],
   "source": [
    "# https://ipython.readthedocs.io/en/stable/config/custommagics.html\n",
    "from __future__ import print_function\n",
    "from IPython.core.magic import (Magics, magics_class, line_magic,\n",
    "                                cell_magic, line_cell_magic)\n",
    "\n",
    "# The class MUST call this class decorator at creation time\n",
    "@magics_class\n",
    "class MyMagics(Magics):\n",
    "\n",
    "    @line_magic\n",
    "    def lmagic2(self, line):\n",
    "        \"my line magic\"\n",
    "        print(\"Full access to the main IPython object:\", self.shell)\n",
    "        print(\"Variables in the user namespace:\", list(self.shell.user_ns.keys()))\n",
    "        return line\n",
    "\n",
    "def load_ipython_extension(ipython):\n",
    "    \"\"\"\n",
    "    Any module file that define a function named `load_ipython_extension`\n",
    "    can be loaded via `%load_ext module.path` or be configured to be\n",
    "    autoloaded by IPython at startup time.\n",
    "    \"\"\"\n",
    "    # You can register the class itself without instantiating it.  IPython will\n",
    "    # call the default constructor on it.\n",
    "    ipython.register_magics(MyMagics)\n",
    "\n",
    "ip = get_ipython()\n",
    "load_ipython_extension(ip)"
   ]
  },
  {
   "cell_type": "code",
   "execution_count": null,
   "metadata": {},
   "outputs": [
    {
     "name": "stdout",
     "output_type": "stream",
     "text": [
      "Full access to the main IPython object: <ipykernel.zmqshell.ZMQInteractiveShell object at 0x7f94ef4cee90>\n",
      "Variables in the user namespace: ['__name__', '__doc__', '__package__', '__loader__', '__spec__', '__builtin__', '__builtins__', '_ih', '_oh', '_dh', 'In', 'Out', 'get_ipython', 'exit', 'quit', 'open', '_', '__', '___', '__vsc_ipynb_file__', '_i', '_ii', '_iii', '_i1', 'print_function', 'Magics', 'magics_class', 'line_magic', 'cell_magic', 'line_cell_magic', 'MyMagics', 'load_ipython_extension', '_i2', '_i3', '_i4', '_4', '_i5', 'ip', '_i6', '_6', '_i7', 'click', 'hello', 'args', '_i8', '_i9', '_i10', '_i11', '_i12', '_i13', '_i14', '_i15', '_i16', '_i17', '_i18', '_i19', '_i20', '_i21', '_i22', '_i23', '_23', '_i24']\n"
     ]
    },
    {
     "data": {
      "text/plain": [
       "'asdf'"
      ]
     },
     "execution_count": 24,
     "metadata": {},
     "output_type": "execute_result"
    }
   ],
   "source": [
    "%lmagic2 asdf"
   ]
  },
  {
   "cell_type": "code",
   "execution_count": null,
   "metadata": {},
   "outputs": [
    {
     "name": "stdout",
     "output_type": "stream",
     "text": [
      "\u001b[0;31mDocstring:\u001b[0m my line magic\n",
      "\u001b[0;31mFile:\u001b[0m      /tmp/ipykernel_568538/3084839944.py"
     ]
    }
   ],
   "source": [
    "lmagic2?"
   ]
  },
  {
   "cell_type": "markdown",
   "metadata": {},
   "source": [
    "# Command Line Parsing"
   ]
  },
  {
   "cell_type": "code",
   "execution_count": null,
   "metadata": {},
   "outputs": [
    {
     "name": "stdout",
     "output_type": "stream",
     "text": [
      "Hello Adam!\n",
      "Hello Adam!\n",
      "Hello Adam!\n",
      "ERROR: No such option: --foo\n",
      "ERROR: Missing parameter: name\n",
      "Usage: helpyboi [OPTIONS] NAME\n",
      "\n",
      "  This is a nifty little hello command.\n",
      "\n",
      "Options:\n",
      "  --count INTEGER  number of greetings\n",
      "  --help           Show this message and exit.\n",
      "done.\n"
     ]
    }
   ],
   "source": [
    "import click\n",
    "\n",
    "@click.command()\n",
    "@click.option('--count', default=1, help='number of greetings')\n",
    "@click.argument('name')\n",
    "def hello(count, name):\n",
    "    \"\"\"This is a nifty little hello command.\"\"\"\n",
    "    for x in range(count):\n",
    "        click.echo(f\"Hello {name}!\")\n",
    "\n",
    "# standalone_mode makes it so that click doesn't call sys.exit() when it's done\n",
    "hello(\"--count 3 Adam\".split(), standalone_mode=False)\n",
    "\n",
    "try:\n",
    "    hello(\"--foo 3 John\".split(), standalone_mode=False)\n",
    "except Exception as e:\n",
    "    print(\"ERROR:\", e)\n",
    "\n",
    "try:\n",
    "    hello([], standalone_mode=False)\n",
    "except Exception as e:\n",
    "    print(\"ERROR:\", e)\n",
    "\n",
    "# for other arguments that can be passed to click:\n",
    "# https://github.com/pallets/click/blob/main/src/click/core.py#L1238\n",
    "\n",
    "hello(args=[\"--help\"], prog_name=\"helpyboi\", standalone_mode=False)\n",
    "\n",
    "print(\"done.\")"
   ]
  },
  {
   "cell_type": "markdown",
   "metadata": {},
   "source": [
    "## Commands\n",
    "- %roc \\[n]\n",
    "    - break on nth step\n",
    "- %brk\n",
    "    - list\n",
    "    - remove\n",
    "    - add\n",
    "    - clear\n",
    "- %cont\n",
    "- %step \\[n]\n",
    "- %state \\[module]\n",
    "- %dump \\[--format x] \\[filename] "
   ]
  }
 ],
 "metadata": {
  "kernelspec": {
   "display_name": ".venv",
   "language": "python",
   "name": "python3"
  },
  "language_info": {
   "codemirror_mode": {
    "name": "ipython",
    "version": 3
   },
   "file_extension": ".py",
   "mimetype": "text/x-python",
   "name": "python",
   "nbconvert_exporter": "python",
   "pygments_lexer": "ipython3",
   "version": "3.11.9"
  }
 },
 "nbformat": 4,
 "nbformat_minor": 2
}
