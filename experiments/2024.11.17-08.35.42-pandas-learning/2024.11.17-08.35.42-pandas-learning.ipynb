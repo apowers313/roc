{
 "cells": [
  {
   "cell_type": "markdown",
   "metadata": {},
   "source": [
    "__[pandas learning](https://github.com/apowers313/roc/blob/master/experiments/2024.11.17-08.35.42-pandas-learning/2024.11.17-08.35.42-pandas-learning.ipynb)__"
   ]
  },
  {
   "cell_type": "code",
   "execution_count": 1,
   "metadata": {},
   "outputs": [
    {
     "name": "stdout",
     "output_type": "stream",
     "text": [
      "Sun Nov 17 08:35:55 PST 2024\n"
     ]
    }
   ],
   "source": [
    "!date"
   ]
  },
  {
   "cell_type": "code",
   "execution_count": 2,
   "metadata": {},
   "outputs": [],
   "source": [
    "# save notebook path before we get started\n",
    "import os\n",
    "\n",
    "notebook_path = os.path.abspath(\"\")  # not sure if this or os.getcwd() is more reliable"
   ]
  },
  {
   "cell_type": "code",
   "execution_count": 29,
   "metadata": {},
   "outputs": [
    {
     "name": "stdout",
     "output_type": "stream",
     "text": [
      "--- dataframe ---\n",
      "df    nums  percents    names\n",
      "0    24   0.33333      bob\n",
      "1    72   0.25000    alice\n",
      "2   216   1.00000  mallory\n",
      "df types nums          int64\n",
      "percents    float64\n",
      "names        object\n",
      "dtype: object\n",
      "first 3\n",
      "mallory 1.0\n",
      "--- dataset ---\n",
      "ds    nums  percents    names\n",
      "0     6   0.33333      bob\n",
      "1    18   0.25000    alice\n",
      "2    54   1.00000  mallory\n",
      "ds types nums          int64\n",
      "percents    float64\n",
      "names        object\n",
      "dtype: object\n",
      "first 6\n",
      "mallory 1.0\n",
      "couldn't multiply: To ensure that the DataSet adheres to its schema, you cannot perform inplace modifications. You can either use dataset.to_dataframe() to cast the DataSet to a DataFrame, or use operations that return a DataFrame, e.g. df = df.assign(...).\n",
      "ds    nums  percents    names\n",
      "0    24   0.33333      bob\n",
      "1    72   0.25000    alice\n",
      "2   216   1.00000  mallory\n"
     ]
    },
    {
     "name": "stderr",
     "output_type": "stream",
     "text": [
      "/tmp/ipykernel_858644/3835473157.py:17: FutureWarning: Series.__getitem__ treating keys as positions is deprecated. In a future version, integer keys will always be treated as labels (consistent with DataFrame behavior). To access a value by position, use `ser.iloc[pos]`\n",
      "  print(\"first\", df.iloc[0][0])\n",
      "/tmp/ipykernel_858644/3835473157.py:18: FutureWarning: Series.__getitem__ treating keys as positions is deprecated. In a future version, integer keys will always be treated as labels (consistent with DataFrame behavior). To access a value by position, use `ser.iloc[pos]`\n",
      "  print(\"mallory\", df.iloc[2][1])\n",
      "/tmp/ipykernel_858644/3835473157.py:25: FutureWarning: Series.__getitem__ treating keys as positions is deprecated. In a future version, integer keys will always be treated as labels (consistent with DataFrame behavior). To access a value by position, use `ser.iloc[pos]`\n",
      "  print(\"first\", ds.iloc[0][0])\n",
      "/tmp/ipykernel_858644/3835473157.py:26: FutureWarning: Series.__getitem__ treating keys as positions is deprecated. In a future version, integer keys will always be treated as labels (consistent with DataFrame behavior). To access a value by position, use `ser.iloc[pos]`\n",
      "  print(\"mallory\", ds.iloc[2][1])\n",
      "/tmp/ipykernel_858644/3835473157.py:31: FutureWarning: ChainedAssignmentError: behaviour will change in pandas 3.0!\n",
      "You are setting values through chained assignment. Currently this works in certain cases, but when using Copy-on-Write (which will become the default behaviour in pandas 3.0) this will never work to update the original DataFrame or Series, because the intermediate object on which we are setting values will behave as a copy.\n",
      "A typical example is when you are setting values in a column of a DataFrame, like:\n",
      "\n",
      "df[\"col\"][row_indexer] = value\n",
      "\n",
      "Use `df.loc[row_indexer, \"col\"] = values` instead, to perform the assignment in a single step and ensure this keeps updating the original `df`.\n",
      "\n",
      "See the caveats in the documentation: https://pandas.pydata.org/pandas-docs/stable/user_guide/indexing.html#returning-a-view-versus-a-copy\n",
      "\n",
      "  ds.to_dataframe()[\"nums\"] *= 2\n"
     ]
    }
   ],
   "source": [
    "import pandas as pd\n",
    "from strictly_typed_pandas import DataSet\n",
    "\n",
    "\n",
    "class MySchema:\n",
    "    nums: int\n",
    "    percents: float\n",
    "    names: str\n",
    "\n",
    "\n",
    "df = pd.DataFrame(\n",
    "    {\"nums\": [3, 9, 27], \"percents\": [0.33333, 0.25, 1], \"names\": [\"bob\", \"alice\", \"mallory\"]}\n",
    ")\n",
    "print(\"--- dataframe ---\")\n",
    "print(\"df\", ds)\n",
    "print(\"df types\", df.dtypes)\n",
    "print(\"first\", df.iloc[0][0])\n",
    "print(\"mallory\", df.iloc[2][1])\n",
    "df[\"nums\"] *= 2\n",
    "\n",
    "print(\"--- dataset ---\")\n",
    "ds = DataSet[MySchema](df)\n",
    "print(\"ds\", ds)\n",
    "print(\"ds types\", ds.dtypes)\n",
    "print(\"first\", ds.iloc[0][0])\n",
    "print(\"mallory\", ds.iloc[2][1])\n",
    "try:\n",
    "    ds[\"nums\"] *= 2\n",
    "except NotImplementedError as e:\n",
    "    print(\"couldn't multiply:\", e)\n",
    "ds.to_dataframe()[\"nums\"] *= 2\n",
    "print(\"ds\", ds)"
   ]
  }
 ],
 "metadata": {
  "kernelspec": {
   "display_name": ".venv",
   "language": "python",
   "name": "python3"
  },
  "language_info": {
   "codemirror_mode": {
    "name": "ipython",
    "version": 3
   },
   "file_extension": ".py",
   "mimetype": "text/x-python",
   "name": "python",
   "nbconvert_exporter": "python",
   "pygments_lexer": "ipython3",
   "version": "3.11.10"
  }
 },
 "nbformat": 4,
 "nbformat_minor": 2
}
