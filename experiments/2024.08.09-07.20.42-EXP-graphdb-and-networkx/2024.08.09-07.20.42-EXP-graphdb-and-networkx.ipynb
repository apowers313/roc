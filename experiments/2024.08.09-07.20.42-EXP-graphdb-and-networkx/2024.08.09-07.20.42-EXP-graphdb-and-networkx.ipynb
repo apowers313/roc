{
 "cells": [
  {
   "cell_type": "markdown",
   "metadata": {},
   "source": [
    "__[graphdb and networkx](https://github.com/apowers313/roc/blob/master/experiments/2024.08.09-07.20.42-EXP-graphdb-and-networkx/2024.08.09-07.20.42-EXP-graphdb-and-networkx.ipynb)__\n",
    "\n",
    "_Experiment Template v0.3.0_"
   ]
  },
  {
   "cell_type": "markdown",
   "metadata": {},
   "source": [
    "# System Information"
   ]
  },
  {
   "cell_type": "markdown",
   "metadata": {},
   "source": [
    "## Basic Info"
   ]
  },
  {
   "cell_type": "code",
   "execution_count": 1,
   "metadata": {},
   "outputs": [
    {
     "name": "stdout",
     "output_type": "stream",
     "text": [
      "/home/apowers/Projects/roc\n",
      "Fri Aug  9 07:21:05 PDT 2024\n"
     ]
    }
   ],
   "source": [
    "%cd /home/apowers/Projects/roc\n",
    "!date"
   ]
  },
  {
   "cell_type": "markdown",
   "metadata": {},
   "source": [
    "## GIT"
   ]
  },
  {
   "cell_type": "code",
   "execution_count": 2,
   "metadata": {},
   "outputs": [
    {
     "name": "stdout",
     "output_type": "stream",
     "text": [
      "git hash: 09e5466b29bdabcea303453b7046a515b2451a11\n",
      "git status:\n",
      " M roc/attention.py\n",
      " M roc/graphdb.py\n",
      " M roc/jupyter/state.py\n",
      " M tests/attention_test.py\n",
      " M tests/graphdb_test.py\n",
      "?? ARCHITECTURE.md\n",
      "?? experiments/2024.08.09-07.20.42-EXP-graphdb-and-networkx/\n",
      "?? roc/feature_extractors/contains.py\n",
      "?? roc/feature_extractors/ratio.py\n",
      "?? roc/feature_extractors/shape.py\n",
      "?? roc/jupyter/save.py\n",
      "\n"
     ]
    }
   ],
   "source": [
    "!echo \"git hash:\" `git rev-parse HEAD`\n",
    "!echo \"git status:\"\n",
    "!git status -s | cat\n",
    "!echo"
   ]
  },
  {
   "cell_type": "markdown",
   "metadata": {},
   "source": [
    "## Python"
   ]
  },
  {
   "cell_type": "code",
   "execution_count": 3,
   "metadata": {},
   "outputs": [
    {
     "name": "stdout",
     "output_type": "stream",
     "text": [
      "Python 3.11.9\n",
      "pip 23.1.2 from /home/apowers/Projects/roc/.venv/lib/python3.11/site-packages/pip (python 3.11)\n",
      "installed packages:\n",
      "Package                       Version           Editable project location\n",
      "----------------------------- ----------------- --------------------------\n",
      "alabaster                     0.7.16\n",
      "annotated-types               0.7.0\n",
      "astroid                       3.2.4\n",
      "asttokens                     2.4.1\n",
      "attrs                         24.1.0\n",
      "Babel                         2.15.0\n",
      "bandit                        1.7.9\n",
      "black                         24.8.0\n",
      "cachetools                    5.4.0\n",
      "caerus                        0.1.10\n",
      "certifi                       2024.7.4\n",
      "cfgv                          3.4.0\n",
      "chardet                       5.2.0\n",
      "charset-normalizer            3.3.2\n",
      "click                         8.1.7\n",
      "cloudpickle                   3.0.0\n",
      "colorama                      0.4.6\n",
      "colored                       2.2.4\n",
      "comm                          0.2.2\n",
      "contourpy                     1.2.1\n",
      "coverage                      7.6.0\n",
      "coverage-badge                1.1.2\n",
      "cuda-python                   12.6.0\n",
      "cupy-cuda12x                  13.2.0\n",
      "cycler                        0.12.1\n",
      "darglint                      1.8.1\n",
      "debugpy                       1.8.3\n",
      "decorator                     5.1.1\n",
      "deptry                        0.12.0\n",
      "dill                          0.3.8\n",
      "distlib                       0.3.8\n",
      "docutils                      0.21.2\n",
      "dparse                        0.6.3\n",
      "executing                     2.0.1\n",
      "fastjsonschema                2.20.0\n",
      "fastrlock                     0.8.2\n",
      "filelock                      3.15.4\n",
      "findpeaks                     2.6.4\n",
      "fonttools                     4.53.1\n",
      "ghp-import                    2.1.0\n",
      "gprof2dot                     2024.6.6\n",
      "GPUtil                        1.4.0\n",
      "griffe                        0.48.0\n",
      "gym                           0.23.0\n",
      "gym-notices                   0.0.8\n",
      "icecream                      2.1.3\n",
      "identify                      2.6.0\n",
      "idna                          3.7\n",
      "imageio                       2.34.2\n",
      "imagesize                     1.4.1\n",
      "iniconfig                     2.0.0\n",
      "interrogate                   1.7.0\n",
      "ipykernel                     6.29.5\n",
      "ipympl                        0.9.4\n",
      "ipython                       8.26.0\n",
      "ipython-genutils              0.2.0\n",
      "ipywidgets                    8.1.3\n",
      "isort                         5.13.2\n",
      "jedi                          0.19.1\n",
      "Jinja2                        3.1.4\n",
      "joblib                        1.4.2\n",
      "json-fix                      0.5.2\n",
      "jsonschema                    4.23.0\n",
      "jsonschema-specifications     2023.12.1\n",
      "jupyter_client                8.6.2\n",
      "jupyter_core                  5.7.2\n",
      "jupyterlab_widgets            3.0.11\n",
      "kiwisolver                    1.4.5\n",
      "lazy_loader                   0.4\n",
      "livereload                    2.7.0\n",
      "llvmlite                      0.43.0\n",
      "loguru                        0.7.2\n",
      "Markdown                      3.6\n",
      "markdown-it-py                3.0.0\n",
      "MarkupSafe                    2.1.5\n",
      "marshmallow                   3.21.3\n",
      "matplotlib                    3.9.1\n",
      "matplotlib-inline             0.1.7\n",
      "mccabe                        0.7.0\n",
      "mdurl                         0.1.2\n",
      "mergedeep                     1.3.4\n",
      "mkdocs                        1.6.0\n",
      "mkdocs-autorefs               1.0.1\n",
      "mkdocs-gen-files              0.5.0\n",
      "mkdocs-get-deps               0.2.0\n",
      "mkdocs-literate-nav           0.6.1\n",
      "mkdocs-material               9.5.31\n",
      "mkdocs-material-extensions    1.3.1\n",
      "mkdocstrings                  0.22.0\n",
      "mkdocstrings-python           1.8.0\n",
      "mypy                          1.11.1\n",
      "mypy-extensions               1.0.0\n",
      "nbformat                      5.10.4\n",
      "nest-asyncio                  1.6.0\n",
      "networkx                      3.3\n",
      "networkx-gdf                  1.3.3\n",
      "nle                           0.9.0+7228844\n",
      "nodeenv                       1.9.1\n",
      "numba                         0.60.0\n",
      "numpy                         1.26.4\n",
      "nx-cugraph-cu12               24.6.1\n",
      "nx-parallel                   0.2\n",
      "opencv-python                 4.10.0.84\n",
      "packaging                     24.1\n",
      "paginate                      0.5.6\n",
      "pandas                        2.2.2\n",
      "parso                         0.8.4\n",
      "pathspec                      0.12.1\n",
      "pbr                           6.0.0\n",
      "pexpect                       4.9.0\n",
      "pickleshare                   0.7.5\n",
      "pillow                        10.4.0\n",
      "pip                           23.1.2\n",
      "platformdirs                  4.2.2\n",
      "plotly                        5.23.0\n",
      "pluggy                        1.5.0\n",
      "pre-commit                    3.8.0\n",
      "prompt_toolkit                3.0.47\n",
      "psutil                        6.0.0\n",
      "ptyprocess                    0.7.0\n",
      "pure_eval                     0.2.3\n",
      "py                            1.11.0\n",
      "pybind11                      2.13.1\n",
      "pydantic                      2.8.2\n",
      "pydantic_core                 2.20.1\n",
      "pydantic-settings             2.4.0\n",
      "pydocstyle                    6.3.0\n",
      "Pygments                      2.18.0\n",
      "pylibcugraph-cu12             24.6.1\n",
      "pylibraft-cu12                24.6.0\n",
      "pylint                        3.2.6\n",
      "pymdown-extensions            10.9\n",
      "pymgclient                    1.3.1\n",
      "pyparsing                     3.1.2\n",
      "pytest                        8.3.2\n",
      "pytest-cov                    4.1.0\n",
      "pytest-emoji                  0.2.0\n",
      "pytest-html                   3.2.0\n",
      "pytest-metadata               3.1.1\n",
      "pytest-mock                   3.14.0\n",
      "pytest-profiling              1.7.0\n",
      "python-dateutil               2.9.0.post0\n",
      "python-dotenv                 1.0.1\n",
      "pytz                          2024.1\n",
      "pyupgrade                     3.17.0\n",
      "PyYAML                        6.0.1\n",
      "pyyaml_env_tag                0.1\n",
      "pyzmq                         26.1.0\n",
      "reactivex                     4.0.4\n",
      "referencing                   0.35.1\n",
      "regex                         2024.7.24\n",
      "requests                      2.32.3\n",
      "rich                          13.7.1\n",
      "rmm-cu12                      24.6.0\n",
      "roc                           0.1.0             /home/apowers/Projects/roc\n",
      "rpds-py                       0.19.1\n",
      "ruamel.yaml                   0.18.6\n",
      "ruamel.yaml.clib              0.2.8\n",
      "ruff                          0.4.10\n",
      "safety                        2.4.0b2\n",
      "scikit-image                  0.24.0\n",
      "scipy                         1.14.0\n",
      "setuptools                    72.1.0\n",
      "six                           1.16.0\n",
      "snowballstemmer               2.2.0\n",
      "Sphinx                        7.4.7\n",
      "sphinx-autobuild              2021.3.14\n",
      "sphinxcontrib-applehelp       2.0.0\n",
      "sphinxcontrib-devhelp         2.0.0\n",
      "sphinxcontrib-htmlhelp        2.1.0\n",
      "sphinxcontrib-jsmath          1.0.1\n",
      "sphinxcontrib-qthelp          2.0.0\n",
      "sphinxcontrib-serializinghtml 2.0.0\n",
      "stack-data                    0.6.3\n",
      "stevedore                     5.2.0\n",
      "tabulate                      0.9.0\n",
      "tenacity                      9.0.0\n",
      "tifffile                      2024.7.24\n",
      "tokenize-rt                   5.2.0\n",
      "tomlkit                       0.13.0\n",
      "tornado                       6.4.1\n",
      "tqdm                          4.66.5\n",
      "traitlets                     5.14.3\n",
      "types-cachetools              5.4.0.20240717\n",
      "types-decorator               5.1.8.20240310\n",
      "types-Markdown                3.6.0.20240316\n",
      "types-pytz                    2024.1.0.20240417\n",
      "types-PyYAML                  6.0.12.20240724\n",
      "types-six                     1.16.21.20240513\n",
      "types-tabulate                0.9.0.20240106\n",
      "typing_extensions             4.12.2\n",
      "tzdata                        2024.1\n",
      "urllib3                       2.2.2\n",
      "virtualenv                    20.26.3\n",
      "watchdog                      4.0.1\n",
      "wcwidth                       0.2.13\n",
      "wget                          3.2\n",
      "wheel                         0.40.0\n",
      "widgetsnbextension            4.0.11\n",
      "xarray                        2024.7.0\n",
      "\u001b[33mWARNING: There was an error checking the latest version of pip.\u001b[0m\u001b[33m\n",
      "\u001b[0m"
     ]
    }
   ],
   "source": [
    "!python --version\n",
    "!pip --version\n",
    "!echo \"installed packages:\"\n",
    "!pip list"
   ]
  },
  {
   "cell_type": "markdown",
   "metadata": {},
   "source": [
    "## System"
   ]
  },
  {
   "cell_type": "code",
   "execution_count": 4,
   "metadata": {},
   "outputs": [
    {
     "name": "stdout",
     "output_type": "stream",
     "text": [
      "Linux 77efc77f71c7 5.15.0-116-generic #126-Ubuntu SMP Mon Jul 1 10:14:24 UTC 2024 x86_64 x86_64 x86_64 GNU/Linux\n",
      "\n",
      "system cpus:\n",
      "Architecture:             x86_64\n",
      "  CPU op-mode(s):         32-bit, 64-bit\n",
      "  Address sizes:          46 bits physical, 48 bits virtual\n",
      "  Byte Order:             Little Endian\n",
      "CPU(s):                   32\n",
      "  On-line CPU(s) list:    0-31\n",
      "Vendor ID:                GenuineIntel\n",
      "  Model name:             Intel(R) Xeon(R) Gold 6134 CPU @ 3.20GHz\n",
      "    CPU family:           6\n",
      "    Model:                85\n",
      "    Thread(s) per core:   2\n",
      "    Core(s) per socket:   8\n",
      "    Socket(s):            2\n",
      "    Stepping:             4\n",
      "    CPU max MHz:          3700.0000\n",
      "    CPU min MHz:          1200.0000\n",
      "    BogoMIPS:             6400.00\n",
      "    Flags:                fpu vme de pse tsc msr pae mce cx8 apic sep mtrr pge m\n",
      "                          ca cmov pat pse36 clflush dts acpi mmx fxsr sse sse2 s\n",
      "                          s ht tm pbe syscall nx pdpe1gb rdtscp lm constant_tsc \n",
      "                          art arch_perfmon pebs bts rep_good nopl xtopology nons\n",
      "                          top_tsc cpuid aperfmperf pni pclmulqdq dtes64 monitor \n",
      "                          ds_cpl vmx smx est tm2 ssse3 sdbg fma cx16 xtpr pdcm p\n",
      "                          cid dca sse4_1 sse4_2 x2apic movbe popcnt tsc_deadline\n",
      "                          _timer aes xsave avx f16c rdrand lahf_lm abm 3dnowpref\n",
      "                          etch cpuid_fault epb cat_l3 cdp_l3 invpcid_single pti \n",
      "                          intel_ppin ssbd mba ibrs ibpb stibp tpr_shadow vnmi fl\n",
      "                          expriority ept vpid ept_ad fsgsbase tsc_adjust bmi1 hl\n",
      "                          e avx2 smep bmi2 erms invpcid rtm cqm mpx rdt_a avx512\n",
      "                          f avx512dq rdseed adx smap clflushopt clwb intel_pt av\n",
      "                          x512cd avx512bw avx512vl xsaveopt xsavec xgetbv1 xsave\n",
      "                          s cqm_llc cqm_occup_llc cqm_mbm_total cqm_mbm_local dt\n",
      "                          herm ida arat pln pts pku ospke md_clear flush_l1d arc\n",
      "                          h_capabilities\n",
      "Virtualization features:  \n",
      "  Virtualization:         VT-x\n",
      "Caches (sum of all):      \n",
      "  L1d:                    512 KiB (16 instances)\n",
      "  L1i:                    512 KiB (16 instances)\n",
      "  L2:                     16 MiB (16 instances)\n",
      "  L3:                     49.5 MiB (2 instances)\n",
      "NUMA:                     \n",
      "  NUMA node(s):           2\n",
      "  NUMA node0 CPU(s):      0,2,4,6,8,10,12,14,16,18,20,22,24,26,28,30\n",
      "  NUMA node1 CPU(s):      1,3,5,7,9,11,13,15,17,19,21,23,25,27,29,31\n",
      "Vulnerabilities:          \n",
      "  Gather data sampling:   Mitigation; Microcode\n",
      "  Itlb multihit:          KVM: Mitigation: VMX disabled\n",
      "  L1tf:                   Mitigation; PTE Inversion; VMX conditional cache flush\n",
      "                          es, SMT vulnerable\n",
      "  Mds:                    Mitigation; Clear CPU buffers; SMT vulnerable\n",
      "  Meltdown:               Mitigation; PTI\n",
      "  Mmio stale data:        Mitigation; Clear CPU buffers; SMT vulnerable\n",
      "  Reg file data sampling: Not affected\n",
      "  Retbleed:               Mitigation; IBRS\n",
      "  Spec rstack overflow:   Not affected\n",
      "  Spec store bypass:      Mitigation; Speculative Store Bypass disabled via prct\n",
      "                          l and seccomp\n",
      "  Spectre v1:             Mitigation; usercopy/swapgs barriers and __user pointe\n",
      "                          r sanitization\n",
      "  Spectre v2:             Mitigation; IBRS; IBPB conditional; STIBP conditional;\n",
      "                           RSB filling; PBRSB-eIBRS Not affected; BHI Not affect\n",
      "                          ed\n",
      "  Srbds:                  Not affected\n",
      "  Tsx async abort:        Mitigation; Clear CPU buffers; SMT vulnerable\n",
      "\n",
      "system memory:\n",
      "RANGE                                  SIZE  STATE REMOVABLE BLOCK\n",
      "0x0000000000000000-0x000000007fffffff    2G online       yes     0\n",
      "0x0000000100000000-0x000000207fffffff  126G online       yes  2-64\n",
      "\n",
      "Memory block size:         2G\n",
      "Total online memory:     128G\n",
      "Total offline memory:      0B\n",
      "               total        used        free      shared  buff/cache   available\n",
      "Mem:       131608992     2171640   108088860        5688    21348492   128361168\n",
      "Swap:        8388604           0     8388604\n"
     ]
    }
   ],
   "source": [
    "!uname -a\n",
    "!echo\n",
    "!echo \"system cpus:\"\n",
    "!lscpu\n",
    "!echo\n",
    "!echo \"system memory:\"\n",
    "!lsmem\n",
    "!free"
   ]
  },
  {
   "cell_type": "markdown",
   "metadata": {},
   "source": []
  },
  {
   "cell_type": "markdown",
   "metadata": {},
   "source": [
    "# ROC Setup"
   ]
  },
  {
   "cell_type": "markdown",
   "metadata": {},
   "source": [
    "## ROC Config & Init"
   ]
  },
  {
   "cell_type": "code",
   "execution_count": 5,
   "metadata": {},
   "outputs": [
    {
     "name": "stdout",
     "output_type": "stream",
     "text": [
      ".env file:\n",
      "log_modules=\"graphdb:INFO;event:INFO\"\n",
      "config:\n",
      "db_host='127.0.0.1' db_port=7687 db_conn_encrypted=False db_username='' db_password='' db_lazy=False node_cache_size=65536 edge_cache_size=65536 log_enable=True log_level='INFO' log_modules='graphdb:INFO;event:INFO' default_action='pass' perception_components=['delta:perception'] enable_gym_dump_env=False max_dump_frames=10 nethack_spectrum='chars'\n"
     ]
    }
   ],
   "source": [
    "import roc\n",
    "\n",
    "!echo \".env file:\"\n",
    "!cat .env\n",
    "!echo\n",
    "\n",
    "roc.init()\n",
    "# or:\n",
    "# roc.init({\"setting\": val})\n",
    "\n",
    "print(f\"config:\\n{roc.Config.get()}\")  # noqa: T201"
   ]
  },
  {
   "cell_type": "markdown",
   "metadata": {},
   "source": [
    "## Import Paths"
   ]
  },
  {
   "cell_type": "code",
   "execution_count": 6,
   "metadata": {},
   "outputs": [],
   "source": [
    "import sys\n",
    "\n",
    "sys.path.append(\"./tests\")"
   ]
  },
  {
   "cell_type": "markdown",
   "metadata": {},
   "source": [
    "# Experiment"
   ]
  },
  {
   "cell_type": "markdown",
   "metadata": {},
   "source": [
    "## NetworkX Export"
   ]
  },
  {
   "cell_type": "code",
   "execution_count": 1,
   "metadata": {},
   "outputs": [
    {
     "name": "stderr",
     "output_type": "stream",
     "text": [
      "/home/apowers/Projects/roc/roc/config.py:52: ConfigInitWarning: Getting settings before config module was initialized. Please call init() first\n",
      "  warnings.warn(\n"
     ]
    }
   ],
   "source": [
    "from roc.graphdb import GraphDB\n",
    "\n",
    "G = GraphDB.to_networkx()"
   ]
  },
  {
   "cell_type": "code",
   "execution_count": 3,
   "metadata": {},
   "outputs": [
    {
     "data": {
      "text/plain": [
       "NodeDataView({0: {'name': 'Waymar Royce'}, 6: {'name': 'Nights Watch'}, 453: {'order': 1}, 7: {'name': 'Gared'}, 454: {'order': 2}, 4: {'imdb_rating': 9.1, 'name': 'Winter Is Coming', 'number': 1}, 5: {'number': 1}, 1: {'name': 'Beyond the Wall'}, 23: {'imdb_rating': 8.8, 'name': 'The Kingsroad', 'number': 2}, 460: {'order': 8}, 9: {'name': 'Winterfell'}, 455: {'order': 3}, 8: {'name': 'Will'}, 10: {'name': 'Ned Stark'}, 11: {'name': 'House Stark'}, 462: {'order': 10}, 477: {'order': 25}, 507: {'order': 55}, 1071: {'order': 619}, 1075: {'order': 623}, 29: {'name': 'Lady'}, 42: {'name': 'Lannister soldier'}, 363: {'name': 'Oswell Whent'}, 365: {'name': 'Arthur Dayne'}, 22: {'name': 'Summer'}, 677: {'order': 225}, 736: {'order': 284}, 1102: {'order': 650}, 21: {'name': 'Catspaw assassin'}, 49: {'name': 'Wildling'}, 247: {'name': 'Deer'}, 223: {'imdb_rating': 9.9, 'name': 'The Rains of Castamere', 'number': 9}, 178: {'number': 3}, 221: {'name': 'The Gift'}, 177: {'imdb_rating': 8.8, 'name': 'Valar Dohaeris', 'number': 1}, 641: {'order': 189}, 175: {'name': 'Astapor'}, 651: {'order': 199}, 188: {'imdb_rating': 9.6, 'name': 'And Now His Watch Is Ended', 'number': 4}, 647: {'order': 195}, 2: {'name': 'White Walker'}, 3: {'name': 'None'}, 336: {'name': 'White Walkers'}, 674: {'order': 222}, 975: {'order': 523}, 982: {'order': 530}, 1101: {'order': 649}, 1103: {'order': 651}, 337: {'name': 'Loboda'}, 371: {'name': 'Child of the Forest'}, 374: {'name': 'Three-eyed Raven'}, 12: {'name': 'Stag'}, 456: {'order': 4}, 457: {'order': 5}, 13: {'name': 'Direwolf'}, 38: {'name': 'Tribesman'}, 465: {'order': 13}, 466: {'order': 14}, 467: {'order': 15}, 468: {'order': 16}, 469: {'order': 17}, 470: {'order': 18}, 471: {'order': 19}, 472: {'order': 20}, 473: {'order': 21}, 36: {'name': 'Stark soldier'}, 34: {'imdb_rating': 9.1, 'name': 'The Wolf and the Lion', 'number': 5}, 37: {'name': 'Eastern Road'}, 464: {'order': 12}, 15: {'name': 'Kings Landing'}, 458: {'order': 6}, 14: {'name': 'Jon Arryn'}, 17: {'name': 'House Arryn'}, 16: {'name': 'Lysa Arryn'}, 211: {'name': 'House Baelish'}, 779: {'order': 327}, 209: {'name': 'Ros'}, 668: {'order': 216}, 208: {'imdb_rating': 8.8, 'name': 'The Climb', 'number': 6}, 662: {'order': 210}, 207: {'name': 'The Wall'}, 663: {'order': 211}, 48: {'name': 'Free Folk'}, 482: {'order': 30}, 535: {'order': 83}, 536: {'order': 84}, 664: {'order': 212}, 665: {'order': 213}, 666: {'order': 214}, 667: {'order': 215}, 676: {'order': 224}, 678: {'order': 226}, 792: {'order': 340}, 793: {'order': 341}, 795: {'order': 343}, 796: {'order': 344}, 797: {'order': 345}, 798: {'order': 346}, 801: {'order': 349}, 802: {'order': 350}, 803: {'order': 351}, 808: {'order': 356}, 809: {'order': 357}, 810: {'order': 358}, 811: {'order': 359}, 812: {'order': 360}, 815: {'order': 363}, 816: {'order': 364}, 817: {'order': 365}, 824: {'order': 372}, 825: {'order': 373}, 826: {'order': 374}, 827: {'order': 375}, 828: {'order': 376}, 830: {'order': 378}, 831: {'order': 379}, 832: {'order': 380}, 833: {'order': 381}, 834: {'order': 382}, 835: {'order': 383}, 836: {'order': 384}, 837: {'order': 385}, 840: {'order': 388}, 841: {'order': 389}, 842: {'order': 390}, 843: {'order': 391}, 844: {'order': 392}, 845: {'order': 393}, 846: {'order': 394}, 847: {'order': 395}, 850: {'order': 398}, 853: {'order': 401}, 854: {'order': 402}, 855: {'order': 403}, 859: {'order': 407}, 861: {'order': 409}, 865: {'order': 413}, 868: {'order': 416}, 869: {'order': 417}, 870: {'order': 418}, 871: {'order': 419}, 872: {'order': 420}, 873: {'order': 421}, 874: {'order': 422}, 875: {'order': 423}, 876: {'order': 424}, 877: {'order': 425}, 878: {'order': 426}, 879: {'order': 427}, 880: {'order': 428}, 881: {'order': 429}, 882: {'order': 430}, 883: {'order': 431}, 884: {'order': 432}, 885: {'order': 433}, 886: {'order': 434}, 887: {'order': 435}, 888: {'order': 436}, 889: {'order': 437}, 890: {'order': 438}, 891: {'order': 439}, 966: {'order': 514}, 967: {'order': 515}, 968: {'order': 516}, 969: {'order': 517}, 970: {'order': 518}, 971: {'order': 519}, 972: {'order': 520}, 973: {'order': 521}, 974: {'order': 522}, 977: {'order': 525}, 978: {'order': 526}, 979: {'order': 527}, 980: {'order': 528}, 981: {'order': 529}, 983: {'order': 531}, 984: {'order': 532}, 985: {'order': 533}, 986: {'order': 534}, 987: {'order': 535}, 1196: {'order': 744}, 1197: {'order': 745}, 1198: {'order': 746}, 1199: {'order': 747}, 1210: {'order': 758}, 1214: {'order': 762}, 1215: {'order': 763}, 1216: {'order': 764}, 1219: {'order': 767}, 1220: {'order': 768}, 1221: {'order': 769}, 1235: {'order': 783}, 1245: {'order': 793}, 1769: {'order': 1317}, 1771: {'order': 1319}, 77: {'name': 'Nights Watch brother'}, 161: {'name': 'Baratheon of Dragonstone soldier'}, 183: {'name': 'Bolton soldier'}, 45: {'name': 'Wallen'}, 481: {'order': 29}, 47: {'imdb_rating': 9.2, 'name': 'A Golden Crown', 'number': 6}, 46: {'name': 'Robb Stark'}, 661: {'order': 209}, 717: {'order': 265}, 206: {'name': 'Rickard Karstark'}, 203: {'imdb_rating': 9, 'name': 'Kissed by Fire', 'number': 5}, 180: {'name': 'Riverrun'}, 658: {'order': 206}, 642: {'order': 190}, 181: {'imdb_rating': 8.6, 'name': 'Dark Wings Dark Words', 'number': 2}, 98: {'name': 'None'}, 512: {'order': 60}, 849: {'order': 397}, 97: {'name': 'The Silver'}, 179: {'name': 'Hoster Tully'}, 187: {'name': 'Bannen'}, 95: {'imdb_rating': 8.8, 'name': 'The North Remembers', 'number': 1}, 96: {'number': 2}, 81: {'name': 'Red Waste'}, 109: {'imdb_rating': 8.5, 'name': 'The Night Lands', 'number': 2}, 518: {'order': 66}, 502: {'order': 50}, 83: {'imdb_rating': 9.6, 'name': 'Baelor', 'number': 9}, 503: {'order': 51}, 84: {'name': 'Qotho'}, 20: {'name': 'Dothraki'}, 18: {'name': 'Dothraki man'}, 58: {'name': 'House Targaryen'}, 459: {'order': 7}, 1080: {'order': 628}, 1081: {'order': 629}, 1586: {'order': 1134}, 1587: {'order': 1135}, 1588: {'order': 1136}, 1589: {'order': 1137}, 1590: {'order': 1138}, 1591: {'order': 1139}, 1592: {'order': 1140}, 1593: {'order': 1141}, 1594: {'order': 1142}, 1595: {'order': 1143}, 1596: {'order': 1144}, 1597: {'order': 1145}, 1598: {'order': 1146}, 1744: {'order': 1292}, 1745: {'order': 1293}, 1746: {'order': 1294}, 1747: {'order': 1295}, 1748: {'order': 1296}, 1749: {'order': 1297}, 1750: {'order': 1298}, 1751: {'order': 1299}, 1752: {'order': 1300}, 1753: {'order': 1301}, 1754: {'order': 1302}, 1755: {'order': 1303}, 2233: {'order': 1781}, 2234: {'order': 1782}, 2235: {'order': 1783}, 2236: {'order': 1784}, 2237: {'order': 1785}, 2238: {'order': 1786}, 2239: {'order': 1787}, 2240: {'order': 1788}, 2241: {'order': 1789}, 2242: {'order': 1790}, 2243: {'order': 1791}, 2244: {'order': 1792}, 2245: {'order': 1793}, 2246: {'order': 1794}, 2247: {'order': 1795}, 2248: {'order': 1796}, 2249: {'order': 1797}, 2250: {'order': 1798}, 55: {'name': 'Viserys Targaryen'}, 485: {'order': 33}, 56: {'name': 'Vaes Dothrak'}, 368: {'imdb_rating': 9.1, 'name': 'Book of the Stranger', 'number': 4}, 351: {'number': 6}, 350: {'imdb_rating': 8.5, 'name': 'The Red Woman', 'number': 1}, 1055: {'order': 603}, 129: {'name': 'Brienne of Tarth'}, 130: {'name': 'House Tarth'}, 531: {'order': 79}, 532: {'order': 80}, 633: {'order': 181}, 634: {'order': 182}, 635: {'order': 183}, 894: {'order': 442}, 899: {'order': 447}, 900: {'order': 448}, 901: {'order': 449}, 1047: {'order': 595}, 1056: {'order': 604}, 1058: {'order': 606}, 128: {'name': 'Baratheon of Storms End guard'}, 298: {'name': 'Sandor The Hound Clegane'}, 250: {'name': 'Baelish soldier'}, 164: {'name': 'Stannis Baratheon'}, 166: {'name': 'Podrick Payne'}, 27: {'name': 'House Lannister'}, 623: {'order': 171}, 1057: {'order': 605}, 165: {'name': 'Mandon Moore'}, 26: {'name': 'Sandor the Hound Clegane'}, 35: {'name': 'House Clegane'}, 461: {'order': 9}, 490: {'order': 38}, 511: {'order': 59}, 538: {'order': 86}, 539: {'order': 87}, 540: {'order': 88}, 541: {'order': 89}, 542: {'order': 90}, 601: {'order': 149}, 603: {'order': 151}, 650: {'order': 198}, 724: {'order': 272}, 725: {'order': 273}, 726: {'order': 274}, 727: {'order': 275}, 728: {'order': 276}, 730: {'order': 278}, 776: {'order': 324}, 777: {'order': 325}, 1107: {'order': 655}, 1108: {'order': 656}, 1109: {'order': 657}, 1110: {'order': 658}, 1112: {'order': 660}, 1114: {'order': 662}, 2667: {'order': 2215}, 2668: {'order': 2216}, 2669: {'order': 2217}, 2670: {'order': 2218}, 2672: {'order': 2220}, 2673: {'order': 2221}, 24: {'name': 'Mycah'}, 94: {'name': 'Knight'}, 138: {'name': 'Peasant'}, 193: {'name': 'Beric Dondarrion'}, 234: {'name': 'Frey soldier'}, 163: {'name': 'Baratheon of Kings Landing soldier'}, 242: {'name': 'Lowell (Kings Soldier)'}, 277: {'name': 'Biter'}, 380: {'name': 'Brotherhood Without Banners Member'}, 31: {'name': 'Gregor the Mountain Clegane'}, 463: {'order': 11}, 773: {'order': 321}, 774: {'order': 322}, 775: {'order': 323}, 791: {'order': 339}, 1065: {'order': 613}, 1111: {'order': 659}, 1831: {'order': 1379}, 2671: {'order': 2219}, 30: {'name': 'Ser Hugh of the Vale'}, 33: {'name': 'Cleganes horse'}, 121: {'name': 'Prisoner'}, 284: {'name': 'Oberyn Martell'}, 382: {'name': 'Faith Militant Brother'}, 445: {'name': 'Missandei'}, 315: {'name': 'Qyburn'}, 32: {'imdb_rating': 8.8, 'name': 'Cripples Bastards and Broken Things', 'number': 4}, 276: {'imdb_rating': 9.1, 'name': 'Mockingbird', 'number': 7}, 241: {'number': 4}, 240: {'imdb_rating': 9.1, 'name': 'Two Swords', 'number': 1}, 110: {'name': 'Riverlands'}, 519: {'order': 67}, 112: {'imdb_rating': 8.8, 'name': 'What Is Dead May Never Die', 'number': 3}, 520: {'order': 68}, 474: {'order': 22}, 475: {'order': 23}, 476: {'order': 24}, 478: {'order': 26}, 479: {'order': 27}, 491: {'order': 39}, 492: {'order': 40}, 493: {'order': 41}, 494: {'order': 42}, 495: {'order': 43}, 496: {'order': 44}, 521: {'order': 69}, 522: {'order': 70}, 523: {'order': 71}, 525: {'order': 73}, 528: {'order': 76}, 629: {'order': 177}, 1535: {'order': 1083}, 1536: {'order': 1084}, 1537: {'order': 1085}, 1538: {'order': 1086}, 1539: {'order': 1087}, 1540: {'order': 1088}, 1541: {'order': 1089}, 1542: {'order': 1090}, 1543: {'order': 1091}, 1544: {'order': 1092}, 1545: {'order': 1093}, 1546: {'order': 1094}, 1547: {'order': 1095}, 1548: {'order': 1096}, 1549: {'order': 1097}, 1550: {'order': 1098}, 1551: {'order': 1099}, 1552: {'order': 1100}, 1553: {'order': 1101}, 1554: {'order': 1102}, 1555: {'order': 1103}, 1557: {'order': 1105}, 1558: {'order': 1106}, 1559: {'order': 1107}, 1560: {'order': 1108}, 1561: {'order': 1109}, 1562: {'order': 1110}, 1563: {'order': 1111}, 1564: {'order': 1112}, 1565: {'order': 1113}, 1566: {'order': 1114}, 1567: {'order': 1115}, 1568: {'order': 1116}, 1569: {'order': 1117}, 1570: {'order': 1118}, 1571: {'order': 1119}, 1572: {'order': 1120}, 1573: {'order': 1121}, 1574: {'order': 1122}, 1575: {'order': 1123}, 1576: {'order': 1124}, 1577: {'order': 1125}, 1578: {'order': 1126}, 1579: {'order': 1127}, 1580: {'order': 1128}, 1581: {'order': 1129}, 1582: {'order': 1130}, 1583: {'order': 1131}, 1584: {'order': 1132}, 1585: {'order': 1133}, 1599: {'order': 1147}, 1600: {'order': 1148}, 1601: {'order': 1149}, 1602: {'order': 1150}, 1603: {'order': 1151}, 1604: {'order': 1152}, 1605: {'order': 1153}, 1606: {'order': 1154}, 1607: {'order': 1155}, 1608: {'order': 1156}, 1609: {'order': 1157}, 1610: {'order': 1158}, 1611: {'order': 1159}, 1612: {'order': 1160}, 1613: {'order': 1161}, 1614: {'order': 1162}, 1615: {'order': 1163}, 1616: {'order': 1164}, 1617: {'order': 1165}, 1618: {'order': 1166}, 1619: {'order': 1167}, 1620: {'order': 1168}, 1621: {'order': 1169}, 1622: {'order': 1170}, 1623: {'order': 1171}, 1624: {'order': 1172}, 1625: {'order': 1173}, 1626: {'order': 1174}, 1627: {'order': 1175}, 1628: {'order': 1176}, 1629: {'order': 1177}, 1630: {'order': 1178}, 1631: {'order': 1179}, 1632: {'order': 1180}, 1633: {'order': 1181}, 1634: {'order': 1182}, 1635: {'order': 1183}, 1636: {'order': 1184}, 1637: {'order': 1185}, 1638: {'order': 1186}, 1639: {'order': 1187}, 1640: {'order': 1188}, 1641: {'order': 1189}, 1642: {'order': 1190}, 1643: {'order': 1191}, 1644: {'order': 1192}, 1645: {'order': 1193}, 1646: {'order': 1194}, 1647: {'order': 1195}, 1648: {'order': 1196}, 1649: {'order': 1197}, 1650: {'order': 1198}, 1651: {'order': 1199}, 1652: {'order': 1200}, 1653: {'order': 1201}, 1654: {'order': 1202}, 1655: {'order': 1203}, 1656: {'order': 1204}, 1657: {'order': 1205}, 1658: {'order': 1206}, 1659: {'order': 1207}, 1660: {'order': 1208}, 1661: {'order': 1209}, 1662: {'order': 1210}, 1663: {'order': 1211}, 1664: {'order': 1212}, 1665: {'order': 1213}, 1666: {'order': 1214}, 1667: {'order': 1215}, 1668: {'order': 1216}, 1669: {'order': 1217}, 1670: {'order': 1218}, 1671: {'order': 1219}, 1672: {'order': 1220}, 1673: {'order': 1221}, 1674: {'order': 1222}, 1675: {'order': 1223}, 1676: {'order': 1224}, 1677: {'order': 1225}, 1678: {'order': 1226}, 1679: {'order': 1227}, 1680: {'order': 1228}, 1681: {'order': 1229}, 1682: {'order': 1230}, 1683: {'order': 1231}, 1684: {'order': 1232}, 1685: {'order': 1233}, 1686: {'order': 1234}, 1687: {'order': 1235}, 1688: {'order': 1236}, 1689: {'order': 1237}, 1690: {'order': 1238}, 1691: {'order': 1239}, 1692: {'order': 1240}, 1693: {'order': 1241}, 1694: {'order': 1242}, 1695: {'order': 1243}, 1696: {'order': 1244}, 1697: {'order': 1245}, 1698: {'order': 1246}, 1699: {'order': 1247}, 1700: {'order': 1248}, 1701: {'order': 1249}, 1702: {'order': 1250}, 1703: {'order': 1251}, 1704: {'order': 1252}, 1705: {'order': 1253}, 1706: {'order': 1254}, 1707: {'order': 1255}, 1708: {'order': 1256}, 1709: {'order': 1257}, 1710: {'order': 1258}, 1711: {'order': 1259}, 1712: {'order': 1260}, 1713: {'order': 1261}, 1714: {'order': 1262}, 1715: {'order': 1263}, 1716: {'order': 1264}, 1717: {'order': 1265}, 1718: {'order': 1266}, 1719: {'order': 1267}, 1720: {'order': 1268}, 1721: {'order': 1269}, 1722: {'order': 1270}, 1723: {'order': 1271}, 1724: {'order': 1272}, 1725: {'order': 1273}, 1726: {'order': 1274}, 1727: {'order': 1275}, 1728: {'order': 1276}, 1729: {'order': 1277}, 1730: {'order': 1278}, 1731: {'order': 1279}, 1732: {'order': 1280}, 1733: {'order': 1281}, 1734: {'order': 1282}, 1735: {'order': 1283}, 1736: {'order': 1284}, 1737: {'order': 1285}, 1738: {'order': 1286}, 1739: {'order': 1287}, 1740: {'order': 1288}, 1741: {'order': 1289}, 1742: {'order': 1290}, 1743: {'order': 1291}, 1756: {'order': 1304}, 1757: {'order': 1305}, 1758: {'order': 1306}, 1759: {'order': 1307}, 1764: {'order': 1312}, 1765: {'order': 1313}, 1835: {'order': 1383}, 1836: {'order': 1384}, 1837: {'order': 1385}, 1838: {'order': 1386}, 1839: {'order': 1387}, 1840: {'order': 1388}, 1841: {'order': 1389}, 1842: {'order': 1390}, 1843: {'order': 1391}, 1844: {'order': 1392}, 1845: {'order': 1393}, 1846: {'order': 1394}, 1847: {'order': 1395}, 1848: {'order': 1396}, 1849: {'order': 1397}, 1850: {'order': 1398}, 1851: {'order': 1399}, 1852: {'order': 1400}, 1853: {'order': 1401}, 1854: {'order': 1402}, 1855: {'order': 1403}, 1856: {'order': 1404}, 2251: {'order': 1799}, 2252: {'order': 1800}, 2253: {'order': 1801}, 2254: {'order': 1802}, 2255: {'order': 1803}, 2256: {'order': 1804}, 2257: {'order': 1805}, 2258: {'order': 1806}, 2259: {'order': 1807}, 2260: {'order': 1808}, 2261: {'order': 1809}, 2262: {'order': 1810}, 2263: {'order': 1811}, 2264: {'order': 1812}, 2265: {'order': 1813}, 2266: {'order': 1814}, 2267: {'order': 1815}, 2268: {'order': 1816}, 2269: {'order': 1817}, 2270: {'order': 1818}, 2271: {'order': 1819}, 2272: {'order': 1820}, 2273: {'order': 1821}, 2274: {'order': 1822}, 2275: {'order': 1823}, 2276: {'order': 1824}, 2277: {'order': 1825}, 2278: {'order': 1826}, 2279: {'order': 1827}, 2280: {'order': 1828}, 2281: {'order': 1829}, 2282: {'order': 1830}, 2283: {'order': 1831}, 2284: {'order': 1832}, 2285: {'order': 1833}, 2286: {'order': 1834}, 2287: {'order': 1835}, 2288: {'order': 1836}, 2289: {'order': 1837}, 2290: {'order': 1838}, 2291: {'order': 1839}, 2292: {'order': 1840}, 2293: {'order': 1841}, 2294: {'order': 1842}, 2295: {'order': 1843}, 2296: {'order': 1844}, 2297: {'order': 1845}, 2298: {'order': 1846}, 2299: {'order': 1847}, 2300: {'order': 1848}, 2301: {'order': 1849}, 2302: {'order': 1850}, 2303: {'order': 1851}, 2304: {'order': 1852}, 2305: {'order': 1853}, 2306: {'order': 1854}, 2307: {'order': 1855}, 2308: {'order': 1856}, 2309: {'order': 1857}, 2310: {'order': 1858}, 2311: {'order': 1859}, 2312: {'order': 1860}, 2313: {'order': 1861}, 2314: {'order': 1862}, 2315: {'order': 1863}, 2316: {'order': 1864}, 2317: {'order': 1865}, 2318: {'order': 1866}, 2319: {'order': 1867}, 2320: {'order': 1868}, 2321: {'order': 1869}, 2322: {'order': 1870}, 2323: {'order': 1871}, 2324: {'order': 1872}, 2325: {'order': 1873}, 2326: {'order': 1874}, 2327: {'order': 1875}, 2328: {'order': 1876}, 2329: {'order': 1877}, 2330: {'order': 1878}, 2331: {'order': 1879}, 2332: {'order': 1880}, 2333: {'order': 1881}, 2334: {'order': 1882}, 2335: {'order': 1883}, 2336: {'order': 1884}, 2337: {'order': 1885}, 2338: {'order': 1886}, 2339: {'order': 1887}, 2340: {'order': 1888}, 2341: {'order': 1889}, 2342: {'order': 1890}, 2343: {'order': 1891}, 2344: {'order': 1892}, 2345: {'order': 1893}, 2346: {'order': 1894}, 2347: {'order': 1895}, 2348: {'order': 1896}, 2349: {'order': 1897}, 2350: {'order': 1898}, 2351: {'order': 1899}, 2352: {'order': 1900}, 2353: {'order': 1901}, 2354: {'order': 1902}, 2355: {'order': 1903}, 2356: {'order': 1904}, 2357: {'order': 1905}, 2358: {'order': 1906}, 2359: {'order': 1907}, 2360: {'order': 1908}, 2361: {'order': 1909}, 2362: {'order': 1910}, 2363: {'order': 1911}, 2364: {'order': 1912}, 2365: {'order': 1913}, 2366: {'order': 1914}, 2367: {'order': 1915}, 2368: {'order': 1916}, 2369: {'order': 1917}, 2370: {'order': 1918}, 2371: {'order': 1919}, 2372: {'order': 1920}, 2373: {'order': 1921}, 2374: {'order': 1922}, 2375: {'order': 1923}, 2376: {'order': 1924}, 2377: {'order': 1925}, 2378: {'order': 1926}, 2379: {'order': 1927}, 2380: {'order': 1928}, 2381: {'order': 1929}, 2382: {'order': 1930}, 2383: {'order': 1931}, 2384: {'order': 1932}, 2385: {'order': 1933}, 2386: {'order': 1934}, 2387: {'order': 1935}, 2388: {'order': 1936}, 2389: {'order': 1937}, 2390: {'order': 1938}, 2391: {'order': 1939}, 2393: {'order': 1941}, 2394: {'order': 1942}, 2483: {'order': 2031}, 2484: {'order': 2032}, 2485: {'order': 2033}, 2486: {'order': 2034}, 2487: {'order': 2035}, 2488: {'order': 2036}, 2489: {'order': 2037}, 2490: {'order': 2038}, 2491: {'order': 2039}, 2492: {'order': 2040}, 2493: {'order': 2041}, 2494: {'order': 2042}, 2495: {'order': 2043}, 2496: {'order': 2044}, 2497: {'order': 2045}, 2498: {'order': 2046}, 2499: {'order': 2047}, 2500: {'order': 2048}, 2501: {'order': 2049}, 2502: {'order': 2050}, 2503: {'order': 2051}, 2504: {'order': 2052}, 2505: {'order': 2053}, 2506: {'order': 2054}, 2507: {'order': 2055}, 2508: {'order': 2056}, 2509: {'order': 2057}, 2510: {'order': 2058}, 2511: {'order': 2059}, 2512: {'order': 2060}, 2513: {'order': 2061}, 2592: {'order': 2140}, 2593: {'order': 2141}, 2594: {'order': 2142}, 2595: {'order': 2143}, 2596: {'order': 2144}, 2663: {'order': 2211}, 2664: {'order': 2212}, 65: {'name': 'Vayon Poole'}, 66: {'name': 'Stark staff member'}, 67: {'name': 'Septa Mordane'}, 114: {'name': 'Nights Watch recruit'}, 324: {'name': 'Unsullied Soldier'}, 487: {'order': 35}, 488: {'order': 36}, 489: {'order': 37}, 504: {'order': 52}, 505: {'order': 53}, 693: {'order': 241}, 694: {'order': 242}, 695: {'order': 243}, 696: {'order': 244}, 697: {'order': 245}, 698: {'order': 246}, 699: {'order': 247}, 700: {'order': 248}, 701: {'order': 249}, 702: {'order': 250}, 703: {'order': 251}, 704: {'order': 252}, 705: {'order': 253}, 706: {'order': 254}, 707: {'order': 255}, 708: {'order': 256}, 709: {'order': 257}, 710: {'order': 258}, 711: {'order': 259}, 712: {'order': 260}, 713: {'order': 261}, 715: {'order': 263}, 716: {'order': 264}, 720: {'order': 268}, 721: {'order': 269}, 722: {'order': 270}, 1070: {'order': 618}, 1072: {'order': 620}, 1073: {'order': 621}, 1074: {'order': 622}, 39: {'name': 'Bronn'}, 484: {'order': 32}, 561: {'order': 109}, 562: {'order': 110}, 563: {'order': 111}, 564: {'order': 112}, 565: {'order': 113}, 566: {'order': 114}, 567: {'order': 115}, 568: {'order': 116}, 569: {'order': 117}, 570: {'order': 118}, 571: {'order': 119}, 573: {'order': 121}, 574: {'order': 122}, 607: {'order': 155}, 608: {'order': 156}, 912: {'order': 460}, 913: {'order': 461}, 914: {'order': 462}, 915: {'order': 463}, 53: {'name': 'Vardis Egen'}, 159: {'name': 'Matthos Seaworth'}, 316: {'name': 'Snake'}, 319: {'name': 'Dorne Soldier'}, 320: {'name': 'Dorne Horse'}, 54: {'name': 'The Eyrie'}, 279: {'name': 'Petyr Baelish'}, 1776: {'order': 1324}, 432: {'imdb_rating': 9.4, 'name': 'The Dragon and the Wolf', 'number': 7}, 412: {'number': 7}, 411: {'imdb_rating': 8.6, 'name': 'Dragonstone', 'number': 1}, 1451: {'order': 999}, 230: {'name': 'The Twins'}, 691: {'order': 239}, 229: {'name': 'Unborn Stark child'}, 231: {'name': 'Lothar Frey'}, 232: {'name': 'House Frey'}, 692: {'order': 240}, 1448: {'order': 996}, 233: {'name': 'Talisa Stark'}, 714: {'order': 262}, 723: {'order': 271}, 119: {'name': 'Grey Wind'}, 527: {'order': 75}, 117: {'name': 'Rennick'}, 120: {'imdb_rating': 8.8, 'name': 'Garden of Bones', 'number': 4}, 118: {'name': 'Oxcross'}, 529: {'order': 77}, 122: {'name': 'Harrenhal'}, 533: {'order': 81}, 126: {'imdb_rating': 8.8, 'name': 'The Ghost of Harrenhal', 'number': 5}, 530: {'order': 78}, 125: {'name': 'Storms End'}, 127: {'name': 'House Baratheon of Storms End'}, 124: {'name': 'Renly Baratheon'}, 101: {'name': 'Melisandre the Red Woman of Asshai'}, 102: {'name': 'Lord of Light'}, 513: {'order': 61}, 733: {'order': 281}, 734: {'order': 282}, 735: {'order': 283}, 990: {'order': 538}, 1826: {'order': 1374}, 99: {'name': 'Maester Cressen'}, 245: {'name': 'Axell Florent'}, 246: {'name': 'Dragonstone citizen'}, 341: {'name': 'Shireen Baratheon'}, 100: {'name': 'Dragonstone'}, 669: {'order': 217}, 213: {'imdb_rating': 9, 'name': 'Second Sons', 'number': 8}, 670: {'order': 218}, 103: {'name': 'House Baratheon of Dragonstone'}, 610: {'order': 158}, 611: {'order': 159}, 620: {'order': 168}, 622: {'order': 170}, 671: {'order': 219}, 212: {'name': 'Leech'}, 160: {'imdb_rating': 9.7, 'name': 'Blackwater', 'number': 9}, 572: {'order': 120}, 575: {'order': 123}, 576: {'order': 124}, 577: {'order': 125}, 578: {'order': 126}, 579: {'order': 127}, 580: {'order': 128}, 581: {'order': 129}, 582: {'order': 130}, 583: {'order': 131}, 584: {'order': 132}, 585: {'order': 133}, 586: {'order': 134}, 587: {'order': 135}, 588: {'order': 136}, 589: {'order': 137}, 590: {'order': 138}, 591: {'order': 139}, 592: {'order': 140}, 593: {'order': 141}, 594: {'order': 142}, 595: {'order': 143}, 596: {'order': 144}, 597: {'order': 145}, 598: {'order': 146}, 599: {'order': 147}, 600: {'order': 148}, 602: {'order': 150}, 604: {'order': 152}, 605: {'order': 153}, 606: {'order': 154}, 609: {'order': 157}, 612: {'order': 160}, 613: {'order': 161}, 614: {'order': 162}, 615: {'order': 163}, 616: {'order': 164}, 617: {'order': 165}, 618: {'order': 166}, 619: {'order': 167}, 621: {'order': 169}, 624: {'order': 172}, 625: {'order': 173}, 626: {'order': 174}, 627: {'order': 175}, 628: {'order': 176}, 630: {'order': 178}, 631: {'order': 179}, 632: {'order': 180}, 1048: {'order': 596}, 1049: {'order': 597}, 162: {'name': 'Accident'}, 145: {'name': 'Unknown'}, 144: {'name': 'Unknown'}, 545: {'order': 93}, 142: {'name': 'Irri'}, 133: {'imdb_rating': 9.1, 'name': 'The Old Gods and the New', 'number': 6}, 143: {'name': 'Qarth'}, 534: {'order': 82}, 41: {'name': 'Rodrik Cassel'}, 51: {'name': 'Theon Greyjoy'}, 52: {'name': 'House Bolton'}, 141: {'name': 'House Greyjoy'}, 483: {'order': 31}, 559: {'order': 107}, 560: {'order': 108}, 1509: {'order': 1057}, 1510: {'order': 1058}, 1512: {'order': 1060}, 1520: {'order': 1068}, 1521: {'order': 1069}, 1532: {'order': 1080}, 1775: {'order': 1323}, 1785: {'order': 1333}, 1786: {'order': 1334}, 1787: {'order': 1335}, 1788: {'order': 1336}, 1789: {'order': 1337}, 1790: {'order': 1338}, 50: {'name': 'Stiv'}, 157: {'name': 'Billy'}, 158: {'name': 'Jack'}, 413: {'name': 'Greyjoy Soldier'}, 643: {'order': 191}, 644: {'order': 192}, 645: {'order': 193}, 646: {'order': 194}, 766: {'order': 314}, 767: {'order': 315}, 768: {'order': 316}, 770: {'order': 318}, 771: {'order': 319}, 1059: {'order': 607}, 1145: {'order': 693}, 1146: {'order': 694}, 1147: {'order': 695}, 1148: {'order': 696}, 1149: {'order': 697}, 1150: {'order': 698}, 1151: {'order': 699}, 1152: {'order': 700}, 1153: {'order': 701}, 1154: {'order': 702}, 1155: {'order': 703}, 1156: {'order': 704}, 1157: {'order': 705}, 1158: {'order': 706}, 1159: {'order': 707}, 1160: {'order': 708}, 1161: {'order': 709}, 1162: {'order': 710}, 1163: {'order': 711}, 1164: {'order': 712}, 1165: {'order': 713}, 1166: {'order': 714}, 1167: {'order': 715}, 1168: {'order': 716}, 1169: {'order': 717}, 1170: {'order': 718}, 1171: {'order': 719}, 1172: {'order': 720}, 1173: {'order': 721}, 1174: {'order': 722}, 1175: {'order': 723}, 1176: {'order': 724}, 1177: {'order': 725}, 1178: {'order': 726}, 1179: {'order': 727}, 1180: {'order': 728}, 1181: {'order': 729}, 1182: {'order': 730}, 1183: {'order': 731}, 1184: {'order': 732}, 1185: {'order': 733}, 1186: {'order': 734}, 1187: {'order': 735}, 1188: {'order': 736}, 1189: {'order': 737}, 1190: {'order': 738}, 1191: {'order': 739}, 1192: {'order': 740}, 1193: {'order': 741}, 1194: {'order': 742}, 1195: {'order': 743}, 1202: {'order': 750}, 1203: {'order': 751}, 1204: {'order': 752}, 1205: {'order': 753}, 1208: {'order': 756}, 1209: {'order': 757}, 1212: {'order': 760}, 1213: {'order': 761}, 1217: {'order': 765}, 1223: {'order': 771}, 1225: {'order': 773}, 1226: {'order': 774}, 1227: {'order': 775}, 1228: {'order': 776}, 1229: {'order': 777}, 1230: {'order': 778}, 1231: {'order': 779}, 1232: {'order': 780}, 1233: {'order': 781}, 1234: {'order': 782}, 1236: {'order': 784}, 1237: {'order': 785}, 1238: {'order': 786}, 1239: {'order': 787}, 1240: {'order': 788}, 1241: {'order': 789}, 1242: {'order': 790}, 1243: {'order': 791}, 1244: {'order': 792}, 391: {'name': 'Stark Soldier'}, 186: {'imdb_rating': 8.9, 'name': 'Walk of Punishment', 'number': 3}, 184: {'name': 'Dreadfort'}, 185: {'name': 'Ramsay Bolton'}, 732: {'order': 280}, 769: {'order': 317}, 907: {'order': 455}, 908: {'order': 456}, 909: {'order': 457}, 964: {'order': 512}, 988: {'order': 536}, 1066: {'order': 614}, 1067: {'order': 615}, 1068: {'order': 616}, 1082: {'order': 630}, 1144: {'order': 692}, 1246: {'order': 794}, 1247: {'order': 795}, 243: {'name': 'Tansy'}, 274: {'name': 'Greyjoy soldier'}, 339: {'name': 'Horse'}, 235: {'name': 'Roose Bolton'}, 358: {'name': 'Walda Frey'}, 359: {'name': 'Bolton heir'}, 140: {'name': 'Osha'}, 390: {'name': 'Rickon Stark'}, 357: {'name': 'Wun Wun'}, 244: {'imdb_rating': 9.7, 'name': 'The Lion and the Rose', 'number': 2}, 737: {'order': 285}, 210: {'name': 'Joffrey Baratheon'}, 248: {'name': 'Olenna Tyrell'}, 169: {'name': 'House Tyrell'}, 1556: {'order': 1104}, 168: {'name': 'Loras Tyrell'}, 1425: {'order': 973}, 399: {'imdb_rating': 9.9, 'name': 'The Winds of Winter', 'number': 10}, 1248: {'order': 796}, 397: {'name': 'Grand Maester Pycelle'}, 400: {'name': 'Order of Maesters'}, 398: {'name': 'Little Bird'}, 1249: {'order': 797}, 401: {'name': 'Lancel Lannister'}, 383: {'name': 'Faith Militant'}, 1273: {'order': 821}, 1274: {'order': 822}, 1275: {'order': 823}, 1276: {'order': 824}, 1277: {'order': 825}, 1278: {'order': 826}, 1279: {'order': 827}, 1280: {'order': 828}, 1281: {'order': 829}, 1282: {'order': 830}, 1283: {'order': 831}, 1284: {'order': 832}, 1285: {'order': 833}, 1286: {'order': 834}, 1287: {'order': 835}, 1288: {'order': 836}, 1289: {'order': 837}, 1290: {'order': 838}, 1291: {'order': 839}, 1292: {'order': 840}, 1293: {'order': 841}, 1294: {'order': 842}, 1295: {'order': 843}, 1296: {'order': 844}, 1297: {'order': 845}, 1298: {'order': 846}, 1299: {'order': 847}, 1300: {'order': 848}, 1301: {'order': 849}, 1302: {'order': 850}, 1303: {'order': 851}, 1304: {'order': 852}, 1305: {'order': 853}, 1306: {'order': 854}, 1307: {'order': 855}, 1308: {'order': 856}, 1309: {'order': 857}, 1310: {'order': 858}, 1311: {'order': 859}, 1312: {'order': 860}, 1313: {'order': 861}, 1314: {'order': 862}, 1315: {'order': 863}, 1316: {'order': 864}, 1317: {'order': 865}, 1318: {'order': 866}, 1319: {'order': 867}, 1320: {'order': 868}, 1321: {'order': 869}, 381: {'imdb_rating': 8.4, 'name': 'No One', 'number': 8}, 195: {'name': 'Brotherhood Without Banners'}, 1113: {'order': 661}, 1821: {'order': 1369}, 378: {'name': 'Lem Lemoncloak'}, 194: {'name': 'Hollow Hill'}, 1106: {'order': 654}, 377: {'name': 'Brother Ray'}, 379: {'imdb_rating': 8.6, 'name': 'The Broken Man', 'number': 7}, 137: {'name': 'Faith of the Seven'}, 135: {'name': 'High Septon'}, 537: {'order': 85}, 136: {'name': 'Peasants'}, 438: {'imdb_rating': 7.5, 'name': 'The Long Night', 'number': 3}, 434: {'number': 8}, 433: {'imdb_rating': 7.5, 'name': 'Winterfell', 'number': 1}, 414: {'name': 'The Narrow Sea'}, 1505: {'order': 1053}, 415: {'imdb_rating': 8.9, 'name': 'Stormborn', 'number': 2}, 1506: {'order': 1054}, 1507: {'order': 1055}, 1508: {'order': 1056}, 1511: {'order': 1059}, 1513: {'order': 1061}, 1514: {'order': 1062}, 1515: {'order': 1063}, 1516: {'order': 1064}, 1517: {'order': 1065}, 1518: {'order': 1066}, 1519: {'order': 1067}, 1522: {'order': 1070}, 1523: {'order': 1071}, 1524: {'order': 1072}, 1525: {'order': 1073}, 1526: {'order': 1074}, 1529: {'order': 1077}, 1530: {'order': 1078}, 1531: {'order': 1079}, 1533: {'order': 1081}, 1828: {'order': 1376}, 1829: {'order': 1377}, 1830: {'order': 1378}, 1833: {'order': 1381}, 1834: {'order': 1382}, 197: {'name': 'Unsullied'}, 139: {'name': 'Drennan'}, 544: {'order': 92}, 636: {'order': 184}, 171: {'name': 'Maester Luwin'}, 170: {'imdb_rating': 9.4, 'name': 'Valar Morghulis', 'number': 10}, 86: {'name': 'Unknown'}, 87: {'name': 'Hill tribesman'}, 637: {'order': 185}, 548: {'order': 96}, 148: {'imdb_rating': 8.9, 'name': 'A Man Without Honor', 'number': 7}, 546: {'order': 94}, 147: {'name': 'Robb Starks camp'}, 547: {'order': 95}, 44: {'name': 'Jaime Lannister'}, 480: {'order': 28}, 916: {'order': 464}, 2666: {'order': 2214}, 2674: {'order': 2222}, 43: {'name': 'Jory Cassel'}, 146: {'name': 'Alton Lannister'}, 149: {'name': 'Torrhen Karstark'}, 362: {'name': 'Euron Greyjoy'}, 318: {'imdb_rating': 8.7, 'name': 'Sons of the Harpy', 'number': 4}, 306: {'number': 5}, 317: {'name': 'Dorne'}, 305: {'imdb_rating': 8.5, 'name': 'The Wars to Come', 'number': 1}, 897: {'order': 445}, 259: {'name': 'Meereen'}, 747: {'order': 295}, 251: {'imdb_rating': 8.9, 'name': 'Breaker of Chains', 'number': 3}, 738: {'order': 286}, 249: {'name': 'Dontos Hollard'}, 252: {'name': 'House Hollard'}, 308: {'imdb_rating': 8.5, 'name': 'The House of Black and White', 'number': 2}, 902: {'order': 450}, 28: {'name': 'Smallfolk'}, 741: {'order': 289}, 742: {'order': 290}, 743: {'order': 291}, 744: {'order': 292}, 745: {'order': 293}, 746: {'order': 294}, 780: {'order': 328}, 781: {'order': 329}, 782: {'order': 330}, 783: {'order': 331}, 784: {'order': 332}, 785: {'order': 333}, 786: {'order': 334}, 787: {'order': 335}, 788: {'order': 336}, 789: {'order': 337}, 962: {'order': 510}, 989: {'order': 537}, 1268: {'order': 816}, 1269: {'order': 817}, 1270: {'order': 818}, 1271: {'order': 819}, 1272: {'order': 820}, 1822: {'order': 1370}, 1823: {'order': 1371}, 309: {'name': 'Unamed Dwarf'}, 25: {'name': 'Kingsroad'}, 340: {'imdb_rating': 9.5, 'name': 'The Dance of Dragons', 'number': 9}, 310: {'name': 'Braavos'}, 903: {'order': 451}, 72: {'name': 'Arya Stark'}, 498: {'order': 46}, 506: {'order': 54}, 729: {'order': 277}, 731: {'order': 279}, 778: {'order': 326}, 1051: {'order': 599}, 1449: {'order': 997}, 1450: {'order': 998}, 1452: {'order': 1000}, 1453: {'order': 1001}, 1454: {'order': 1002}, 1455: {'order': 1003}, 1456: {'order': 1004}, 1457: {'order': 1005}, 1458: {'order': 1006}, 1459: {'order': 1007}, 1460: {'order': 1008}, 1461: {'order': 1009}, 1462: {'order': 1010}, 1463: {'order': 1011}, 1464: {'order': 1012}, 1465: {'order': 1013}, 1466: {'order': 1014}, 1467: {'order': 1015}, 1468: {'order': 1016}, 1469: {'order': 1017}, 1470: {'order': 1018}, 1471: {'order': 1019}, 1472: {'order': 1020}, 1473: {'order': 1021}, 1474: {'order': 1022}, 1475: {'order': 1023}, 1476: {'order': 1024}, 1477: {'order': 1025}, 1478: {'order': 1026}, 1479: {'order': 1027}, 1480: {'order': 1028}, 1481: {'order': 1029}, 1482: {'order': 1030}, 1483: {'order': 1031}, 1484: {'order': 1032}, 1485: {'order': 1033}, 1486: {'order': 1034}, 1487: {'order': 1035}, 1488: {'order': 1036}, 1489: {'order': 1037}, 1490: {'order': 1038}, 1491: {'order': 1039}, 1492: {'order': 1040}, 1493: {'order': 1041}, 1494: {'order': 1042}, 1495: {'order': 1043}, 1496: {'order': 1044}, 1497: {'order': 1045}, 1498: {'order': 1046}, 1499: {'order': 1047}, 1500: {'order': 1048}, 1501: {'order': 1049}, 1502: {'order': 1050}, 1503: {'order': 1051}, 1504: {'order': 1052}, 1825: {'order': 1373}, 71: {'name': 'Stableboy'}, 88: {'name': 'Pigeon'}, 116: {'name': 'Polliver'}, 278: {'name': 'Rorge'}, 69: {'name': 'Meryn Trant'}, 238: {'name': 'Walder Rivers'}, 409: {'name': 'Walder Frey'}, 410: {'name': 'Frey family member'}, 430: {'name': 'Night King'}, 64: {'imdb_rating': 9, 'name': 'The Pointy End', 'number': 8}, 497: {'order': 45}, 68: {'name': 'Syrio Forel'}, 70: {'name': 'House Trant'}, 345: {'imdb_rating': 9.1, 'name': 'Mothers Mercy', 'number': 10}, 1046: {'order': 594}, 344: {'name': 'Selyse Florent'}, 1050: {'order': 598}, 346: {'name': 'Myranda Royce'}, 347: {'name': 'Reek'}, 1052: {'order': 600}, 131: {'name': 'Jaqen Hghar'}, 132: {'name': 'Faceless Men'}, 543: {'order': 91}, 123: {'name': 'The Tickler'}, 113: {'name': 'Amory Lorch'}, 524: {'order': 72}, 111: {'name': 'Yoren'}, 1053: {'order': 601}, 285: {'name': 'House Martell'}, 281: {'imdb_rating': 9.7, 'name': 'The Mountain and the Viper', 'number': 8}, 280: {'name': 'Moles Town'}, 257: {'name': 'Tormund'}, 806: {'order': 354}, 807: {'order': 355}, 838: {'order': 386}, 857: {'order': 405}, 858: {'order': 406}, 862: {'order': 410}, 863: {'order': 411}, 965: {'order': 513}, 1063: {'order': 611}, 1224: {'order': 772}, 332: {'name': 'Wildling Leader'}, 392: {'name': 'Smalljon Umber'}, 675: {'order': 223}, 220: {'name': 'Horse breeder'}, 222: {'name': 'Ygritte'}, 739: {'order': 287}, 794: {'order': 342}, 799: {'order': 347}, 800: {'order': 348}, 821: {'order': 369}, 822: {'order': 370}, 823: {'order': 371}, 829: {'order': 377}, 867: {'order': 415}, 253: {'name': 'Guymon'}, 289: {'name': 'Pypar'}, 286: {'imdb_rating': 9.6, 'name': 'The Watchers on the Wall', 'number': 9}, 74: {'name': 'Castle Black'}, 499: {'order': 47}, 73: {'name': 'Othor'}, 75: {'name': 'Jon Snow'}, 638: {'order': 186}, 679: {'order': 227}, 755: {'order': 303}, 757: {'order': 305}, 759: {'order': 307}, 761: {'order': 309}, 763: {'order': 311}, 866: {'order': 414}, 898: {'order': 446}, 910: {'order': 458}, 1054: {'order': 602}, 1076: {'order': 624}, 1077: {'order': 625}, 1078: {'order': 626}, 1079: {'order': 627}, 2665: {'order': 2213}, 2676: {'order': 2224}, 134: {'name': 'Qhorin Halfhand'}, 225: {'name': 'Orell'}, 265: {'name': 'Nights Watch mutineer'}, 190: {'name': 'Karl Tanner'}, 255: {'name': 'Styr'}, 307: {'name': 'Mance Rayder'}, 105: {'name': 'Janos Slynt'}, 366: {'name': 'Bowen Marsh'}, 367: {'name': 'Othell Yarwyck'}, 287: {'name': 'Alliser Thorne'}, 293: {'name': 'Olly'}, 93: {'name': 'Daenerys Targaryen'}, 267: {'imdb_rating': 8.8, 'name': 'First of His Name', 'number': 5}, 750: {'order': 298}, 751: {'order': 299}, 752: {'order': 300}, 753: {'order': 301}, 754: {'order': 302}, 756: {'order': 304}, 758: {'order': 306}, 764: {'order': 312}, 268: {'name': 'Locke'}, 760: {'order': 308}, 269: {'name': 'Hodor/Bran Stark'}, 500: {'order': 48}, 762: {'order': 310}, 804: {'order': 352}, 813: {'order': 361}, 814: {'order': 362}, 818: {'order': 366}, 819: {'order': 367}, 820: {'order': 368}, 848: {'order': 396}, 856: {'order': 404}, 864: {'order': 412}, 1064: {'order': 612}, 1777: {'order': 1325}, 1778: {'order': 1326}, 1779: {'order': 1327}, 1780: {'order': 1328}, 1781: {'order': 1329}, 1782: {'order': 1330}, 1783: {'order': 1331}, 1784: {'order': 1332}, 1802: {'order': 1350}, 1803: {'order': 1351}, 1804: {'order': 1352}, 1805: {'order': 1353}, 1811: {'order': 1359}, 76: {'name': 'Jafer Flowers'}, 291: {'name': 'Giant wildling'}, 648: {'order': 196}, 189: {'name': 'Craster'}, 256: {'name': 'Thenn raider'}, 805: {'order': 353}, 839: {'order': 387}, 860: {'order': 408}, 364: {'imdb_rating': 8.7, 'name': 'Oathbreaker', 'number': 3}, 219: {'name': 'Sam Tarly'}, 271: {'name': 'Ghost'}, 765: {'order': 313}, 192: {'name': 'Rast'}, 649: {'order': 197}, 191: {'name': 'Jeor Mormont'}, 288: {'name': 'Wildling giant'}, 851: {'order': 399}, 270: {'name': 'Grenn'}, 852: {'order': 400}, 292: {'name': 'Mag the Mighty giant'}, 740: {'order': 288}, 254: {'name': 'Ollys mum'}, 356: {'imdb_rating': 9.4, 'name': 'Home', 'number': 2}, 387: {'imdb_rating': 9.9, 'name': 'Battle of the Bastards', 'number': 9}, 1115: {'order': 663}, 384: {'name': 'Meereen citizen'}, 1116: {'order': 664}, 1117: {'order': 665}, 1118: {'order': 666}, 1119: {'order': 667}, 1120: {'order': 668}, 1121: {'order': 669}, 1122: {'order': 670}, 1123: {'order': 671}, 1124: {'order': 672}, 1125: {'order': 673}, 1126: {'order': 674}, 1127: {'order': 675}, 1128: {'order': 676}, 385: {'name': 'The Masters Soldier'}, 386: {'name': 'The Masters'}, 1130: {'order': 678}, 1131: {'order': 679}, 1132: {'order': 680}, 1133: {'order': 681}, 1134: {'order': 682}, 1135: {'order': 683}, 1136: {'order': 684}, 1137: {'order': 685}, 1138: {'order': 686}, 1139: {'order': 687}, 1140: {'order': 688}, 1141: {'order': 689}, 388: {'name': 'Belicho Paenymion'}, 1142: {'order': 690}, 228: {'name': 'Grey Worm'}, 682: {'order': 230}, 688: {'order': 236}, 926: {'order': 474}, 927: {'order': 475}, 928: {'order': 476}, 929: {'order': 477}, 932: {'order': 480}, 933: {'order': 481}, 934: {'order': 482}, 940: {'order': 488}, 941: {'order': 489}, 950: {'order': 498}, 958: {'order': 506}, 1143: {'order': 691}, 2232: {'order': 1780}, 226: {'name': 'Yunkai soldier'}, 303: {'name': 'Sons of the Harpy agent'}, 389: {'name': 'Razdal mo Eraz'}, 450: {'name': 'Harry Strickland'}, 215: {'name': 'Yunkai'}, 672: {'order': 220}, 214: {'name': 'Mero'}, 217: {'name': 'Second Sons'}, 218: {'name': 'Prendahl na Ghezn'}, 673: {'order': 221}, 216: {'name': 'Daario Naharis'}, 681: {'order': 229}, 683: {'order': 231}, 685: {'order': 233}, 686: {'order': 234}, 687: {'order': 235}, 689: {'order': 237}, 690: {'order': 238}, 748: {'order': 296}, 905: {'order': 453}, 1001: {'order': 549}, 1006: {'order': 554}, 1008: {'order': 556}, 1021: {'order': 569}, 1023: {'order': 571}, 1044: {'order': 592}, 1045: {'order': 593}, 1129: {'order': 677}, 258: {'name': 'Champion of Meereens Horse'}, 260: {'name': 'Champion of Meereen'}, 311: {'name': 'Meereen slave'}, 227: {'name': 'Wise Masters'}, 680: {'order': 228}, 684: {'order': 232}, 343: {'name': 'Hizdahr zo Loraq'}, 1007: {'order': 555}, 304: {'name': 'Sons of the Harpy'}, 904: {'order': 452}, 918: {'order': 466}, 919: {'order': 467}, 920: {'order': 468}, 921: {'order': 469}, 922: {'order': 470}, 923: {'order': 471}, 924: {'order': 472}, 925: {'order': 473}, 930: {'order': 478}, 931: {'order': 479}, 935: {'order': 483}, 936: {'order': 484}, 937: {'order': 485}, 938: {'order': 486}, 939: {'order': 487}, 942: {'order': 490}, 943: {'order': 491}, 944: {'order': 492}, 945: {'order': 493}, 946: {'order': 494}, 947: {'order': 495}, 948: {'order': 496}, 949: {'order': 497}, 951: {'order': 499}, 952: {'order': 500}, 953: {'order': 501}, 954: {'order': 502}, 955: {'order': 503}, 956: {'order': 504}, 957: {'order': 505}, 959: {'order': 507}, 997: {'order': 545}, 998: {'order': 546}, 999: {'order': 547}, 1000: {'order': 548}, 1002: {'order': 550}, 1003: {'order': 551}, 1004: {'order': 552}, 1005: {'order': 553}, 1009: {'order': 557}, 1010: {'order': 558}, 1011: {'order': 559}, 1012: {'order': 560}, 1013: {'order': 561}, 1014: {'order': 562}, 1015: {'order': 563}, 1016: {'order': 564}, 1017: {'order': 565}, 1018: {'order': 566}, 1019: {'order': 567}, 1020: {'order': 568}, 1022: {'order': 570}, 1024: {'order': 572}, 1025: {'order': 573}, 1026: {'order': 574}, 1027: {'order': 575}, 1028: {'order': 576}, 1029: {'order': 577}, 1030: {'order': 578}, 1031: {'order': 579}, 1032: {'order': 580}, 1033: {'order': 581}, 1034: {'order': 582}, 1035: {'order': 583}, 1036: {'order': 584}, 1037: {'order': 585}, 1038: {'order': 586}, 1039: {'order': 587}, 1040: {'order': 588}, 1041: {'order': 589}, 1042: {'order': 590}, 1043: {'order': 591}, 302: {'name': 'White Rat'}, 323: {'name': 'Second Sun Mercenary'}, 176: {'name': 'Barristan Selmy'}, 312: {'name': 'Great Master'}, 906: {'order': 454}, 261: {'name': 'Great Masters'}, 960: {'order': 508}, 262: {'name': 'Meereen slave master'}, 749: {'order': 297}, 264: {'imdb_rating': 8.8, 'name': 'Oathkeeper', 'number': 4}, 263: {'name': 'Meereen slaves'}, 326: {'imdb_rating': 8.6, 'name': 'Kill the Boy', 'number': 5}, 961: {'order': 509}, 328: {'name': 'Valyria'}, 85: {'name': 'Jorah Mormont'}, 993: {'order': 541}, 996: {'order': 544}, 1768: {'order': 1316}, 1824: {'order': 1372}, 327: {'name': 'Stone Man'}, 342: {'name': 'Gladiator'}, 427: {'name': 'Undead Polar Bear'}, 991: {'order': 539}, 992: {'order': 540}, 994: {'order': 542}, 995: {'order': 543}, 428: {'imdb_rating': 9, 'name': 'Beyond the Wall', 'number': 6}, 1766: {'order': 1314}, 1200: {'order': 748}, 1201: {'order': 749}, 1206: {'order': 754}, 1207: {'order': 755}, 1211: {'order': 759}, 1218: {'order': 766}, 1222: {'order': 770}, 1767: {'order': 1315}, 1772: {'order': 1320}, 1795: {'order': 1343}, 1796: {'order': 1344}, 1806: {'order': 1354}, 1807: {'order': 1355}, 1808: {'order': 1356}, 1809: {'order': 1357}, 1810: {'order': 1358}, 2597: {'order': 2145}, 2598: {'order': 2146}, 2599: {'order': 2147}, 2600: {'order': 2148}, 2601: {'order': 2149}, 2602: {'order': 2150}, 451: {'name': 'Kings Landing Citizen'}, 393: {'name': 'House Umber'}, 394: {'name': 'Umber Soldier'}, 435: {'name': 'Ned Umber'}, 1791: {'order': 1339}, 437: {'imdb_rating': 7.8, 'name': 'The Knight of the Seven Kingdoms', 'number': 2}, 436: {'name': 'Last Hearth'}, 1773: {'order': 1321}, 325: {'name': 'Viserion'}, 335: {'name': 'Wight'}, 976: {'order': 524}, 1098: {'order': 646}, 1099: {'order': 647}, 1100: {'order': 648}, 1104: {'order': 652}, 1105: {'order': 653}, 1774: {'order': 1322}, 1792: {'order': 1340}, 1793: {'order': 1341}, 1794: {'order': 1342}, 1797: {'order': 1345}, 1798: {'order': 1346}, 1799: {'order': 1347}, 1800: {'order': 1348}, 1801: {'order': 1349}, 338: {'name': 'Karsi'}, 375: {'name': 'Leaf'}, 376: {'name': 'Hodor'}, 431: {'name': 'Benjen Stark'}, 266: {'name': 'Eddison Tollett'}, 334: {'imdb_rating': 9.9, 'name': 'Hardhome', 'number': 8}, 333: {'name': 'Hardhome'}, 372: {'imdb_rating': 9.7, 'name': 'The Door', 'number': 5}, 373: {'name': 'Children of the Forest'}, 652: {'order': 200}, 654: {'order': 202}, 655: {'order': 203}, 656: {'order': 204}, 657: {'order': 205}, 196: {'name': 'Astapor slaver'}, 200: {'name': 'Astapor soldier'}, 198: {'name': 'Good Masters'}, 199: {'name': 'Kraznys mo Nakloz'}, 653: {'order': 201}, 509: {'order': 57}, 510: {'order': 58}, 639: {'order': 187}, 640: {'order': 188}, 772: {'order': 320}, 892: {'order': 440}, 1083: {'order': 631}, 1084: {'order': 632}, 1085: {'order': 633}, 1086: {'order': 634}, 1087: {'order': 635}, 1088: {'order': 636}, 1089: {'order': 637}, 1090: {'order': 638}, 1091: {'order': 639}, 1092: {'order': 640}, 1093: {'order': 641}, 1094: {'order': 642}, 1095: {'order': 643}, 1096: {'order': 644}, 1097: {'order': 645}, 1760: {'order': 1308}, 1761: {'order': 1309}, 1762: {'order': 1310}, 1763: {'order': 1311}, 1832: {'order': 1380}, 1857: {'order': 1405}, 1858: {'order': 1406}, 1859: {'order': 1407}, 1860: {'order': 1408}, 1861: {'order': 1409}, 1862: {'order': 1410}, 1863: {'order': 1411}, 1864: {'order': 1412}, 1865: {'order': 1413}, 1866: {'order': 1414}, 1867: {'order': 1415}, 1868: {'order': 1416}, 1869: {'order': 1417}, 1870: {'order': 1418}, 1871: {'order': 1419}, 1872: {'order': 1420}, 1873: {'order': 1421}, 1874: {'order': 1422}, 1875: {'order': 1423}, 1876: {'order': 1424}, 1877: {'order': 1425}, 1878: {'order': 1426}, 1879: {'order': 1427}, 1880: {'order': 1428}, 1881: {'order': 1429}, 1882: {'order': 1430}, 1883: {'order': 1431}, 1884: {'order': 1432}, 1885: {'order': 1433}, 1886: {'order': 1434}, 1887: {'order': 1435}, 1888: {'order': 1436}, 1889: {'order': 1437}, 1890: {'order': 1438}, 1891: {'order': 1439}, 1892: {'order': 1440}, 1893: {'order': 1441}, 1894: {'order': 1442}, 1895: {'order': 1443}, 1896: {'order': 1444}, 1897: {'order': 1445}, 1898: {'order': 1446}, 1899: {'order': 1447}, 1900: {'order': 1448}, 1901: {'order': 1449}, 1902: {'order': 1450}, 1903: {'order': 1451}, 1904: {'order': 1452}, 1905: {'order': 1453}, 1906: {'order': 1454}, 1907: {'order': 1455}, 1908: {'order': 1456}, 1909: {'order': 1457}, 1910: {'order': 1458}, 1911: {'order': 1459}, 1912: {'order': 1460}, 1913: {'order': 1461}, 1914: {'order': 1462}, 1915: {'order': 1463}, 1916: {'order': 1464}, 1917: {'order': 1465}, 1918: {'order': 1466}, 1919: {'order': 1467}, 1920: {'order': 1468}, 1921: {'order': 1469}, 1922: {'order': 1470}, 1923: {'order': 1471}, 1924: {'order': 1472}, 1925: {'order': 1473}, 1926: {'order': 1474}, 1927: {'order': 1475}, 1928: {'order': 1476}, 1929: {'order': 1477}, 1930: {'order': 1478}, 1931: {'order': 1479}, 1932: {'order': 1480}, 1933: {'order': 1481}, 1934: {'order': 1482}, 1935: {'order': 1483}, 1936: {'order': 1484}, 1937: {'order': 1485}, 1938: {'order': 1486}, 1939: {'order': 1487}, 1940: {'order': 1488}, 1941: {'order': 1489}, 1942: {'order': 1490}, 1943: {'order': 1491}, 1944: {'order': 1492}, 1945: {'order': 1493}, 1946: {'order': 1494}, 1947: {'order': 1495}, 1948: {'order': 1496}, 1949: {'order': 1497}, 1950: {'order': 1498}, 1951: {'order': 1499}, 1952: {'order': 1500}, 1953: {'order': 1501}, 1954: {'order': 1502}, 1955: {'order': 1503}, 1956: {'order': 1504}, 1957: {'order': 1505}, 1958: {'order': 1506}, 1959: {'order': 1507}, 1960: {'order': 1508}, 1961: {'order': 1509}, 1962: {'order': 1510}, 1963: {'order': 1511}, 1964: {'order': 1512}, 1965: {'order': 1513}, 1966: {'order': 1514}, 1967: {'order': 1515}, 1968: {'order': 1516}, 1969: {'order': 1517}, 1970: {'order': 1518}, 1971: {'order': 1519}, 1972: {'order': 1520}, 1973: {'order': 1521}, 1974: {'order': 1522}, 1975: {'order': 1523}, 1976: {'order': 1524}, 1977: {'order': 1525}, 1978: {'order': 1526}, 1979: {'order': 1527}, 1980: {'order': 1528}, 1981: {'order': 1529}, 1982: {'order': 1530}, 1983: {'order': 1531}, 1984: {'order': 1532}, 1985: {'order': 1533}, 1986: {'order': 1534}, 1987: {'order': 1535}, 1988: {'order': 1536}, 1989: {'order': 1537}, 1990: {'order': 1538}, 1991: {'order': 1539}, 1992: {'order': 1540}, 1993: {'order': 1541}, 1994: {'order': 1542}, 1995: {'order': 1543}, 1996: {'order': 1544}, 1997: {'order': 1545}, 1998: {'order': 1546}, 1999: {'order': 1547}, 2000: {'order': 1548}, 2001: {'order': 1549}, 2002: {'order': 1550}, 2003: {'order': 1551}, 2004: {'order': 1552}, 2005: {'order': 1553}, 2006: {'order': 1554}, 2007: {'order': 1555}, 2008: {'order': 1556}, 2009: {'order': 1557}, 2010: {'order': 1558}, 2011: {'order': 1559}, 2012: {'order': 1560}, 2013: {'order': 1561}, 2014: {'order': 1562}, 2015: {'order': 1563}, 2016: {'order': 1564}, 2017: {'order': 1565}, 2018: {'order': 1566}, 2019: {'order': 1567}, 2020: {'order': 1568}, 2021: {'order': 1569}, 2022: {'order': 1570}, 2023: {'order': 1571}, 2024: {'order': 1572}, 2025: {'order': 1573}, 2026: {'order': 1574}, 2027: {'order': 1575}, 2028: {'order': 1576}, 2029: {'order': 1577}, 2030: {'order': 1578}, 2031: {'order': 1579}, 2032: {'order': 1580}, 2033: {'order': 1581}, 2034: {'order': 1582}, 2035: {'order': 1583}, 2036: {'order': 1584}, 2037: {'order': 1585}, 2038: {'order': 1586}, 2039: {'order': 1587}, 2040: {'order': 1588}, 2041: {'order': 1589}, 2042: {'order': 1590}, 2043: {'order': 1591}, 2044: {'order': 1592}, 2045: {'order': 1593}, 2046: {'order': 1594}, 2047: {'order': 1595}, 2048: {'order': 1596}, 2049: {'order': 1597}, 2050: {'order': 1598}, 2051: {'order': 1599}, 2052: {'order': 1600}, 2053: {'order': 1601}, 2054: {'order': 1602}, 2055: {'order': 1603}, 2056: {'order': 1604}, 2057: {'order': 1605}, 2058: {'order': 1606}, 2059: {'order': 1607}, 2060: {'order': 1608}, 2061: {'order': 1609}, 2062: {'order': 1610}, 2063: {'order': 1611}, 2064: {'order': 1612}, 2065: {'order': 1613}, 2066: {'order': 1614}, 2067: {'order': 1615}, 2068: {'order': 1616}, 2069: {'order': 1617}, 2070: {'order': 1618}, 2071: {'order': 1619}, 2072: {'order': 1620}, 2073: {'order': 1621}, 2074: {'order': 1622}, 2075: {'order': 1623}, 2076: {'order': 1624}, 2077: {'order': 1625}, 2078: {'order': 1626}, 2079: {'order': 1627}, 2080: {'order': 1628}, 2081: {'order': 1629}, 2082: {'order': 1630}, 2083: {'order': 1631}, 2084: {'order': 1632}, 2085: {'order': 1633}, 2086: {'order': 1634}, 2087: {'order': 1635}, 2088: {'order': 1636}, 2089: {'order': 1637}, 2090: {'order': 1638}, 2091: {'order': 1639}, 2092: {'order': 1640}, 2093: {'order': 1641}, 2094: {'order': 1642}, 2095: {'order': 1643}, 2096: {'order': 1644}, 2097: {'order': 1645}, 2098: {'order': 1646}, 2099: {'order': 1647}, 2100: {'order': 1648}, 2101: {'order': 1649}, 2102: {'order': 1650}, 2103: {'order': 1651}, 2104: {'order': 1652}, 2105: {'order': 1653}, 2106: {'order': 1654}, 2107: {'order': 1655}, 2108: {'order': 1656}, 2109: {'order': 1657}, 2110: {'order': 1658}, 2111: {'order': 1659}, 2112: {'order': 1660}, 2113: {'order': 1661}, 2114: {'order': 1662}, 2115: {'order': 1663}, 2116: {'order': 1664}, 2117: {'order': 1665}, 2118: {'order': 1666}, 2119: {'order': 1667}, 2120: {'order': 1668}, 2121: {'order': 1669}, 2122: {'order': 1670}, 2123: {'order': 1671}, 2124: {'order': 1672}, 2125: {'order': 1673}, 2126: {'order': 1674}, 2127: {'order': 1675}, 2128: {'order': 1676}, 2129: {'order': 1677}, 2130: {'order': 1678}, 2131: {'order': 1679}, 2132: {'order': 1680}, 2133: {'order': 1681}, 2134: {'order': 1682}, 2135: {'order': 1683}, 2136: {'order': 1684}, 2137: {'order': 1685}, 2138: {'order': 1686}, 2139: {'order': 1687}, 2140: {'order': 1688}, 2141: {'order': 1689}, 2142: {'order': 1690}, 2143: {'order': 1691}, 2144: {'order': 1692}, 2145: {'order': 1693}, 2146: {'order': 1694}, 2147: {'order': 1695}, 2148: {'order': 1696}, 2149: {'order': 1697}, 2150: {'order': 1698}, 2151: {'order': 1699}, 2152: {'order': 1700}, 2153: {'order': 1701}, 2154: {'order': 1702}, 2155: {'order': 1703}, 2156: {'order': 1704}, 2157: {'order': 1705}, 2158: {'order': 1706}, 2159: {'order': 1707}, 2160: {'order': 1708}, 2161: {'order': 1709}, 2162: {'order': 1710}, 2163: {'order': 1711}, 2164: {'order': 1712}, 2165: {'order': 1713}, 2166: {'order': 1714}, 2167: {'order': 1715}, 2168: {'order': 1716}, 2169: {'order': 1717}, 2170: {'order': 1718}, 2171: {'order': 1719}, 2172: {'order': 1720}, 2173: {'order': 1721}, 2174: {'order': 1722}, 2175: {'order': 1723}, 2176: {'order': 1724}, 2177: {'order': 1725}, 2178: {'order': 1726}, 2179: {'order': 1727}, 2180: {'order': 1728}, 2181: {'order': 1729}, 2182: {'order': 1730}, 2183: {'order': 1731}, 2184: {'order': 1732}, 2185: {'order': 1733}, 2186: {'order': 1734}, 2187: {'order': 1735}, 2188: {'order': 1736}, 2189: {'order': 1737}, 2190: {'order': 1738}, 2191: {'order': 1739}, 2192: {'order': 1740}, 2193: {'order': 1741}, 2194: {'order': 1742}, 2195: {'order': 1743}, 2196: {'order': 1744}, 2197: {'order': 1745}, 2198: {'order': 1746}, 2199: {'order': 1747}, 2200: {'order': 1748}, 2201: {'order': 1749}, 2202: {'order': 1750}, 2203: {'order': 1751}, 2204: {'order': 1752}, 2205: {'order': 1753}, 2206: {'order': 1754}, 2207: {'order': 1755}, 2208: {'order': 1756}, 2209: {'order': 1757}, 2210: {'order': 1758}, 2211: {'order': 1759}, 2212: {'order': 1760}, 2213: {'order': 1761}, 2214: {'order': 1762}, 2215: {'order': 1763}, 2216: {'order': 1764}, 2217: {'order': 1765}, 2218: {'order': 1766}, 2219: {'order': 1767}, 2220: {'order': 1768}, 2221: {'order': 1769}, 2222: {'order': 1770}, 2223: {'order': 1771}, 2224: {'order': 1772}, 2225: {'order': 1773}, 2226: {'order': 1774}, 2227: {'order': 1775}, 2228: {'order': 1776}, 2229: {'order': 1777}, 2230: {'order': 1778}, 2231: {'order': 1779}, 2392: {'order': 1940}, 2395: {'order': 1943}, 2396: {'order': 1944}, 2397: {'order': 1945}, 2398: {'order': 1946}, 2399: {'order': 1947}, 2400: {'order': 1948}, 2401: {'order': 1949}, 2402: {'order': 1950}, 2403: {'order': 1951}, 2404: {'order': 1952}, 2405: {'order': 1953}, 2406: {'order': 1954}, 2407: {'order': 1955}, 2408: {'order': 1956}, 2409: {'order': 1957}, 2410: {'order': 1958}, 2411: {'order': 1959}, 2412: {'order': 1960}, 2413: {'order': 1961}, 2414: {'order': 1962}, 2415: {'order': 1963}, 2416: {'order': 1964}, 2417: {'order': 1965}, 2418: {'order': 1966}, 2419: {'order': 1967}, 2420: {'order': 1968}, 2421: {'order': 1969}, 2422: {'order': 1970}, 2423: {'order': 1971}, 2424: {'order': 1972}, 2425: {'order': 1973}, 2426: {'order': 1974}, 2427: {'order': 1975}, 2428: {'order': 1976}, 2429: {'order': 1977}, 2430: {'order': 1978}, 2431: {'order': 1979}, 2432: {'order': 1980}, 2433: {'order': 1981}, 2434: {'order': 1982}, 2435: {'order': 1983}, 2436: {'order': 1984}, 2437: {'order': 1985}, 2438: {'order': 1986}, 2439: {'order': 1987}, 2440: {'order': 1988}, 2441: {'order': 1989}, 2442: {'order': 1990}, 2443: {'order': 1991}, 2444: {'order': 1992}, 2445: {'order': 1993}, 2446: {'order': 1994}, 2447: {'order': 1995}, 2448: {'order': 1996}, 2449: {'order': 1997}, 2450: {'order': 1998}, 2451: {'order': 1999}, 2452: {'order': 2000}, 2453: {'order': 2001}, 2454: {'order': 2002}, 2455: {'order': 2003}, 2456: {'order': 2004}, 2457: {'order': 2005}, 2458: {'order': 2006}, 2459: {'order': 2007}, 2460: {'order': 2008}, 2461: {'order': 2009}, 2462: {'order': 2010}, 2463: {'order': 2011}, 2464: {'order': 2012}, 2465: {'order': 2013}, 2466: {'order': 2014}, 2467: {'order': 2015}, 2468: {'order': 2016}, 2469: {'order': 2017}, 2470: {'order': 2018}, 2471: {'order': 2019}, 2472: {'order': 2020}, 2473: {'order': 2021}, 2474: {'order': 2022}, 2475: {'order': 2023}, 2476: {'order': 2024}, 2477: {'order': 2025}, 2478: {'order': 2026}, 2479: {'order': 2027}, 2480: {'order': 2028}, 2481: {'order': 2029}, 2482: {'order': 2030}, 2514: {'order': 2062}, 2515: {'order': 2063}, 2516: {'order': 2064}, 2517: {'order': 2065}, 2518: {'order': 2066}, 2519: {'order': 2067}, 2520: {'order': 2068}, 2521: {'order': 2069}, 2522: {'order': 2070}, 2523: {'order': 2071}, 2524: {'order': 2072}, 2525: {'order': 2073}, 2526: {'order': 2074}, 2527: {'order': 2075}, 2528: {'order': 2076}, 2529: {'order': 2077}, 2530: {'order': 2078}, 2531: {'order': 2079}, 2532: {'order': 2080}, 2533: {'order': 2081}, 2534: {'order': 2082}, 2535: {'order': 2083}, 2536: {'order': 2084}, 2537: {'order': 2085}, 2538: {'order': 2086}, 2539: {'order': 2087}, 2540: {'order': 2088}, 2541: {'order': 2089}, 2542: {'order': 2090}, 2543: {'order': 2091}, 2544: {'order': 2092}, 2545: {'order': 2093}, 2546: {'order': 2094}, 2547: {'order': 2095}, 2548: {'order': 2096}, 2549: {'order': 2097}, 2550: {'order': 2098}, 2551: {'order': 2099}, 2552: {'order': 2100}, 2553: {'order': 2101}, 2554: {'order': 2102}, 2555: {'order': 2103}, 2556: {'order': 2104}, 2557: {'order': 2105}, 2558: {'order': 2106}, 2559: {'order': 2107}, 2560: {'order': 2108}, 2561: {'order': 2109}, 2562: {'order': 2110}, 2563: {'order': 2111}, 2564: {'order': 2112}, 2565: {'order': 2113}, 2566: {'order': 2114}, 2567: {'order': 2115}, 2568: {'order': 2116}, 2569: {'order': 2117}, 2570: {'order': 2118}, 2571: {'order': 2119}, 2572: {'order': 2120}, 2573: {'order': 2121}, 2574: {'order': 2122}, 2575: {'order': 2123}, 2576: {'order': 2124}, 2577: {'order': 2125}, 2578: {'order': 2126}, 2579: {'order': 2127}, 2580: {'order': 2128}, 2581: {'order': 2129}, 2582: {'order': 2130}, 2583: {'order': 2131}, 2584: {'order': 2132}, 2585: {'order': 2133}, 2586: {'order': 2134}, 2587: {'order': 2135}, 2588: {'order': 2136}, 2589: {'order': 2137}, 2590: {'order': 2138}, 2591: {'order': 2139}, 2603: {'order': 2151}, 2604: {'order': 2152}, 2605: {'order': 2153}, 2606: {'order': 2154}, 2607: {'order': 2155}, 2608: {'order': 2156}, 2609: {'order': 2157}, 2610: {'order': 2158}, 2611: {'order': 2159}, 2612: {'order': 2160}, 2613: {'order': 2161}, 2614: {'order': 2162}, 2615: {'order': 2163}, 2616: {'order': 2164}, 2617: {'order': 2165}, 2618: {'order': 2166}, 2619: {'order': 2167}, 2620: {'order': 2168}, 2621: {'order': 2169}, 2622: {'order': 2170}, 2623: {'order': 2171}, 2624: {'order': 2172}, 2625: {'order': 2173}, 2626: {'order': 2174}, 2627: {'order': 2175}, 2628: {'order': 2176}, 2629: {'order': 2177}, 2630: {'order': 2178}, 2631: {'order': 2179}, 2632: {'order': 2180}, 2633: {'order': 2181}, 2634: {'order': 2182}, 2635: {'order': 2183}, 2636: {'order': 2184}, 2637: {'order': 2185}, 2638: {'order': 2186}, 2639: {'order': 2187}, 2640: {'order': 2188}, 2641: {'order': 2189}, 2642: {'order': 2190}, 2643: {'order': 2191}, 2644: {'order': 2192}, 2645: {'order': 2193}, 2646: {'order': 2194}, 2647: {'order': 2195}, 2648: {'order': 2196}, 2649: {'order': 2197}, 2650: {'order': 2198}, 2651: {'order': 2199}, 2652: {'order': 2200}, 2653: {'order': 2201}, 2654: {'order': 2202}, 2655: {'order': 2203}, 2656: {'order': 2204}, 2657: {'order': 2205}, 2658: {'order': 2206}, 2659: {'order': 2207}, 2660: {'order': 2208}, 2661: {'order': 2209}, 2662: {'order': 2210}, 2675: {'order': 2223}, 57: {'name': 'Khal Drogo'}, 82: {'name': 'Mirri Maz Duur'}, 151: {'name': 'Pyat Pree'}, 172: {'name': 'Xaro Xhoan Daxos'}, 173: {'name': 'Doreah'}, 275: {'name': 'Goat'}, 295: {'name': 'Zalla'}, 369: {'name': 'Khal Moro'}, 370: {'name': 'Dothraki Khal'}, 424: {'name': 'Randyll Tarly'}, 423: {'name': 'Dickon Tarly'}, 446: {'name': 'Varys'}, 448: {'name': 'Golden Company soldier'}, 449: {'name': 'Golden Company horse'}, 402: {'name': 'Cersei Lannister'}, 92: {'imdb_rating': 9.5, 'name': 'Fire and Blood', 'number': 10}, 508: {'order': 56}, 80: {'name': 'Drogos horse'}, 91: {'name': 'Rhaego'}, 501: {'order': 49}, 78: {'name': 'Mago'}, 79: {'name': 'Lhazar'}, 153: {'name': 'The Thirteen'}, 150: {'name': 'The Spice King'}, 152: {'name': 'Warlocks of Qarth'}, 549: {'order': 97}, 550: {'order': 98}, 551: {'order': 99}, 552: {'order': 100}, 553: {'order': 101}, 554: {'order': 102}, 555: {'order': 103}, 556: {'order': 104}, 557: {'order': 105}, 558: {'order': 106}, 154: {'name': 'The Silk King'}, 155: {'name': 'The Copper King'}, 156: {'name': 'Member of the Thirteen'}, 273: {'imdb_rating': 9.7, 'name': 'The Laws of Gods and Men', 'number': 6}, 272: {'name': 'Yara Greyjoy'}, 790: {'order': 338}, 282: {'name': 'Ralf Kenning'}, 283: {'name': 'Moat Cailin'}, 294: {'imdb_rating': 9.7, 'name': 'The Children', 'number': 10}, 893: {'order': 441}, 296: {'name': 'Jojen Reed'}, 297: {'name': 'Meera Reed'}, 299: {'name': 'The Vale'}, 895: {'order': 443}, 40: {'name': 'Tyrion Lannister'}, 896: {'order': 444}, 300: {'name': 'Shae'}, 301: {'name': 'Tywin Lannister'}, 422: {'imdb_rating': 9.8, 'name': 'The Spoils of War', 'number': 4}, 421: {'name': 'Roseroad'}, 425: {'imdb_rating': 8.8, 'name': 'Eastwatch', 'number': 5}, 426: {'name': 'Gendry'}, 447: {'imdb_rating': 6, 'name': 'The Bells', 'number': 5}, 1069: {'order': 617}, 1527: {'order': 1075}, 1528: {'order': 1076}, 1827: {'order': 1375}, 360: {'name': 'Balon Greyjoy'}, 322: {'name': 'Obara Sand'}, 417: {'name': 'Nymeria Sand'}, 443: {'name': 'Rhaegal'}, 361: {'name': 'Iron Islands'}, 416: {'name': 'Sand Snakes'}, 917: {'order': 465}, 1062: {'order': 610}, 321: {'name': 'Dorne Smuggler'}, 355: {'name': 'Trystane Martell'}, 349: {'name': 'Ellaria Sand'}, 1060: {'order': 608}, 1534: {'order': 1082}, 348: {'name': 'Myrcella'}, 352: {'name': 'Doran Martell'}, 418: {'imdb_rating': 9.2, 'name': 'The Queens Justice', 'number': 3}, 419: {'name': 'Casterly Rock'}, 420: {'name': 'Highgarden'}, 1250: {'order': 798}, 1251: {'order': 799}, 1252: {'order': 800}, 1253: {'order': 801}, 1254: {'order': 802}, 1255: {'order': 803}, 1256: {'order': 804}, 1257: {'order': 805}, 1258: {'order': 806}, 1259: {'order': 807}, 1260: {'order': 808}, 1261: {'order': 809}, 1262: {'order': 810}, 1263: {'order': 811}, 1264: {'order': 812}, 1265: {'order': 813}, 1266: {'order': 814}, 1267: {'order': 815}, 1322: {'order': 870}, 1323: {'order': 871}, 1324: {'order': 872}, 1325: {'order': 873}, 1326: {'order': 874}, 1327: {'order': 875}, 1328: {'order': 876}, 1329: {'order': 877}, 1330: {'order': 878}, 1331: {'order': 879}, 1332: {'order': 880}, 1333: {'order': 881}, 1334: {'order': 882}, 1335: {'order': 883}, 1336: {'order': 884}, 1337: {'order': 885}, 1338: {'order': 886}, 1339: {'order': 887}, 1340: {'order': 888}, 1341: {'order': 889}, 1342: {'order': 890}, 1343: {'order': 891}, 1344: {'order': 892}, 1345: {'order': 893}, 1346: {'order': 894}, 1347: {'order': 895}, 1348: {'order': 896}, 1349: {'order': 897}, 1350: {'order': 898}, 1351: {'order': 899}, 1352: {'order': 900}, 1353: {'order': 901}, 1354: {'order': 902}, 1355: {'order': 903}, 1356: {'order': 904}, 1357: {'order': 905}, 1358: {'order': 906}, 1359: {'order': 907}, 1360: {'order': 908}, 1361: {'order': 909}, 1362: {'order': 910}, 1363: {'order': 911}, 1364: {'order': 912}, 1365: {'order': 913}, 1366: {'order': 914}, 1367: {'order': 915}, 1368: {'order': 916}, 1369: {'order': 917}, 1370: {'order': 918}, 1371: {'order': 919}, 1372: {'order': 920}, 1373: {'order': 921}, 1374: {'order': 922}, 1375: {'order': 923}, 1376: {'order': 924}, 1377: {'order': 925}, 1378: {'order': 926}, 1379: {'order': 927}, 1380: {'order': 928}, 1381: {'order': 929}, 1382: {'order': 930}, 1383: {'order': 931}, 1384: {'order': 932}, 1385: {'order': 933}, 1386: {'order': 934}, 1387: {'order': 935}, 1388: {'order': 936}, 1389: {'order': 937}, 1390: {'order': 938}, 1391: {'order': 939}, 1392: {'order': 940}, 1393: {'order': 941}, 1394: {'order': 942}, 1395: {'order': 943}, 1396: {'order': 944}, 1397: {'order': 945}, 1398: {'order': 946}, 1399: {'order': 947}, 1400: {'order': 948}, 1401: {'order': 949}, 1402: {'order': 950}, 1403: {'order': 951}, 1404: {'order': 952}, 1405: {'order': 953}, 1406: {'order': 954}, 1407: {'order': 955}, 1408: {'order': 956}, 1409: {'order': 957}, 1410: {'order': 958}, 1411: {'order': 959}, 1412: {'order': 960}, 1413: {'order': 961}, 1414: {'order': 962}, 1415: {'order': 963}, 1416: {'order': 964}, 1417: {'order': 965}, 1418: {'order': 966}, 1419: {'order': 967}, 1420: {'order': 968}, 1421: {'order': 969}, 1422: {'order': 970}, 1423: {'order': 971}, 1424: {'order': 972}, 1426: {'order': 974}, 1427: {'order': 975}, 1428: {'order': 976}, 1429: {'order': 977}, 1430: {'order': 978}, 1431: {'order': 979}, 1432: {'order': 980}, 1433: {'order': 981}, 1434: {'order': 982}, 1435: {'order': 983}, 1436: {'order': 984}, 1437: {'order': 985}, 1438: {'order': 986}, 1439: {'order': 987}, 1440: {'order': 988}, 1441: {'order': 989}, 1442: {'order': 990}, 1443: {'order': 991}, 1444: {'order': 992}, 1445: {'order': 993}, 1446: {'order': 994}, 403: {'name': 'High Sparrow'}, 404: {'name': 'Kings Landing Noble'}, 405: {'name': 'Margaery Tyrell'}, 406: {'name': 'Mace Tyrell'}, 407: {'name': 'Kevan Lannister'}, 354: {'name': 'Tyene Sand'}, 1061: {'order': 609}, 353: {'name': 'Areo Hotah'}, 444: {'imdb_rating': 5.5, 'name': 'The Last of the Starks', 'number': 4}, 911: {'order': 459}, 314: {'name': 'Rat'}, 313: {'imdb_rating': 8.5, 'name': 'High Sparrow', 'number': 3}, 514: {'order': 62}, 104: {'name': 'Barra (Baratheon illegitimate son)'}, 452: {'imdb_rating': 4, 'name': 'The Iron Throne', 'number': 6}, 1770: {'order': 1318}, 429: {'name': 'Thoros'}, 440: {'name': 'Giant Wight'}, 1812: {'order': 1360}, 1813: {'order': 1361}, 1814: {'order': 1362}, 1815: {'order': 1363}, 1816: {'order': 1364}, 1817: {'order': 1365}, 1818: {'order': 1366}, 1819: {'order': 1367}, 1820: {'order': 1368}, 439: {'name': 'Mormont Soldier'}, 442: {'name': 'Lyanna Mormont'}, 441: {'name': 'House Mormont'}, 174: {'name': 'Manticore'}, 395: {'name': 'Knights of the Vale'}, 396: {'name': 'Bolton Hound'}, 963: {'order': 511}, 331: {'imdb_rating': 9, 'name': 'The Gift', 'number': 7}, 330: {'name': 'Aemon Targaryen'}, 290: {'name': 'Giant mammoth'}, 224: {'name': 'Shaggydog'}, 239: {'imdb_rating': 9.2, 'name': 'Mhysa', 'number': 10}, 62: {'name': 'House Baratheon of Kings Landing'}, 59: {'name': 'Robert Baratheon'}, 486: {'order': 34}, 61: {'imdb_rating': 9.2, 'name': 'You Win or You Die', 'number': 7}, 63: {'name': 'City watch guard'}, 515: {'order': 63}, 516: {'order': 64}, 517: {'order': 65}, 106: {'name': 'Robert Baratheons illegitimate son'}, 60: {'name': 'Boar'}, 526: {'order': 74}, 115: {'name': 'Lommy Greenhands'}, 408: {'name': 'Tommen Baratheon'}, 1447: {'order': 995}, 329: {'imdb_rating': 8, 'name': 'Unbowed Unbent Unbroken', 'number': 6}, 719: {'order': 267}, 237: {'name': 'Catelyn Stark'}, 718: {'order': 266}, 236: {'name': 'Joyeuse Frey'}, 167: {'name': 'House Moore'}, 201: {'name': 'Karstark soldier'}, 202: {'name': 'House Karstark'}, 659: {'order': 207}, 204: {'name': 'Willem Lannister'}, 205: {'name': 'Martyn Lannister'}, 660: {'order': 208}, 107: {'name': 'Rakharo'}, 108: {'name': 'Rival Dothraki'}, 19: {'name': 'Pentos'}, 89: {'name': 'Ilyn Payne'}, 90: {'name': 'House Payne'}, 182: {'name': 'House Tully'}})"
      ]
     },
     "execution_count": 3,
     "metadata": {},
     "output_type": "execute_result"
    }
   ],
   "source": [
    "G.nodes(data=True)"
   ]
  },
  {
   "cell_type": "code",
   "execution_count": 4,
   "metadata": {},
   "outputs": [],
   "source": [
    "import networkx as nx\n",
    "\n",
    "nx.write_gml(G, \"test1.gml\")"
   ]
  },
  {
   "cell_type": "code",
   "execution_count": 5,
   "metadata": {},
   "outputs": [],
   "source": [
    "nx.write_gexf(G, \"test1.gexf\")"
   ]
  },
  {
   "cell_type": "markdown",
   "metadata": {},
   "source": [
    "## %save"
   ]
  },
  {
   "cell_type": "code",
   "execution_count": 1,
   "metadata": {},
   "outputs": [],
   "source": [
    "import roc\n",
    "\n",
    "roc.init()"
   ]
  },
  {
   "cell_type": "code",
   "execution_count": 6,
   "metadata": {},
   "outputs": [
    {
     "name": "stdout",
     "output_type": "stream",
     "text": [
      "format gexf\n",
      "timestamp True\n",
      "filename graph\n"
     ]
    }
   ],
   "source": [
    "%save"
   ]
  },
  {
   "cell_type": "code",
   "execution_count": 5,
   "metadata": {},
   "outputs": [
    {
     "name": "stdout",
     "output_type": "stream",
     "text": [
      "format gml\n",
      "timestamp False\n",
      "filename foo\n"
     ]
    }
   ],
   "source": [
    "%save -f gml --no-timestamp foo"
   ]
  },
  {
   "cell_type": "code",
   "execution_count": 3,
   "metadata": {},
   "outputs": [
    {
     "name": "stdout",
     "output_type": "stream",
     "text": [
      "Saving 2677 nodes...\n"
     ]
    },
    {
     "name": "stderr",
     "output_type": "stream",
     "text": [
      "Nodes: 100%|\u001b[34m███████████████████████████\u001b[0m| 2677/2677 [00:00<00:00, 11594.90node/s]\u001b[0m"
     ]
    },
    {
     "name": "stdout",
     "output_type": "stream",
     "text": [
      "Saved 2677 nodes and 11967 edges. Elapsed time: 0:00:00.235154\n"
     ]
    },
    {
     "name": "stderr",
     "output_type": "stream",
     "text": [
      "\n"
     ]
    }
   ],
   "source": [
    "%save"
   ]
  },
  {
   "cell_type": "markdown",
   "metadata": {},
   "source": [
    "## Performance\n",
    "\n",
    "### Before Node.get_many()\n",
    "Saving 2677 nodes...\n",
    "100%|██████████| 2677/2677 [01:49<00:00, 24.34it/s]\n",
    "Saved 2677 nodes. Elapsed time: 0:01:49.975708\n",
    "\n",
    "### After Node.get_many()\n",
    "Saving 2677 nodes...\n",
    "Nodes: 100%|██████████| 2677/2677 [00:03<00:00, 756.41node/s] \n",
    "Saved 2677 nodes. Elapsed time: 0:00:03.546128"
   ]
  },
  {
   "cell_type": "markdown",
   "metadata": {},
   "source": [
    "## Formats\n",
    "\n",
    "\"gexf\", \"gml\", \"dot\", \"graphml\", \"json\", \"leda\", \"pajek\", \"matrix-market\", \"adj-list\", \"multi-adj-list\", \"edge-list\""
   ]
  },
  {
   "cell_type": "code",
   "execution_count": 1,
   "metadata": {},
   "outputs": [],
   "source": [
    "import roc\n",
    "\n",
    "roc.init()"
   ]
  },
  {
   "cell_type": "code",
   "execution_count": 2,
   "metadata": {},
   "outputs": [
    {
     "name": "stdout",
     "output_type": "stream",
     "text": [
      "Saving 2677 nodes...\n"
     ]
    },
    {
     "name": "stderr",
     "output_type": "stream",
     "text": [
      "Nodes:   0%|\u001b[34m                                         \u001b[0m| 0/2677 [00:00<?, ?node/s]\u001b[0m"
     ]
    },
    {
     "name": "stderr",
     "output_type": "stream",
     "text": [
      "Nodes: 100%|\u001b[34m█████████████████████████████\u001b[0m| 2677/2677 [00:03<00:00, 762.31node/s]\u001b[0m\n"
     ]
    },
    {
     "name": "stdout",
     "output_type": "stream",
     "text": [
      "Writing graph to 'graph-2024.08.11-16.19.14'...\n",
      "Saved 2677 nodes and 11967 edges. Elapsed time: 0:00:03.938639\n"
     ]
    }
   ],
   "source": [
    "%save -f gexf"
   ]
  },
  {
   "cell_type": "code",
   "execution_count": 3,
   "metadata": {},
   "outputs": [
    {
     "name": "stdout",
     "output_type": "stream",
     "text": [
      "Saving 2677 nodes...\n"
     ]
    },
    {
     "name": "stderr",
     "output_type": "stream",
     "text": [
      "Nodes: 100%|\u001b[34m███████████████████████████\u001b[0m| 2677/2677 [00:00<00:00, 14874.64node/s]\u001b[0m"
     ]
    },
    {
     "name": "stdout",
     "output_type": "stream",
     "text": [
      "Writing graph to 'graph-2024.08.11-16.19.15'...\n"
     ]
    },
    {
     "name": "stderr",
     "output_type": "stream",
     "text": [
      "\n"
     ]
    },
    {
     "name": "stdout",
     "output_type": "stream",
     "text": [
      "Saved 2677 nodes and 11967 edges. Elapsed time: 0:00:00.352954\n"
     ]
    }
   ],
   "source": [
    "%save -f gml"
   ]
  },
  {
   "cell_type": "code",
   "execution_count": 4,
   "metadata": {},
   "outputs": [
    {
     "name": "stdout",
     "output_type": "stream",
     "text": [
      "Saving 2677 nodes...\n"
     ]
    },
    {
     "name": "stderr",
     "output_type": "stream",
     "text": [
      "Nodes: 100%|\u001b[34m████████████████████████████\u001b[0m| 2677/2677 [00:00<00:00, 9475.87node/s]\u001b[0m\n"
     ]
    },
    {
     "name": "stdout",
     "output_type": "stream",
     "text": [
      "Writing graph to 'graph-2024.08.11-16.19.16'...\n",
      "Saved 2677 nodes and 11967 edges. Elapsed time: 0:00:00.838471\n"
     ]
    }
   ],
   "source": [
    "%save -f dot"
   ]
  },
  {
   "cell_type": "code",
   "execution_count": 5,
   "metadata": {},
   "outputs": [
    {
     "name": "stdout",
     "output_type": "stream",
     "text": [
      "Saving 2677 nodes...\n"
     ]
    },
    {
     "name": "stderr",
     "output_type": "stream",
     "text": [
      "Nodes: 100%|\u001b[34m███████████████████████████\u001b[0m| 2677/2677 [00:00<00:00, 15400.54node/s]\u001b[0m"
     ]
    },
    {
     "name": "stdout",
     "output_type": "stream",
     "text": [
      "Writing graph to 'graph-2024.08.11-16.19.16'...\n"
     ]
    },
    {
     "name": "stderr",
     "output_type": "stream",
     "text": [
      "\n"
     ]
    },
    {
     "name": "stdout",
     "output_type": "stream",
     "text": [
      "Saved 2677 nodes and 11967 edges. Elapsed time: 0:00:00.658591\n"
     ]
    }
   ],
   "source": [
    "%save -f graphml"
   ]
  },
  {
   "cell_type": "code",
   "execution_count": 6,
   "metadata": {},
   "outputs": [
    {
     "name": "stdout",
     "output_type": "stream",
     "text": [
      "Saving 2677 nodes...\n"
     ]
    },
    {
     "name": "stderr",
     "output_type": "stream",
     "text": [
      "Nodes: 100%|\u001b[34m███████████████████████████\u001b[0m| 2677/2677 [00:00<00:00, 15227.67node/s]\u001b[0m"
     ]
    },
    {
     "name": "stdout",
     "output_type": "stream",
     "text": [
      "Writing graph to 'graph-2024.08.11-16.19.17'...\n"
     ]
    },
    {
     "name": "stderr",
     "output_type": "stream",
     "text": [
      "\n"
     ]
    },
    {
     "name": "stdout",
     "output_type": "stream",
     "text": [
      "Saved 2677 nodes and 11967 edges. Elapsed time: 0:00:00.349104\n"
     ]
    }
   ],
   "source": [
    "%save -f json-node-link"
   ]
  },
  {
   "cell_type": "code",
   "execution_count": 7,
   "metadata": {},
   "outputs": [
    {
     "name": "stdout",
     "output_type": "stream",
     "text": [
      "Saving 2677 nodes...\n"
     ]
    },
    {
     "name": "stderr",
     "output_type": "stream",
     "text": [
      "Nodes: 100%|\u001b[34m███████████████████████████\u001b[0m| 2677/2677 [00:00<00:00, 15630.61node/s]\u001b[0m"
     ]
    },
    {
     "name": "stdout",
     "output_type": "stream",
     "text": [
      "Writing graph to 'graph-2024.08.11-16.19.17'...\n"
     ]
    },
    {
     "name": "stderr",
     "output_type": "stream",
     "text": [
      "\n"
     ]
    },
    {
     "name": "stdout",
     "output_type": "stream",
     "text": [
      "Saved 2677 nodes and 11967 edges. Elapsed time: 0:00:00.327570\n"
     ]
    }
   ],
   "source": [
    "%save -f json-adj"
   ]
  },
  {
   "cell_type": "code",
   "execution_count": 8,
   "metadata": {},
   "outputs": [
    {
     "name": "stdout",
     "output_type": "stream",
     "text": [
      "Saving 2677 nodes...\n"
     ]
    },
    {
     "name": "stderr",
     "output_type": "stream",
     "text": [
      "Nodes: 100%|\u001b[34m███████████████████████████\u001b[0m| 2677/2677 [00:00<00:00, 15616.91node/s]\u001b[0m"
     ]
    },
    {
     "name": "stdout",
     "output_type": "stream",
     "text": [
      "Writing graph to 'graph-2024.08.11-16.19.18'...\n"
     ]
    },
    {
     "name": "stderr",
     "output_type": "stream",
     "text": [
      "\n"
     ]
    },
    {
     "name": "stdout",
     "output_type": "stream",
     "text": [
      "Saved 2677 nodes and 11967 edges. Elapsed time: 0:00:00.465477\n"
     ]
    }
   ],
   "source": [
    "%save -f cytoscape"
   ]
  },
  {
   "cell_type": "code",
   "execution_count": 9,
   "metadata": {},
   "outputs": [
    {
     "name": "stdout",
     "output_type": "stream",
     "text": [
      "Saving 2677 nodes...\n"
     ]
    },
    {
     "name": "stderr",
     "output_type": "stream",
     "text": [
      "Nodes: 100%|\u001b[34m███████████████████████████\u001b[0m| 2677/2677 [00:00<00:00, 15700.66node/s]\u001b[0m"
     ]
    },
    {
     "name": "stdout",
     "output_type": "stream",
     "text": [
      "Writing graph to 'graph-2024.08.11-16.19.18'...\n"
     ]
    },
    {
     "name": "stderr",
     "output_type": "stream",
     "text": [
      "\n",
      "/home/apowers/Projects/roc/.venv/lib/python3.11/site-packages/networkx/readwrite/pajek.py:75: UserWarning: Node attribute order is not processed. Non-string attribute.\n",
      "  warnings.warn(\n",
      "/home/apowers/Projects/roc/.venv/lib/python3.11/site-packages/networkx/readwrite/pajek.py:75: UserWarning: Node attribute imdb_rating is not processed. Non-string attribute.\n",
      "  warnings.warn(\n",
      "/home/apowers/Projects/roc/.venv/lib/python3.11/site-packages/networkx/readwrite/pajek.py:75: UserWarning: Node attribute number is not processed. Non-string attribute.\n",
      "  warnings.warn(\n",
      "/home/apowers/Projects/roc/.venv/lib/python3.11/site-packages/networkx/readwrite/pajek.py:93: UserWarning: Edge attribute count is not processed. Non-string attribute.\n",
      "  warnings.warn(\n"
     ]
    },
    {
     "name": "stdout",
     "output_type": "stream",
     "text": [
      "Saved 2677 nodes and 11967 edges. Elapsed time: 0:00:00.265294\n"
     ]
    }
   ],
   "source": [
    "%save -f pajek"
   ]
  },
  {
   "cell_type": "code",
   "execution_count": 10,
   "metadata": {},
   "outputs": [
    {
     "name": "stdout",
     "output_type": "stream",
     "text": [
      "Saving 2677 nodes...\n"
     ]
    },
    {
     "name": "stderr",
     "output_type": "stream",
     "text": [
      "Nodes: 100%|\u001b[34m███████████████████████████\u001b[0m| 2677/2677 [00:00<00:00, 15293.06node/s]\u001b[0m"
     ]
    },
    {
     "name": "stdout",
     "output_type": "stream",
     "text": [
      "Writing graph to 'graph-2024.08.11-16.19.19'...\n"
     ]
    },
    {
     "name": "stderr",
     "output_type": "stream",
     "text": [
      "\n"
     ]
    },
    {
     "name": "stdout",
     "output_type": "stream",
     "text": [
      "Saved 2677 nodes and 11967 edges. Elapsed time: 0:00:00.384356\n"
     ]
    }
   ],
   "source": [
    "%save -f matrix-market"
   ]
  },
  {
   "cell_type": "code",
   "execution_count": 11,
   "metadata": {},
   "outputs": [
    {
     "name": "stdout",
     "output_type": "stream",
     "text": [
      "Saving 2677 nodes...\n"
     ]
    },
    {
     "name": "stderr",
     "output_type": "stream",
     "text": [
      "Nodes: 100%|\u001b[34m████████████████████████████\u001b[0m| 2677/2677 [00:00<00:00, 9566.32node/s]\u001b[0m"
     ]
    },
    {
     "name": "stdout",
     "output_type": "stream",
     "text": [
      "Writing graph to 'graph-2024.08.11-16.19.19'...\n",
      "Saved 2677 nodes and 11967 edges. Elapsed time: 0:00:00.294720\n"
     ]
    },
    {
     "name": "stderr",
     "output_type": "stream",
     "text": [
      "\n"
     ]
    }
   ],
   "source": [
    "%save -f adj-list"
   ]
  },
  {
   "cell_type": "code",
   "execution_count": 12,
   "metadata": {},
   "outputs": [
    {
     "name": "stdout",
     "output_type": "stream",
     "text": [
      "Saving 2677 nodes...\n"
     ]
    },
    {
     "name": "stderr",
     "output_type": "stream",
     "text": [
      "Nodes: 100%|\u001b[34m███████████████████████████\u001b[0m| 2677/2677 [00:00<00:00, 15098.70node/s]\u001b[0m"
     ]
    },
    {
     "name": "stdout",
     "output_type": "stream",
     "text": [
      "Writing graph to 'graph-2024.08.11-16.19.19'...\n"
     ]
    },
    {
     "name": "stderr",
     "output_type": "stream",
     "text": [
      "\n"
     ]
    },
    {
     "name": "stdout",
     "output_type": "stream",
     "text": [
      "Saved 2677 nodes and 11967 edges. Elapsed time: 0:00:00.207788\n"
     ]
    }
   ],
   "source": [
    "%save -f multi-adj-list"
   ]
  },
  {
   "cell_type": "code",
   "execution_count": 13,
   "metadata": {},
   "outputs": [
    {
     "name": "stdout",
     "output_type": "stream",
     "text": [
      "Saving 2677 nodes...\n"
     ]
    },
    {
     "name": "stderr",
     "output_type": "stream",
     "text": [
      "Nodes: 100%|\u001b[34m███████████████████████████\u001b[0m| 2677/2677 [00:00<00:00, 14888.47node/s]\u001b[0m"
     ]
    },
    {
     "name": "stdout",
     "output_type": "stream",
     "text": [
      "Writing graph to 'graph-2024.08.11-16.19.20'...\n"
     ]
    },
    {
     "name": "stderr",
     "output_type": "stream",
     "text": [
      "\n"
     ]
    },
    {
     "name": "stdout",
     "output_type": "stream",
     "text": [
      "Saved 2677 nodes and 11967 edges. Elapsed time: 0:00:00.223435\n"
     ]
    }
   ],
   "source": [
    "%save -f edge-list"
   ]
  }
 ],
 "metadata": {
  "kernelspec": {
   "display_name": ".venv",
   "language": "python",
   "name": "python3"
  },
  "language_info": {
   "codemirror_mode": {
    "name": "ipython",
    "version": 3
   },
   "file_extension": ".py",
   "mimetype": "text/x-python",
   "name": "python",
   "nbconvert_exporter": "python",
   "pygments_lexer": "ipython3",
   "version": "3.11.9"
  }
 },
 "nbformat": 4,
 "nbformat_minor": 2
}
