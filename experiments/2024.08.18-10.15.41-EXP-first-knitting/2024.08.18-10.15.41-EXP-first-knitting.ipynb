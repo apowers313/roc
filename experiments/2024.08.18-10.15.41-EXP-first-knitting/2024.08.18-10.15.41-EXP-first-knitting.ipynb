{
 "cells": [
  {
   "cell_type": "markdown",
   "metadata": {},
   "source": [
    "__[first knitting](https://github.com/apowers313/roc/blob/master/experiments/2024.08.18-10.15.41-EXP-first-knitting/2024.08.18-10.15.41-EXP-first-knitting.ipynb)__\n",
    "\n",
    "_Experiment Template v0.3.0_"
   ]
  },
  {
   "cell_type": "markdown",
   "metadata": {},
   "source": [
    "# System Information"
   ]
  },
  {
   "cell_type": "markdown",
   "metadata": {},
   "source": [
    "## Basic Info"
   ]
  },
  {
   "cell_type": "code",
   "execution_count": 1,
   "metadata": {},
   "outputs": [
    {
     "name": "stdout",
     "output_type": "stream",
     "text": [
      "/home/apowers/Projects/roc\n",
      "Thu Aug 29 15:15:03 PDT 2024\n"
     ]
    }
   ],
   "source": [
    "%cd /home/apowers/Projects/roc\n",
    "!date"
   ]
  },
  {
   "cell_type": "markdown",
   "metadata": {},
   "source": [
    "## GIT"
   ]
  },
  {
   "cell_type": "code",
   "execution_count": 2,
   "metadata": {},
   "outputs": [
    {
     "name": "stdout",
     "output_type": "stream",
     "text": [
      "git hash: ec224402bde7cd8bfd74a937f550d8efe9e38a24\n",
      "git status:\n",
      " M Makefile\n",
      " M experiments/2024.08.18-10.15.41-EXP-first-knitting/2024.08.18-10.15.41-EXP-first-knitting.ipynb\n",
      " M pyproject.toml\n",
      " M roc/__init__.py\n",
      " M roc/action.py\n",
      " M roc/attention.py\n",
      " M roc/config.py\n",
      " M roc/gymnasium.py\n",
      " M roc/intrinsic.py\n",
      " M tests/intrinsic_test.py\n",
      "?? ARCHITECTURE.md\n",
      "?? roc/object.py\n",
      "?? tests/object_test.py\n",
      "\n"
     ]
    }
   ],
   "source": [
    "!echo \"git hash:\" `git rev-parse HEAD`\n",
    "!echo \"git status:\"\n",
    "!git status -s | cat\n",
    "!echo"
   ]
  },
  {
   "cell_type": "markdown",
   "metadata": {},
   "source": [
    "## Python"
   ]
  },
  {
   "cell_type": "code",
   "execution_count": 3,
   "metadata": {},
   "outputs": [
    {
     "name": "stdout",
     "output_type": "stream",
     "text": [
      "Python 3.11.9\n"
     ]
    },
    {
     "name": "stdout",
     "output_type": "stream",
     "text": [
      "pip 23.1.2 from /home/apowers/Projects/roc/.venv/lib/python3.11/site-packages/pip (python 3.11)\n",
      "installed packages:\n",
      "Package                       Version           Editable project location\n",
      "----------------------------- ----------------- --------------------------\n",
      "alabaster                     0.7.16\n",
      "annotated-types               0.7.0\n",
      "astroid                       3.2.4\n",
      "asttokens                     2.4.1\n",
      "attrs                         24.2.0\n",
      "babel                         2.16.0\n",
      "bandit                        1.7.9\n",
      "black                         24.8.0\n",
      "cachetools                    5.4.0\n",
      "caerus                        0.1.10\n",
      "certifi                       2024.7.4\n",
      "cfgv                          3.4.0\n",
      "chardet                       5.2.0\n",
      "charset-normalizer            3.3.2\n",
      "click                         8.1.7\n",
      "cloudpickle                   3.0.0\n",
      "colorama                      0.4.6\n",
      "colored                       2.2.4\n",
      "comm                          0.2.2\n",
      "contourpy                     1.2.1\n",
      "coverage                      7.6.1\n",
      "coverage-badge                1.1.2\n",
      "cuda-python                   12.6.0\n",
      "cupy-cuda12x                  13.2.0\n",
      "cycler                        0.12.1\n",
      "debugpy                       1.8.5\n",
      "decorator                     5.1.1\n",
      "deptry                        0.12.0\n",
      "dill                          0.3.8\n",
      "distlib                       0.3.8\n",
      "docutils                      0.21.2\n",
      "dparse                        0.6.3\n",
      "executing                     2.0.1\n",
      "fastjsonschema                2.20.0\n",
      "fastrlock                     0.8.2\n",
      "filelock                      3.15.4\n",
      "findpeaks                     2.6.4\n",
      "fonttools                     4.53.1\n",
      "ghp-import                    2.1.0\n",
      "gprof2dot                     2024.6.6\n",
      "GPUtil                        1.4.0\n",
      "griffe                        0.48.0\n",
      "gym                           0.23.0\n",
      "gym-notices                   0.0.8\n",
      "icecream                      2.1.3\n",
      "identify                      2.6.0\n",
      "idna                          3.7\n",
      "imageio                       2.34.2\n",
      "imagesize                     1.4.1\n",
      "iniconfig                     2.0.0\n",
      "interrogate                   1.7.0\n",
      "ipykernel                     6.29.5\n",
      "ipympl                        0.9.4\n",
      "ipython                       8.26.0\n",
      "ipython-genutils              0.2.0\n",
      "ipywidgets                    8.1.3\n",
      "isort                         5.13.2\n",
      "jedi                          0.19.1\n",
      "Jinja2                        3.1.4\n",
      "joblib                        1.4.2\n",
      "json-fix                      0.5.2\n",
      "jsonschema                    4.23.0\n",
      "jsonschema-specifications     2023.12.1\n",
      "jupyter_client                8.6.2\n",
      "jupyter_core                  5.7.2\n",
      "jupyterlab_widgets            3.0.11\n",
      "kiwisolver                    1.4.5\n",
      "lazy_loader                   0.4\n",
      "livereload                    2.7.0\n",
      "llvmlite                      0.43.0\n",
      "loguru                        0.7.2\n",
      "Markdown                      3.6\n",
      "markdown-it-py                3.0.0\n",
      "MarkupSafe                    2.1.5\n",
      "marshmallow                   3.21.3\n",
      "matplotlib                    3.9.2\n",
      "matplotlib-inline             0.1.7\n",
      "mccabe                        0.7.0\n",
      "mdurl                         0.1.2\n",
      "mergedeep                     1.3.4\n",
      "mkdocs                        1.6.0\n",
      "mkdocs-autorefs               1.0.1\n",
      "mkdocs-gen-files              0.5.0\n",
      "mkdocs-get-deps               0.2.0\n",
      "mkdocs-literate-nav           0.6.1\n",
      "mkdocs-material               9.5.31\n",
      "mkdocs-material-extensions    1.3.1\n",
      "mkdocstrings                  0.25.2\n",
      "mkdocstrings-python           1.10.7\n",
      "mypy                          1.11.1\n",
      "mypy-extensions               1.0.0\n",
      "nbformat                      5.10.4\n",
      "nest-asyncio                  1.6.0\n",
      "networkx                      3.3\n",
      "networkx-gdf                  1.3.3\n",
      "nle                           0.9.0+7228844\n",
      "nodeenv                       1.9.1\n",
      "numba                         0.60.0\n",
      "numpy                         1.26.4\n",
      "nx-cugraph-cu12               24.8.0\n",
      "nx-parallel                   0.2\n",
      "opencv-python                 4.10.0.84\n",
      "packaging                     24.1\n",
      "paginate                      0.5.6\n",
      "pandas                        2.2.2\n",
      "parso                         0.8.4\n",
      "pathspec                      0.12.1\n",
      "pbr                           6.0.0\n",
      "pexpect                       4.9.0\n",
      "pickleshare                   0.7.5\n",
      "pillow                        10.4.0\n",
      "pip                           23.1.2\n",
      "platformdirs                  4.2.2\n",
      "plotly                        5.23.0\n",
      "pluggy                        1.5.0\n",
      "pre-commit                    3.8.0\n",
      "prompt_toolkit                3.0.47\n",
      "psutil                        6.0.0\n",
      "ptyprocess                    0.7.0\n",
      "pure_eval                     0.2.3\n",
      "py                            1.11.0\n",
      "pybind11                      2.13.1\n",
      "pydantic                      2.8.2\n",
      "pydantic_core                 2.20.1\n",
      "pydantic-settings             2.4.0\n",
      "pydocstyle                    6.3.0\n",
      "pydot                         3.0.1\n",
      "Pygments                      2.18.0\n",
      "pylibcugraph-cu12             24.8.0\n",
      "pylibraft-cu12                24.8.1\n",
      "pylint                        3.2.6\n",
      "pymdown-extensions            10.9\n",
      "pymgclient                    1.3.1\n",
      "pyparsing                     3.1.2\n",
      "pytest                        8.3.2\n",
      "pytest-cov                    4.1.0\n",
      "pytest-emoji                  0.2.0\n",
      "pytest-html                   3.2.0\n",
      "pytest-metadata               3.1.1\n",
      "pytest-mock                   3.14.0\n",
      "pytest-profiling              1.7.0\n",
      "python-dateutil               2.9.0.post0\n",
      "python-dotenv                 1.0.1\n",
      "pytz                          2024.1\n",
      "pyupgrade                     3.17.0\n",
      "PyYAML                        6.0.2\n",
      "pyyaml_env_tag                0.1\n",
      "pyzmq                         26.1.0\n",
      "reactivex                     4.0.4\n",
      "referencing                   0.35.1\n",
      "regex                         2024.7.24\n",
      "requests                      2.32.3\n",
      "rich                          13.7.1\n",
      "rmm-cu12                      24.8.2\n",
      "roc                           0.1.0             /home/apowers/Projects/roc\n",
      "rpds-py                       0.20.0\n",
      "ruamel.yaml                   0.18.6\n",
      "ruamel.yaml.clib              0.2.8\n",
      "ruff                          0.5.7\n",
      "safety                        2.4.0b2\n",
      "scikit-image                  0.24.0\n",
      "scipy                         1.14.0\n",
      "setuptools                    72.1.0\n",
      "six                           1.16.0\n",
      "snowballstemmer               2.2.0\n",
      "Sphinx                        7.4.7\n",
      "sphinx-autobuild              2021.3.14\n",
      "sphinxcontrib-applehelp       2.0.0\n",
      "sphinxcontrib-devhelp         2.0.0\n",
      "sphinxcontrib-htmlhelp        2.1.0\n",
      "sphinxcontrib-jsmath          1.0.1\n",
      "sphinxcontrib-qthelp          2.0.0\n",
      "sphinxcontrib-serializinghtml 2.0.0\n",
      "stack-data                    0.6.3\n",
      "stevedore                     5.2.0\n",
      "tabulate                      0.9.0\n",
      "tenacity                      9.0.0\n",
      "tifffile                      2024.8.10\n",
      "tokenize-rt                   6.0.0\n",
      "tomlkit                       0.13.0\n",
      "tornado                       6.4.1\n",
      "tqdm                          4.66.5\n",
      "traitlets                     5.14.3\n",
      "types-cachetools              5.4.0.20240717\n",
      "types-decorator               5.1.8.20240310\n",
      "types-Markdown                3.6.0.20240316\n",
      "types-pytz                    2024.1.0.20240417\n",
      "types-PyYAML                  6.0.12.20240724\n",
      "types-six                     1.16.21.20240513\n",
      "types-tabulate                0.9.0.20240106\n",
      "typing_extensions             4.12.2\n",
      "tzdata                        2024.1\n",
      "urllib3                       2.2.2\n",
      "virtualenv                    20.26.3\n",
      "watchdog                      4.0.2\n",
      "wcwidth                       0.2.13\n",
      "wget                          3.2\n",
      "wheel                         0.40.0\n",
      "widgetsnbextension            4.0.11\n",
      "xarray                        2024.7.0\n",
      "\u001b[33mWARNING: There was an error checking the latest version of pip.\u001b[0m\u001b[33m\n",
      "\u001b[0m"
     ]
    }
   ],
   "source": [
    "!python --version\n",
    "!pip --version\n",
    "!echo \"installed packages:\"\n",
    "!pip list"
   ]
  },
  {
   "cell_type": "markdown",
   "metadata": {},
   "source": [
    "## System"
   ]
  },
  {
   "cell_type": "code",
   "execution_count": 4,
   "metadata": {},
   "outputs": [
    {
     "name": "stdout",
     "output_type": "stream",
     "text": [
      "Linux dev.ato.ms 5.15.0-118-generic #128-Ubuntu SMP Fri Jul 5 09:28:59 UTC 2024 x86_64 x86_64 x86_64 GNU/Linux\n"
     ]
    },
    {
     "name": "stdout",
     "output_type": "stream",
     "text": [
      "\n",
      "system cpus:\n",
      "Architecture:             x86_64\n",
      "  CPU op-mode(s):         32-bit, 64-bit\n",
      "  Address sizes:          39 bits physical, 48 bits virtual\n",
      "  Byte Order:             Little Endian\n",
      "CPU(s):                   32\n",
      "  On-line CPU(s) list:    0-31\n",
      "Vendor ID:                GenuineIntel\n",
      "  Model name:             Intel(R) Core(TM) i9-14900KF\n",
      "    CPU family:           6\n",
      "    Model:                183\n",
      "    Thread(s) per core:   2\n",
      "    Core(s) per socket:   24\n",
      "    Socket(s):            1\n",
      "    Stepping:             1\n",
      "    CPU max MHz:          6000.0000\n",
      "    CPU min MHz:          800.0000\n",
      "    BogoMIPS:             6374.40\n",
      "    Flags:                fpu vme de pse tsc msr pae mce cx8 apic sep mtrr pge m\n",
      "                          ca cmov pat pse36 clflush dts acpi mmx fxsr sse sse2 s\n",
      "                          s ht tm pbe syscall nx pdpe1gb rdtscp lm constant_tsc \n",
      "                          art arch_perfmon pebs bts rep_good nopl xtopology nons\n",
      "                          top_tsc cpuid aperfmperf tsc_known_freq pni pclmulqdq \n",
      "                          dtes64 monitor ds_cpl est tm2 ssse3 sdbg fma cx16 xtpr\n",
      "                           pdcm sse4_1 sse4_2 x2apic movbe popcnt tsc_deadline_t\n",
      "                          imer aes xsave avx f16c rdrand lahf_lm abm 3dnowprefet\n",
      "                          ch cpuid_fault epb ssbd ibrs ibpb stibp ibrs_enhanced \n",
      "                          fsgsbase tsc_adjust bmi1 avx2 smep bmi2 erms invpcid r\n",
      "                          dseed adx smap clflushopt clwb intel_pt sha_ni xsaveop\n",
      "                          t xsavec xgetbv1 xsaves split_lock_detect avx_vnni dth\n",
      "                          erm ida arat pln pts hwp hwp_notify hwp_act_window hwp\n",
      "                          _epp hwp_pkg_req umip pku ospke waitpkg gfni vaes vpcl\n",
      "                          mulqdq rdpid movdiri movdir64b fsrm md_clear serialize\n",
      "                           arch_lbr flush_l1d arch_capabilities\n",
      "Caches (sum of all):      \n",
      "  L1d:                    896 KiB (24 instances)\n",
      "  L1i:                    1.3 MiB (24 instances)\n",
      "  L2:                     32 MiB (12 instances)\n",
      "  L3:                     36 MiB (1 instance)\n",
      "NUMA:                     \n",
      "  NUMA node(s):           1\n",
      "  NUMA node0 CPU(s):      0-31\n",
      "Vulnerabilities:          \n",
      "  Gather data sampling:   Not affected\n",
      "  Itlb multihit:          Not affected\n",
      "  L1tf:                   Not affected\n",
      "  Mds:                    Not affected\n",
      "  Meltdown:               Not affected\n",
      "  Mmio stale data:        Not affected\n",
      "  Reg file data sampling: Mitigation; Clear Register File\n",
      "  Retbleed:               Not affected\n",
      "  Spec rstack overflow:   Not affected\n",
      "  Spec store bypass:      Mitigation; Speculative Store Bypass disabled via prct\n",
      "                          l and seccomp\n",
      "  Spectre v1:             Mitigation; usercopy/swapgs barriers and __user pointe\n",
      "                          r sanitization\n",
      "  Spectre v2:             Mitigation; Enhanced / Automatic IBRS; IBPB conditiona\n",
      "                          l; RSB filling; PBRSB-eIBRS SW sequence; BHI BHI_DIS_S\n",
      "  Srbds:                  Not affected\n",
      "  Tsx async abort:        Not affected\n",
      "\n",
      "system memory:\n",
      "RANGE                                 SIZE  STATE REMOVABLE BLOCK\n",
      "0x0000000000000000-0x000000007fffffff   2G online       yes     0\n",
      "0x0000000100000000-0x000000187fffffff  94G online       yes  2-48\n",
      "\n",
      "Memory block size:         2G\n",
      "Total online memory:      96G\n",
      "Total offline memory:      0B\n",
      "\n"
     ]
    }
   ],
   "source": [
    "!uname -a\n",
    "!echo\n",
    "!echo \"system cpus:\"\n",
    "!lscpu\n",
    "!echo\n",
    "!echo \"system memory:\"\n",
    "!lsmem\n",
    "!echo"
   ]
  },
  {
   "cell_type": "markdown",
   "metadata": {},
   "source": []
  },
  {
   "cell_type": "markdown",
   "metadata": {},
   "source": [
    "# ROC Setup"
   ]
  },
  {
   "cell_type": "markdown",
   "metadata": {},
   "source": [
    "## ROC Config & Init"
   ]
  },
  {
   "cell_type": "code",
   "execution_count": 5,
   "metadata": {},
   "outputs": [
    {
     "name": "stdout",
     "output_type": "stream",
     "text": [
      ".env file:\n",
      "log_modules=\"graphdb:INFO;event:INFO;component:INFO\"\n",
      "config:\n",
      "db_host='127.0.0.1' db_port=7687 db_conn_encrypted=False db_username='' db_password='' db_lazy=False node_cache_size=1073741824 edge_cache_size=1073741824 log_enable=True log_level='INFO' log_modules='graphdb:INFO;event:INFO;component:INFO' default_action='pass' action_count=23 observation_shape=(21, 79) allow_unknown_intrinsic=True status_update=50 experiment_dir='/home/apowers/experiment' data_dir='/home/apowers/data' enable_gym_dump_env=False dump_file='./experiments/2024.08.18-10.15.41-EXP-first-knitting/env_dump-2024.08.29-15.15.06.py' max_dump_frames=10 perception_components=['delta:perception', 'distance:perception', 'flood:perception', 'motion:perception', 'single:perception', 'line:perception', 'color:perception', 'shape:perception']\n"
     ]
    }
   ],
   "source": [
    "from datetime import datetime\n",
    "import roc\n",
    "\n",
    "!echo \".env file:\"\n",
    "!cat .env\n",
    "!echo\n",
    "\n",
    "# roc.init()\n",
    "# or:\n",
    "roc.init(\n",
    "    {\n",
    "        # \"enable_gym_dump_env\": True,\n",
    "        \"dump_file\": f\"./experiments/2024.08.18-10.15.41-EXP-first-knitting/env_dump-{datetime.now().strftime('%Y.%m.%d-%H.%M.%S')}.py\",\n",
    "    }\n",
    ")\n",
    "\n",
    "print(f\"config:\\n{roc.Config.get()}\")  # noqa: T201"
   ]
  },
  {
   "cell_type": "markdown",
   "metadata": {},
   "source": [
    "## Import Paths"
   ]
  },
  {
   "cell_type": "code",
   "execution_count": 6,
   "metadata": {},
   "outputs": [],
   "source": [
    "import sys\n",
    "\n",
    "sys.path.append(\"./tests\")"
   ]
  },
  {
   "cell_type": "markdown",
   "metadata": {},
   "source": [
    "# Experiment"
   ]
  },
  {
   "cell_type": "code",
   "execution_count": 7,
   "metadata": {},
   "outputs": [
    {
     "name": "stderr",
     "output_type": "stream",
     "text": [
      "\u001b[32m2024-08-29 15:15:09.358\u001b[0m | \u001b[1mINFO    \u001b[0m | \u001b[36mroc.jupyter.step\u001b[0m:\u001b[36madd_step\u001b[0m:\u001b[36m19\u001b[0m - \u001b[1mstepping 2 times...\u001b[0m\n",
      "\u001b[32m2024-08-29 15:15:09.362\u001b[0m | \u001b[1mINFO    \u001b[0m | \u001b[36mroc.gymnasium\u001b[0m:\u001b[36mstart\u001b[0m:\u001b[36m74\u001b[0m - \u001b[1mStarting NLE loop...\u001b[0m\n"
     ]
    },
    {
     "name": "stderr",
     "output_type": "stream",
     "text": [
      "\u001b[32m2024-08-29 15:15:09.782\u001b[0m | \u001b[1mINFO    \u001b[0m | \u001b[36mroc.breakpoint\u001b[0m:\u001b[36mdo_break\u001b[0m:\u001b[36m193\u001b[0m - \u001b[1mbreaking due to: step\u001b[0m\n"
     ]
    },
    {
     "name": "stdout",
     "output_type": "stream",
     "text": [
      "bl {'x': 47, 'y': 16, 'str25': 16, 'str125': 16, 'dex': 12, 'con': 14, 'intel': 12, 'wis': 14, 'cha': 9, 'score': 0, 'hp': 14, 'hpmax': 14, 'depth': 1, 'gold': 0, 'ene': 5, 'enemax': 5, 'ac': 4, 'hd': 0, 'xp': 1, 'exp': 0, 'time': 1, 'hunger': 1, 'cap': 0, 'dnum': 0, 'dlevel': 1, 'condition': 0, 'align': 0, 'stone': False, 'slime': False, 'stringl': False, 'foodpois': False, 'termill': False, 'blind': False, 'deaf': False, 'stun': False, 'conf': False, 'hallu': False, 'lev': False, 'fly': False, 'ride': False}\n"
     ]
    }
   ],
   "source": [
    "%roc 2"
   ]
  },
  {
   "cell_type": "code",
   "execution_count": 8,
   "metadata": {},
   "outputs": [
    {
     "name": "stderr",
     "output_type": "stream",
     "text": [
      "\u001b[32m2024-08-29 08:31:24.008\u001b[0m | \u001b[1mINFO    \u001b[0m | \u001b[36mroc.jupyter.step\u001b[0m:\u001b[36madd_step\u001b[0m:\u001b[36m19\u001b[0m - \u001b[1mstepping 1 times...\u001b[0m\n"
     ]
    },
    {
     "name": "stderr",
     "output_type": "stream",
     "text": [
      "\u001b[32m2024-08-29 08:31:24.013\u001b[0m | \u001b[1mINFO    \u001b[0m | \u001b[36mroc.breakpoint\u001b[0m:\u001b[36mcheck\u001b[0m:\u001b[36m224\u001b[0m - \u001b[1mbreak done, continuing operations...\u001b[0m\n",
      "\u001b[32m2024-08-29 08:31:24.470\u001b[0m | \u001b[1mINFO    \u001b[0m | \u001b[36mroc.breakpoint\u001b[0m:\u001b[36mdo_break\u001b[0m:\u001b[36m193\u001b[0m - \u001b[1mbreaking due to: step\u001b[0m\n"
     ]
    }
   ],
   "source": [
    "%step"
   ]
  },
  {
   "cell_type": "code",
   "execution_count": null,
   "metadata": {},
   "outputs": [],
   "source": [
    "%cont"
   ]
  },
  {
   "cell_type": "code",
   "execution_count": null,
   "metadata": {},
   "outputs": [],
   "source": [
    "%state"
   ]
  },
  {
   "cell_type": "code",
   "execution_count": null,
   "metadata": {},
   "outputs": [],
   "source": [
    "%save -f gml"
   ]
  },
  {
   "cell_type": "code",
   "execution_count": null,
   "metadata": {},
   "outputs": [],
   "source": [
    "n = 0x12345678\n",
    "print(hex(n))\n",
    "n1 = (n & 0x000000FF) << 24\n",
    "n2 = (n & 0x0000FF00) << 8\n",
    "n3 = (n & 0x00FF0000) >> 8\n",
    "n4 = (n & 0xFF000000) >> 24\n",
    "ret = n1 | n2 | n3 | n4\n",
    "print(hex(ret))"
   ]
  },
  {
   "cell_type": "code",
   "execution_count": null,
   "metadata": {},
   "outputs": [],
   "source": [
    "%brk"
   ]
  },
  {
   "cell_type": "code",
   "execution_count": null,
   "metadata": {},
   "outputs": [],
   "source": [
    "import nle\n",
    "\n",
    "# AttributeError: 'Nethack' object has no attribute 'BL_MASK_SLIME'\n",
    "\n",
    "# dir(nle.nethack)\n",
    "nle.nethack.BL_MASK_SLIME"
   ]
  }
 ],
 "metadata": {
  "kernelspec": {
   "display_name": ".venv",
   "language": "python",
   "name": "python3"
  },
  "language_info": {
   "codemirror_mode": {
    "name": "ipython",
    "version": 3
   },
   "file_extension": ".py",
   "mimetype": "text/x-python",
   "name": "python",
   "nbconvert_exporter": "python",
   "pygments_lexer": "ipython3",
   "version": "3.11.9"
  }
 },
 "nbformat": 4,
 "nbformat_minor": 2
}
