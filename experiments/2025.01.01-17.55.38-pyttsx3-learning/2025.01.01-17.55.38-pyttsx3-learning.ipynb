{
 "cells": [
  {
   "cell_type": "markdown",
   "metadata": {},
   "source": [
    "__[pyttsx3 learning](https://github.com/apowers313/roc/blob/master/experiments/2025.01.01-17.55.38-pyttsx3-learning/2025.01.01-17.55.38-pyttsx3-learning.ipynb)__"
   ]
  },
  {
   "cell_type": "code",
   "execution_count": null,
   "metadata": {},
   "outputs": [],
   "source": [
    "!date"
   ]
  },
  {
   "cell_type": "code",
   "execution_count": null,
   "metadata": {},
   "outputs": [],
   "source": [
    "# save notebook path before we get started\n",
    "import os\n",
    "\n",
    "notebook_path = os.path.abspath(\"\")  # not sure if this or os.getcwd() is more reliable"
   ]
  },
  {
   "cell_type": "markdown",
   "metadata": {},
   "source": [
    "# pyttsx3"
   ]
  },
  {
   "cell_type": "code",
   "execution_count": 7,
   "metadata": {},
   "outputs": [],
   "source": [
    "import pyttsx3\n",
    "\n",
    "engine = pyttsx3.init()\n",
    "engine.save_to_file(\"Miles pay attention to me\", \"miles3.mp3\")\n",
    "engine.runAndWait()"
   ]
  },
  {
   "cell_type": "markdown",
   "metadata": {},
   "source": [
    "# gTTS"
   ]
  },
  {
   "cell_type": "code",
   "execution_count": 11,
   "metadata": {},
   "outputs": [],
   "source": [
    "from gtts import gTTS\n",
    "\n",
    "tts = gTTS(\"hello governor, would you care for a spot of tea\", lang=\"en\", tld=\"co.uk\")\n",
    "tts.save(\"uk.mp3\")"
   ]
  },
  {
   "cell_type": "markdown",
   "metadata": {},
   "source": [
    "# gruut"
   ]
  },
  {
   "cell_type": "code",
   "execution_count": 1,
   "metadata": {},
   "outputs": [
    {
     "name": "stdout",
     "output_type": "stream",
     "text": [
      "He h ˈi\n",
      "wound w ˈaʊ n d\n",
      "it ˈɪ t\n",
      "around ɚ ˈaʊ n d\n",
      "the ð ə\n",
      "wound w ˈu n d\n",
      ", |\n",
      "saying s ˈeɪ ɪ ŋ\n",
      "I ˈaɪ\n",
      "read ɹ ˈɛ d\n",
      "it ˈɪ t\n",
      "was w ə z\n",
      "ten t ˈɛ n\n",
      "dollars d ˈɑ l ɚ z\n",
      "to t ə\n",
      "read ɹ ˈi d\n",
      ". ‖\n"
     ]
    }
   ],
   "source": [
    "from gruut import sentences\n",
    "\n",
    "text = 'He wound it around the wound, saying \"I read it was $10 to read.\"'\n",
    "\n",
    "for sent in sentences(text, lang=\"en-us\"):\n",
    "    for word in sent:\n",
    "        if word.phonemes:\n",
    "            print(word.text, *word.phonemes)"
   ]
  },
  {
   "cell_type": "code",
   "execution_count": 2,
   "metadata": {},
   "outputs": [
    {
     "name": "stdout",
     "output_type": "stream",
     "text": [
      "The ð ə\n",
      "kobold k ˈoʊ b ˈɑ l d\n",
      "hits h ˈɪ t s\n",
      "! ‖\n"
     ]
    }
   ],
   "source": [
    "from gruut import sentences\n",
    "\n",
    "text = \"The kobold hits!\"\n",
    "\n",
    "for sent in sentences(text, lang=\"en-us\"):\n",
    "    for word in sent:\n",
    "        if word.phonemes:\n",
    "            print(word.text, *word.phonemes)"
   ]
  }
 ],
 "metadata": {
  "kernelspec": {
   "display_name": ".venv",
   "language": "python",
   "name": "python3"
  },
  "language_info": {
   "codemirror_mode": {
    "name": "ipython",
    "version": 3
   },
   "file_extension": ".py",
   "mimetype": "text/x-python",
   "name": "python",
   "nbconvert_exporter": "python",
   "pygments_lexer": "ipython3",
   "version": "3.11.10"
  }
 },
 "nbformat": 4,
 "nbformat_minor": 2
}
