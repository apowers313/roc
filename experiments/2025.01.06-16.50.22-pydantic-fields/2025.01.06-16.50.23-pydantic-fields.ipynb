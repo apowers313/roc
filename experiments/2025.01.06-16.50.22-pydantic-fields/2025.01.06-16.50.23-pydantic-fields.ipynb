{
 "cells": [
  {
   "cell_type": "markdown",
   "metadata": {},
   "source": [
    "__[pydantic fields](https://github.com/apowers313/roc/blob/master/experiments/2025.01.06-16.50.23-pydantic-fields/2025.01.06-16.50.23-pydantic-fields.ipynb)__"
   ]
  },
  {
   "cell_type": "code",
   "execution_count": null,
   "metadata": {},
   "outputs": [],
   "source": [
    "!date"
   ]
  },
  {
   "cell_type": "code",
   "execution_count": null,
   "metadata": {},
   "outputs": [],
   "source": [
    "# save notebook path before we get started\n",
    "import os\n",
    "\n",
    "notebook_path = os.path.abspath(\"\")  # not sure if this or os.getcwd() is more reliable"
   ]
  },
  {
   "cell_type": "markdown",
   "metadata": {},
   "source": [
    "# Enumerating Fields"
   ]
  },
  {
   "cell_type": "code",
   "execution_count": 2,
   "metadata": {},
   "outputs": [
    {
     "name": "stdout",
     "output_type": "stream",
     "text": [
      "ClsOne fields {'name': FieldInfo(annotation=str, required=True)}\n",
      "ClsTwo fields {'name': FieldInfo(annotation=str, required=True), 'age': FieldInfo(annotation=int, required=True)}\n"
     ]
    }
   ],
   "source": [
    "from pydantic import BaseModel\n",
    "\n",
    "\n",
    "class ClsOne(BaseModel):\n",
    "    name: str\n",
    "\n",
    "\n",
    "class ClsTwo(ClsOne):\n",
    "    age: int\n",
    "\n",
    "\n",
    "print(\"ClsOne fields\", ClsOne.model_fields)\n",
    "print(\"ClsTwo fields\", ClsTwo.model_fields)"
   ]
  },
  {
   "cell_type": "markdown",
   "metadata": {},
   "source": [
    "# Setting Field Default"
   ]
  },
  {
   "cell_type": "code",
   "execution_count": 10,
   "metadata": {},
   "outputs": [
    {
     "name": "stdout",
     "output_type": "stream",
     "text": [
      "two: name='foo'\n",
      "two name: foo\n"
     ]
    }
   ],
   "source": [
    "from pydantic import BaseModel, Field\n",
    "\n",
    "\n",
    "class ClsOne(BaseModel):\n",
    "    name: str\n",
    "\n",
    "\n",
    "class ClsTwo(ClsOne):\n",
    "    name: str = Field(default=\"foo\")\n",
    "\n",
    "\n",
    "two = ClsTwo()\n",
    "print(\"two:\", two)\n",
    "print(\"two name:\", two.name)"
   ]
  },
  {
   "cell_type": "markdown",
   "metadata": {},
   "source": [
    "# Getting Field Default"
   ]
  },
  {
   "cell_type": "code",
   "execution_count": 35,
   "metadata": {},
   "outputs": [
    {
     "name": "stdout",
     "output_type": "stream",
     "text": [
      "ClsOne fields {'name': FieldInfo(annotation=str, required=False, default='foo'), 'timestamp': FieldInfo(annotation=datetime, required=False, default_factory=now, frozen=True)}\n",
      "ClsTwo fields {'name': FieldInfo(annotation=str, required=False, default='foo'), 'timestamp': FieldInfo(annotation=datetime, required=False, default_factory=now, frozen=True), 'age': FieldInfo(annotation=int, required=False, default=42)}\n",
      "ClsTwo fields age annotation=int required=False default=42\n",
      "ClsTwo fields age class type FieldInfo\n",
      "ClsTwo fields age default 42\n",
      "ClsTwo fields age default 42\n",
      "ClsTwo fields datetime default 2025-01-06 21:25:59.761942\n"
     ]
    },
    {
     "ename": "ValidationError",
     "evalue": "1 validation error for ClsThree\ntimestamp\n  Field is frozen [type=frozen_field, input_value=datetime.datetime(1969, 12, 31, 16, 0), input_type=datetime]\n    For further information visit https://errors.pydantic.dev/2.10/v/frozen_field",
     "output_type": "error",
     "traceback": [
      "\u001b[0;31m---------------------------------------------------------------------------\u001b[0m",
      "\u001b[0;31mValidationError\u001b[0m                           Traceback (most recent call last)",
      "Cell \u001b[0;32mIn[35], line 25\u001b[0m\n\u001b[1;32m     23\u001b[0m \u001b[38;5;28mprint\u001b[39m(\u001b[38;5;124m\"\u001b[39m\u001b[38;5;124mClsTwo fields datetime default\u001b[39m\u001b[38;5;124m\"\u001b[39m, ClsTwo\u001b[38;5;241m.\u001b[39mmodel_fields[\u001b[38;5;124m\"\u001b[39m\u001b[38;5;124mtimestamp\u001b[39m\u001b[38;5;124m\"\u001b[39m]\u001b[38;5;241m.\u001b[39mget_default(call_default_factory\u001b[38;5;241m=\u001b[39m\u001b[38;5;28;01mTrue\u001b[39;00m))\n\u001b[1;32m     24\u001b[0m three \u001b[38;5;241m=\u001b[39m ClsThree()\n\u001b[0;32m---> 25\u001b[0m \u001b[43mthree\u001b[49m\u001b[38;5;241;43m.\u001b[39;49m\u001b[43mtimestamp\u001b[49m \u001b[38;5;241m=\u001b[39m datetime\u001b[38;5;241m.\u001b[39mfromtimestamp(\u001b[38;5;241m0\u001b[39m)\n\u001b[1;32m     26\u001b[0m \u001b[38;5;28mprint\u001b[39m(\u001b[38;5;124m\"\u001b[39m\u001b[38;5;124mthree\u001b[39m\u001b[38;5;124m\"\u001b[39m, three)\n\u001b[1;32m     27\u001b[0m one \u001b[38;5;241m=\u001b[39m ClsOne()\n",
      "File \u001b[0;32m~/Projects/roc/.venv/lib/python3.11/site-packages/pydantic/main.py:911\u001b[0m, in \u001b[0;36mBaseModel.__setattr__\u001b[0;34m(self, name, value)\u001b[0m\n\u001b[1;32m    908\u001b[0m             \u001b[38;5;28mself\u001b[39m\u001b[38;5;241m.\u001b[39m__pydantic_private__[name] \u001b[38;5;241m=\u001b[39m value\n\u001b[1;32m    909\u001b[0m     \u001b[38;5;28;01mreturn\u001b[39;00m\n\u001b[0;32m--> 911\u001b[0m \u001b[38;5;28;43mself\u001b[39;49m\u001b[38;5;241;43m.\u001b[39;49m\u001b[43m_check_frozen\u001b[49m\u001b[43m(\u001b[49m\u001b[43mname\u001b[49m\u001b[43m,\u001b[49m\u001b[43m \u001b[49m\u001b[43mvalue\u001b[49m\u001b[43m)\u001b[49m\n\u001b[1;32m    913\u001b[0m attr \u001b[38;5;241m=\u001b[39m \u001b[38;5;28mgetattr\u001b[39m(\u001b[38;5;28mself\u001b[39m\u001b[38;5;241m.\u001b[39m\u001b[38;5;18m__class__\u001b[39m, name, \u001b[38;5;28;01mNone\u001b[39;00m)\n\u001b[1;32m    914\u001b[0m \u001b[38;5;66;03m# NOTE: We currently special case properties and `cached_property`, but we might need\u001b[39;00m\n\u001b[1;32m    915\u001b[0m \u001b[38;5;66;03m# to generalize this to all data/non-data descriptors at some point. For non-data descriptors\u001b[39;00m\n\u001b[1;32m    916\u001b[0m \u001b[38;5;66;03m# (such as `cached_property`), it isn't obvious though. `cached_property` caches the value\u001b[39;00m\n\u001b[1;32m    917\u001b[0m \u001b[38;5;66;03m# to the instance's `__dict__`, but other non-data descriptors might do things differently.\u001b[39;00m\n",
      "File \u001b[0;32m~/Projects/roc/.venv/lib/python3.11/site-packages/pydantic/main.py:986\u001b[0m, in \u001b[0;36mBaseModel._check_frozen\u001b[0;34m(self, name, value)\u001b[0m\n\u001b[1;32m    980\u001b[0m     \u001b[38;5;28;01mreturn\u001b[39;00m\n\u001b[1;32m    981\u001b[0m error: pydantic_core\u001b[38;5;241m.\u001b[39mInitErrorDetails \u001b[38;5;241m=\u001b[39m {\n\u001b[1;32m    982\u001b[0m     \u001b[38;5;124m'\u001b[39m\u001b[38;5;124mtype\u001b[39m\u001b[38;5;124m'\u001b[39m: typ,\n\u001b[1;32m    983\u001b[0m     \u001b[38;5;124m'\u001b[39m\u001b[38;5;124mloc\u001b[39m\u001b[38;5;124m'\u001b[39m: (name,),\n\u001b[1;32m    984\u001b[0m     \u001b[38;5;124m'\u001b[39m\u001b[38;5;124minput\u001b[39m\u001b[38;5;124m'\u001b[39m: value,\n\u001b[1;32m    985\u001b[0m }\n\u001b[0;32m--> 986\u001b[0m \u001b[38;5;28;01mraise\u001b[39;00m pydantic_core\u001b[38;5;241m.\u001b[39mValidationError\u001b[38;5;241m.\u001b[39mfrom_exception_data(\u001b[38;5;28mself\u001b[39m\u001b[38;5;241m.\u001b[39m\u001b[38;5;18m__class__\u001b[39m\u001b[38;5;241m.\u001b[39m\u001b[38;5;18m__name__\u001b[39m, [error])\n",
      "\u001b[0;31mValidationError\u001b[0m: 1 validation error for ClsThree\ntimestamp\n  Field is frozen [type=frozen_field, input_value=datetime.datetime(1969, 12, 31, 16, 0), input_type=datetime]\n    For further information visit https://errors.pydantic.dev/2.10/v/frozen_field"
     ]
    }
   ],
   "source": [
    "from pydantic import BaseModel, Field\n",
    "from datetime import datetime\n",
    "\n",
    "\n",
    "class ClsOne(BaseModel):\n",
    "    name: str = \"foo\"\n",
    "    timestamp: datetime = Field(default_factory=datetime.now, frozen=True)\n",
    "\n",
    "\n",
    "class ClsTwo(ClsOne):\n",
    "    age: int = Field(default=42)\n",
    "\n",
    "\n",
    "class ClsThree(ClsTwo):\n",
    "    # timestamp: datetime = datetime.now()\n",
    "    pass\n",
    "\n",
    "\n",
    "print(\"ClsOne fields\", ClsOne.model_fields)\n",
    "print(\"ClsTwo fields\", ClsTwo.model_fields)\n",
    "print(\"ClsTwo fields age\", ClsTwo.model_fields[\"age\"])\n",
    "print(\"ClsTwo fields age class type\", ClsTwo.model_fields[\"age\"].__class__.__name__)\n",
    "print(\"ClsTwo fields age default\", ClsTwo.model_fields[\"age\"].default)\n",
    "print(\"ClsTwo fields age default\", ClsTwo.model_fields[\"age\"].get_default())\n",
    "print(\n",
    "    \"ClsTwo fields datetime default\",\n",
    "    ClsTwo.model_fields[\"timestamp\"].get_default(call_default_factory=True),\n",
    ")\n",
    "three = ClsThree()\n",
    "three.timestamp = datetime.fromtimestamp(0)\n",
    "print(\"three\", three)\n",
    "one = ClsOne()\n",
    "one.timestamp = datetime.fromtimestamp(100000)\n",
    "print(\"one\", one)"
   ]
  },
  {
   "cell_type": "code",
   "execution_count": 6,
   "metadata": {},
   "outputs": [
    {
     "name": "stdout",
     "output_type": "stream",
     "text": [
      "Node Subclass init: Foo\n",
      "cls labels False\n",
      "cls model_fields {'labels': FieldInfo(annotation=Union[set[str], NoneType], required=False, default=None), 'name': FieldInfo(annotation=str, required=False, default='Bob')}\n",
      "Node Subclass init: Bar\n",
      "cls labels False\n",
      "cls model_fields {'labels': FieldInfo(annotation=Union[set[str], NoneType], required=False, default=None), 'name': FieldInfo(annotation=str, required=False, default='Bob')}\n",
      "Node init: Bar\n",
      "Foo init\n",
      "Bar init\n",
      "bob Bob\n",
      "Node subclasses [<class '__main__.Foo'>]\n",
      "Foo subclasses [<class '__main__.Bar'>]\n",
      "Bar bases (<class '__main__.Foo'>,)\n",
      "Bar base <class '__main__.Foo'>\n",
      "Bar mro (<class '__main__.Bar'>, <class '__main__.Foo'>, <class '__main__.Node'>, <class 'pydantic.main.BaseModel'>, <class 'object'>)\n"
     ]
    }
   ],
   "source": [
    "from __future__ import annotations\n",
    "\n",
    "from pydantic import BaseModel, Field\n",
    "\n",
    "\n",
    "class Node(BaseModel):\n",
    "    labels: set[str] | None = None\n",
    "    name: str = \"Bob\"\n",
    "\n",
    "    def __init__(self) -> None:\n",
    "        super().__init__()\n",
    "        print(\"Node init:\", self.__class__.__name__)\n",
    "\n",
    "    def __init_subclass__(cls, **kwargs: Any) -> None:\n",
    "        super().__init_subclass__(**kwargs)\n",
    "        print(\"Node Subclass init:\", cls.__name__)\n",
    "        # cls.name = Field(default=\"Sam\")\n",
    "        # print(\"type hints\", get_type_hints(cls, include_extras=True))\n",
    "        # print(\"type hints\", cls.__annotations__)\n",
    "        # print(\"cls dict\", cls.__dict__)\n",
    "        print(\"cls labels\", hasattr(cls, \"labels\"))\n",
    "        print(\"cls model_fields\", cls.model_fields)\n",
    "\n",
    "\n",
    "class Foo(Node):\n",
    "    def __init__(self) -> None:\n",
    "        super().__init__()\n",
    "        print(\"Foo init\")\n",
    "\n",
    "\n",
    "class Bar(Foo):\n",
    "    def __init__(self) -> Node:\n",
    "        super().__init__()\n",
    "        print(\"Bar init\")\n",
    "\n",
    "\n",
    "b = Bar()\n",
    "print(\"bob\", b.name)\n",
    "print(\"Node subclasses\", Node.__subclasses__())\n",
    "print(\"Foo subclasses\", Foo.__subclasses__())\n",
    "print(\"Bar bases\", Bar.__bases__)\n",
    "print(\"Bar base\", Bar.__base__)\n",
    "print(\"Bar mro\", Bar.__mro__)"
   ]
  },
  {
   "cell_type": "code",
   "execution_count": 5,
   "metadata": {},
   "outputs": [
    {
     "name": "stdout",
     "output_type": "stream",
     "text": [
      "First Config foo=['testy']\n",
      "is list True\n",
      "\n",
      "\n",
      "Second Config: 1 validation error for Config\n",
      "foo\n",
      "  Field required [type=missing, input_value={}, input_type=dict]\n",
      "    For further information visit https://errors.pydantic.dev/2.10/v/missing\n",
      "\n",
      "\n",
      "Third Config foo=['testy']\n",
      "is list True\n",
      "\n",
      "\n",
      "Fourth Config: 1 validation error for Config\n",
      "foo\n",
      "  Input should be a valid list [type=list_type, input_value='[\"testy\"]', input_type=str]\n",
      "    For further information visit https://errors.pydantic.dev/2.10/v/list_type\n"
     ]
    }
   ],
   "source": [
    "import os\n",
    "\n",
    "from pydantic import BaseModel, ValidationError\n",
    "\n",
    "from pydantic_settings import BaseSettings, SettingsConfigDict\n",
    "\n",
    "class Config(BaseSettings):\n",
    "    model_config = SettingsConfigDict(env_prefix='my_prefix_', env_file=\".env\", extra=\"forbid\")\n",
    "    foo: list[str]\n",
    "\n",
    "try:\n",
    "    os.remove(\".env\")\n",
    "except Exception:\n",
    "    pass\n",
    "\n",
    "# first: try parsing a list from an environment variable with a prefix\n",
    "list_value = '[\"testy\"]'\n",
    "os.environ['my_prefix_foo'] = '[\"testy\"]'\n",
    "print(\"First Config\", Config())\n",
    "print(\"is list\", isinstance(Config().foo, list))\n",
    "# output:\n",
    "# First Config foo=['testy']\n",
    "# is list True\n",
    "del os.environ['my_prefix_foo']\n",
    "print(\"\\n\") \n",
    "\n",
    "# second: try parsing a list from an environment variable with a prefix\n",
    "list_value = '[\"testy\"]'\n",
    "os.environ['foo'] = '[\"testy\"]'\n",
    "try:\n",
    "    Config()\n",
    "except ValidationError as e:\n",
    "    print(\"Second Config:\", e)\n",
    "# output:\n",
    "# Second Config: 1 validation error for Config\n",
    "# foo\n",
    "#   Input should be a valid list [type=list_type, input_value='[\"testy\"]', input_type=str]\n",
    "#     For further information visit https://errors.pydantic.dev/2.10/v/list_type\n",
    "del os.environ['foo'] \n",
    "print(\"\\n\") \n",
    "\n",
    "# third: try parsing a list from a .env variable with a prefix\n",
    "with open(\".env\", \"w\") as file:\n",
    "    file.write(f\"my_prefix_foo={list_value}\")\n",
    "print(\"Third Config\", Config())\n",
    "print(\"is list\", isinstance(Config().foo, list))\n",
    "# output\n",
    "# Third Config foo=['testy']\n",
    "# is list True\n",
    "os.remove(\".env\")\n",
    "print(\"\\n\") \n",
    "\n",
    "# fourth: try parsing a list from a .env variable WITHOUT a prefix\n",
    "with open(\".env\", \"w\") as file:\n",
    "    file.write(f\"foo={list_value}\")\n",
    "try:\n",
    "    Config()\n",
    "except ValidationError as e:\n",
    "    print(\"Fourth Config:\", e)\n",
    "# Fourth Config: 1 validation error for Config\n",
    "# foo\n",
    "#   Input should be a valid list [type=list_type, input_value='[\"testy\"]', input_type=str]\n",
    "#     For further information visit https://errors.pydantic.dev/2.10/v/list_type\n",
    "os.remove(\".env\")\n"
   ]
  }
 ],
 "metadata": {
  "kernelspec": {
   "display_name": ".venv",
   "language": "python",
   "name": "python3"
  },
  "language_info": {
   "codemirror_mode": {
    "name": "ipython",
    "version": 3
   },
   "file_extension": ".py",
   "mimetype": "text/x-python",
   "name": "python",
   "nbconvert_exporter": "python",
   "pygments_lexer": "ipython3",
   "version": "3.13.1"
  }
 },
 "nbformat": 4,
 "nbformat_minor": 2
}
